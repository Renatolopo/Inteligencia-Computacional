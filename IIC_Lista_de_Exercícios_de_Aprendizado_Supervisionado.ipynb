{
  "nbformat": 4,
  "nbformat_minor": 0,
  "metadata": {
    "colab": {
      "name": "IIC - Lista de Exercícios de Aprendizado Supervisionado.ipynb",
      "provenance": [],
      "authorship_tag": "ABX9TyMIugSV19RvlygSdmLxZLm9",
      "include_colab_link": true
    },
    "kernelspec": {
      "name": "python3",
      "display_name": "Python 3"
    },
    "language_info": {
      "name": "python"
    }
  },
  "cells": [
    {
      "cell_type": "markdown",
      "metadata": {
        "id": "view-in-github",
        "colab_type": "text"
      },
      "source": [
        "<a href=\"https://colab.research.google.com/github/Renatolopo/Inteligencia-Computacional/blob/main/IIC_Lista_de_Exerc%C3%ADcios_de_Aprendizado_Supervisionado.ipynb\" target=\"_parent\"><img src=\"https://colab.research.google.com/assets/colab-badge.svg\" alt=\"Open In Colab\"/></a>"
      ]
    },
    {
      "cell_type": "markdown",
      "source": [
        "# Lista de Exercícios de Aprendizado Supervisionado\n",
        "**Aluno: Renato Lopo**"
      ],
      "metadata": {
        "id": "OLZZNeVMvdZR"
      }
    },
    {
      "cell_type": "markdown",
      "source": [
        "1. Problemas de Classificação\n",
        "\n",
        "\n",
        "Dados os seguintes bancos de dados:\n",
        "- Titanic ( 3 atributos descritivos, 2 Classes )\n",
        "- Iris (4 atributos descritivos, 3 classes)\n",
        "- Digits (X atributos descritivos, 10 classes)\n",
        "\n",
        "\n",
        "Dados os seguintes métodos de classificação: kNN, Naïve Bayes, Regressão Logística, Redes Neurais (MLP), SVM, Árvores de Decisão e Random Forests\n",
        "\n",
        "\n",
        "Pede-se:\n",
        "a) Localize a documentação de cada método na biblioteca Scikit-Learn, e descreva os principais parâmetros de cada método;\n",
        "b) Treine modelos de cada algoritmo para cada banco de dados usando Validação Cruzada e mostre os melhores parâmetros encontrados de cada modelo\n",
        "c) Mostre a Matriz de Confusão, Acurácia, Sensibilidade e  F1-Score de cada modelo para cada banco de dados\n",
        "\n",
        "\n",
        "\n",
        "\n",
        "\n",
        "2. Problemas de Regressão\n",
        "\n",
        "\n",
        "Dados os seguintes bancos de dados\n",
        "- Expectativa de Vida segundo a Organização Mundial de Saúde (https://www.kaggle.com/kumarajarshi/life-expectancy-who) ATENÇÃO: selecione apenas os registros referentes ao Brasil\n",
        "\n",
        "Dados os seguintes métodos de regressão: kNN,  GLM, Redes Neurais (MLP), SVM, Árvores de Regressão e Gradient Boosting\n",
        "\n",
        "Pede-se:\n",
        "a) Localize a documentação de cada método na biblioteca Scikit-Learn, e descreva os principais parâmetros de cada método;\n",
        "b) Treine modelos de cada algoritmo para cada banco de dados usando Validação Cruzada e mostre os melhores parâmetros encontrados de cada  modelo\n",
        "c) Mostre a Raiz do Erro Quadrático Médio (RMSE) e o Erro Percentual Absoluto Médio (MAPE) de cada modelo para cada banco de dados"
      ],
      "metadata": {
        "id": "ZgnugPElZKCL"
      }
    },
    {
      "cell_type": "markdown",
      "source": [
        "# Parte 1 - Problemas de Classificação"
      ],
      "metadata": {
        "id": "jGsZVtC5vhz7"
      }
    },
    {
      "cell_type": "markdown",
      "source": [
        "## 1 Importação das Bases e Pre-processamento"
      ],
      "metadata": {
        "id": "yqDjlhC5Zmbw"
      }
    },
    {
      "cell_type": "code",
      "execution_count": null,
      "metadata": {
        "id": "qMvu6NkRY_bN"
      },
      "outputs": [],
      "source": [
        "import pandas as pd"
      ]
    },
    {
      "cell_type": "code",
      "source": [
        "titanic = pd.read_csv('https://query.data.world/s/c2ixg24yogu6pgudqodbhn5ynrvdjr')\n",
        "titanic.head()"
      ],
      "metadata": {
        "colab": {
          "base_uri": "https://localhost:8080/",
          "height": 206
        },
        "id": "VG0JdZA0ZrNl",
        "outputId": "da9163bc-760c-4498-cbb8-c587f47ab113"
      },
      "execution_count": null,
      "outputs": [
        {
          "output_type": "execute_result",
          "data": {
            "text/html": [
              "\n",
              "  <div id=\"df-48f01cc2-8c45-4307-9d17-c558877733fc\">\n",
              "    <div class=\"colab-df-container\">\n",
              "      <div>\n",
              "<style scoped>\n",
              "    .dataframe tbody tr th:only-of-type {\n",
              "        vertical-align: middle;\n",
              "    }\n",
              "\n",
              "    .dataframe tbody tr th {\n",
              "        vertical-align: top;\n",
              "    }\n",
              "\n",
              "    .dataframe thead th {\n",
              "        text-align: right;\n",
              "    }\n",
              "</style>\n",
              "<table border=\"1\" class=\"dataframe\">\n",
              "  <thead>\n",
              "    <tr style=\"text-align: right;\">\n",
              "      <th></th>\n",
              "      <th>Nome</th>\n",
              "      <th>Classe</th>\n",
              "      <th>Idade</th>\n",
              "      <th>Sexo</th>\n",
              "      <th>Sobreviveu</th>\n",
              "    </tr>\n",
              "  </thead>\n",
              "  <tbody>\n",
              "    <tr>\n",
              "      <th>0</th>\n",
              "      <td>Allen, Miss Elisabeth Walton</td>\n",
              "      <td>1.0</td>\n",
              "      <td>29.00</td>\n",
              "      <td>F</td>\n",
              "      <td>1</td>\n",
              "    </tr>\n",
              "    <tr>\n",
              "      <th>1</th>\n",
              "      <td>Allison, Miss Helen Loraine</td>\n",
              "      <td>1.0</td>\n",
              "      <td>2.00</td>\n",
              "      <td>F</td>\n",
              "      <td>0</td>\n",
              "    </tr>\n",
              "    <tr>\n",
              "      <th>2</th>\n",
              "      <td>Allison, Mr Hudson Joshua Creighton</td>\n",
              "      <td>1.0</td>\n",
              "      <td>30.00</td>\n",
              "      <td>M</td>\n",
              "      <td>0</td>\n",
              "    </tr>\n",
              "    <tr>\n",
              "      <th>3</th>\n",
              "      <td>Allison, Mrs Hudson JC (Bessie Waldo Daniels)</td>\n",
              "      <td>1.0</td>\n",
              "      <td>25.00</td>\n",
              "      <td>F</td>\n",
              "      <td>0</td>\n",
              "    </tr>\n",
              "    <tr>\n",
              "      <th>4</th>\n",
              "      <td>Allison, Master Hudson Trevor</td>\n",
              "      <td>1.0</td>\n",
              "      <td>0.92</td>\n",
              "      <td>M</td>\n",
              "      <td>1</td>\n",
              "    </tr>\n",
              "  </tbody>\n",
              "</table>\n",
              "</div>\n",
              "      <button class=\"colab-df-convert\" onclick=\"convertToInteractive('df-48f01cc2-8c45-4307-9d17-c558877733fc')\"\n",
              "              title=\"Convert this dataframe to an interactive table.\"\n",
              "              style=\"display:none;\">\n",
              "        \n",
              "  <svg xmlns=\"http://www.w3.org/2000/svg\" height=\"24px\"viewBox=\"0 0 24 24\"\n",
              "       width=\"24px\">\n",
              "    <path d=\"M0 0h24v24H0V0z\" fill=\"none\"/>\n",
              "    <path d=\"M18.56 5.44l.94 2.06.94-2.06 2.06-.94-2.06-.94-.94-2.06-.94 2.06-2.06.94zm-11 1L8.5 8.5l.94-2.06 2.06-.94-2.06-.94L8.5 2.5l-.94 2.06-2.06.94zm10 10l.94 2.06.94-2.06 2.06-.94-2.06-.94-.94-2.06-.94 2.06-2.06.94z\"/><path d=\"M17.41 7.96l-1.37-1.37c-.4-.4-.92-.59-1.43-.59-.52 0-1.04.2-1.43.59L10.3 9.45l-7.72 7.72c-.78.78-.78 2.05 0 2.83L4 21.41c.39.39.9.59 1.41.59.51 0 1.02-.2 1.41-.59l7.78-7.78 2.81-2.81c.8-.78.8-2.07 0-2.86zM5.41 20L4 18.59l7.72-7.72 1.47 1.35L5.41 20z\"/>\n",
              "  </svg>\n",
              "      </button>\n",
              "      \n",
              "  <style>\n",
              "    .colab-df-container {\n",
              "      display:flex;\n",
              "      flex-wrap:wrap;\n",
              "      gap: 12px;\n",
              "    }\n",
              "\n",
              "    .colab-df-convert {\n",
              "      background-color: #E8F0FE;\n",
              "      border: none;\n",
              "      border-radius: 50%;\n",
              "      cursor: pointer;\n",
              "      display: none;\n",
              "      fill: #1967D2;\n",
              "      height: 32px;\n",
              "      padding: 0 0 0 0;\n",
              "      width: 32px;\n",
              "    }\n",
              "\n",
              "    .colab-df-convert:hover {\n",
              "      background-color: #E2EBFA;\n",
              "      box-shadow: 0px 1px 2px rgba(60, 64, 67, 0.3), 0px 1px 3px 1px rgba(60, 64, 67, 0.15);\n",
              "      fill: #174EA6;\n",
              "    }\n",
              "\n",
              "    [theme=dark] .colab-df-convert {\n",
              "      background-color: #3B4455;\n",
              "      fill: #D2E3FC;\n",
              "    }\n",
              "\n",
              "    [theme=dark] .colab-df-convert:hover {\n",
              "      background-color: #434B5C;\n",
              "      box-shadow: 0px 1px 3px 1px rgba(0, 0, 0, 0.15);\n",
              "      filter: drop-shadow(0px 1px 2px rgba(0, 0, 0, 0.3));\n",
              "      fill: #FFFFFF;\n",
              "    }\n",
              "  </style>\n",
              "\n",
              "      <script>\n",
              "        const buttonEl =\n",
              "          document.querySelector('#df-48f01cc2-8c45-4307-9d17-c558877733fc button.colab-df-convert');\n",
              "        buttonEl.style.display =\n",
              "          google.colab.kernel.accessAllowed ? 'block' : 'none';\n",
              "\n",
              "        async function convertToInteractive(key) {\n",
              "          const element = document.querySelector('#df-48f01cc2-8c45-4307-9d17-c558877733fc');\n",
              "          const dataTable =\n",
              "            await google.colab.kernel.invokeFunction('convertToInteractive',\n",
              "                                                     [key], {});\n",
              "          if (!dataTable) return;\n",
              "\n",
              "          const docLinkHtml = 'Like what you see? Visit the ' +\n",
              "            '<a target=\"_blank\" href=https://colab.research.google.com/notebooks/data_table.ipynb>data table notebook</a>'\n",
              "            + ' to learn more about interactive tables.';\n",
              "          element.innerHTML = '';\n",
              "          dataTable['output_type'] = 'display_data';\n",
              "          await google.colab.output.renderOutput(dataTable, element);\n",
              "          const docLink = document.createElement('div');\n",
              "          docLink.innerHTML = docLinkHtml;\n",
              "          element.appendChild(docLink);\n",
              "        }\n",
              "      </script>\n",
              "    </div>\n",
              "  </div>\n",
              "  "
            ],
            "text/plain": [
              "                                            Nome  Classe  ...  Sexo Sobreviveu\n",
              "0                   Allen, Miss Elisabeth Walton     1.0  ...     F          1\n",
              "1                    Allison, Miss Helen Loraine     1.0  ...     F          0\n",
              "2            Allison, Mr Hudson Joshua Creighton     1.0  ...     M          0\n",
              "3  Allison, Mrs Hudson JC (Bessie Waldo Daniels)     1.0  ...     F          0\n",
              "4                  Allison, Master Hudson Trevor     1.0  ...     M          1\n",
              "\n",
              "[5 rows x 5 columns]"
            ]
          },
          "metadata": {},
          "execution_count": 3
        }
      ]
    },
    {
      "cell_type": "code",
      "source": [
        "titanic = titanic.drop(columns=['Nome'])"
      ],
      "metadata": {
        "id": "e_A4teA0ocS9"
      },
      "execution_count": null,
      "outputs": []
    },
    {
      "cell_type": "code",
      "source": [
        "titanic = pd.get_dummies(titanic, columns=['Sexo'])"
      ],
      "metadata": {
        "id": "yjnyncFlopbt"
      },
      "execution_count": null,
      "outputs": []
    },
    {
      "cell_type": "code",
      "source": [
        "titanic = titanic.dropna()"
      ],
      "metadata": {
        "id": "tGQMPYFjss03"
      },
      "execution_count": null,
      "outputs": []
    },
    {
      "cell_type": "code",
      "source": [
        "titanic"
      ],
      "metadata": {
        "colab": {
          "base_uri": "https://localhost:8080/",
          "height": 424
        },
        "id": "4XnHalPGpbdy",
        "outputId": "2ebeebd7-f27b-42c2-dd56-21895cdc1ec0"
      },
      "execution_count": null,
      "outputs": [
        {
          "output_type": "execute_result",
          "data": {
            "text/html": [
              "\n",
              "  <div id=\"df-f80757d0-681f-4fb4-b322-0380f9806909\">\n",
              "    <div class=\"colab-df-container\">\n",
              "      <div>\n",
              "<style scoped>\n",
              "    .dataframe tbody tr th:only-of-type {\n",
              "        vertical-align: middle;\n",
              "    }\n",
              "\n",
              "    .dataframe tbody tr th {\n",
              "        vertical-align: top;\n",
              "    }\n",
              "\n",
              "    .dataframe thead th {\n",
              "        text-align: right;\n",
              "    }\n",
              "</style>\n",
              "<table border=\"1\" class=\"dataframe\">\n",
              "  <thead>\n",
              "    <tr style=\"text-align: right;\">\n",
              "      <th></th>\n",
              "      <th>Classe</th>\n",
              "      <th>Idade</th>\n",
              "      <th>Sobreviveu</th>\n",
              "      <th>Sexo_F</th>\n",
              "      <th>Sexo_M</th>\n",
              "    </tr>\n",
              "  </thead>\n",
              "  <tbody>\n",
              "    <tr>\n",
              "      <th>0</th>\n",
              "      <td>1.0</td>\n",
              "      <td>29.00</td>\n",
              "      <td>1</td>\n",
              "      <td>1</td>\n",
              "      <td>0</td>\n",
              "    </tr>\n",
              "    <tr>\n",
              "      <th>1</th>\n",
              "      <td>1.0</td>\n",
              "      <td>2.00</td>\n",
              "      <td>0</td>\n",
              "      <td>1</td>\n",
              "      <td>0</td>\n",
              "    </tr>\n",
              "    <tr>\n",
              "      <th>2</th>\n",
              "      <td>1.0</td>\n",
              "      <td>30.00</td>\n",
              "      <td>0</td>\n",
              "      <td>0</td>\n",
              "      <td>1</td>\n",
              "    </tr>\n",
              "    <tr>\n",
              "      <th>3</th>\n",
              "      <td>1.0</td>\n",
              "      <td>25.00</td>\n",
              "      <td>0</td>\n",
              "      <td>1</td>\n",
              "      <td>0</td>\n",
              "    </tr>\n",
              "    <tr>\n",
              "      <th>4</th>\n",
              "      <td>1.0</td>\n",
              "      <td>0.92</td>\n",
              "      <td>1</td>\n",
              "      <td>0</td>\n",
              "      <td>1</td>\n",
              "    </tr>\n",
              "    <tr>\n",
              "      <th>...</th>\n",
              "      <td>...</td>\n",
              "      <td>...</td>\n",
              "      <td>...</td>\n",
              "      <td>...</td>\n",
              "      <td>...</td>\n",
              "    </tr>\n",
              "    <tr>\n",
              "      <th>1308</th>\n",
              "      <td>3.0</td>\n",
              "      <td>27.00</td>\n",
              "      <td>0</td>\n",
              "      <td>0</td>\n",
              "      <td>1</td>\n",
              "    </tr>\n",
              "    <tr>\n",
              "      <th>1309</th>\n",
              "      <td>3.0</td>\n",
              "      <td>26.00</td>\n",
              "      <td>0</td>\n",
              "      <td>0</td>\n",
              "      <td>1</td>\n",
              "    </tr>\n",
              "    <tr>\n",
              "      <th>1310</th>\n",
              "      <td>3.0</td>\n",
              "      <td>22.00</td>\n",
              "      <td>0</td>\n",
              "      <td>0</td>\n",
              "      <td>1</td>\n",
              "    </tr>\n",
              "    <tr>\n",
              "      <th>1311</th>\n",
              "      <td>3.0</td>\n",
              "      <td>24.00</td>\n",
              "      <td>0</td>\n",
              "      <td>0</td>\n",
              "      <td>1</td>\n",
              "    </tr>\n",
              "    <tr>\n",
              "      <th>1312</th>\n",
              "      <td>3.0</td>\n",
              "      <td>29.00</td>\n",
              "      <td>0</td>\n",
              "      <td>0</td>\n",
              "      <td>1</td>\n",
              "    </tr>\n",
              "  </tbody>\n",
              "</table>\n",
              "<p>756 rows × 5 columns</p>\n",
              "</div>\n",
              "      <button class=\"colab-df-convert\" onclick=\"convertToInteractive('df-f80757d0-681f-4fb4-b322-0380f9806909')\"\n",
              "              title=\"Convert this dataframe to an interactive table.\"\n",
              "              style=\"display:none;\">\n",
              "        \n",
              "  <svg xmlns=\"http://www.w3.org/2000/svg\" height=\"24px\"viewBox=\"0 0 24 24\"\n",
              "       width=\"24px\">\n",
              "    <path d=\"M0 0h24v24H0V0z\" fill=\"none\"/>\n",
              "    <path d=\"M18.56 5.44l.94 2.06.94-2.06 2.06-.94-2.06-.94-.94-2.06-.94 2.06-2.06.94zm-11 1L8.5 8.5l.94-2.06 2.06-.94-2.06-.94L8.5 2.5l-.94 2.06-2.06.94zm10 10l.94 2.06.94-2.06 2.06-.94-2.06-.94-.94-2.06-.94 2.06-2.06.94z\"/><path d=\"M17.41 7.96l-1.37-1.37c-.4-.4-.92-.59-1.43-.59-.52 0-1.04.2-1.43.59L10.3 9.45l-7.72 7.72c-.78.78-.78 2.05 0 2.83L4 21.41c.39.39.9.59 1.41.59.51 0 1.02-.2 1.41-.59l7.78-7.78 2.81-2.81c.8-.78.8-2.07 0-2.86zM5.41 20L4 18.59l7.72-7.72 1.47 1.35L5.41 20z\"/>\n",
              "  </svg>\n",
              "      </button>\n",
              "      \n",
              "  <style>\n",
              "    .colab-df-container {\n",
              "      display:flex;\n",
              "      flex-wrap:wrap;\n",
              "      gap: 12px;\n",
              "    }\n",
              "\n",
              "    .colab-df-convert {\n",
              "      background-color: #E8F0FE;\n",
              "      border: none;\n",
              "      border-radius: 50%;\n",
              "      cursor: pointer;\n",
              "      display: none;\n",
              "      fill: #1967D2;\n",
              "      height: 32px;\n",
              "      padding: 0 0 0 0;\n",
              "      width: 32px;\n",
              "    }\n",
              "\n",
              "    .colab-df-convert:hover {\n",
              "      background-color: #E2EBFA;\n",
              "      box-shadow: 0px 1px 2px rgba(60, 64, 67, 0.3), 0px 1px 3px 1px rgba(60, 64, 67, 0.15);\n",
              "      fill: #174EA6;\n",
              "    }\n",
              "\n",
              "    [theme=dark] .colab-df-convert {\n",
              "      background-color: #3B4455;\n",
              "      fill: #D2E3FC;\n",
              "    }\n",
              "\n",
              "    [theme=dark] .colab-df-convert:hover {\n",
              "      background-color: #434B5C;\n",
              "      box-shadow: 0px 1px 3px 1px rgba(0, 0, 0, 0.15);\n",
              "      filter: drop-shadow(0px 1px 2px rgba(0, 0, 0, 0.3));\n",
              "      fill: #FFFFFF;\n",
              "    }\n",
              "  </style>\n",
              "\n",
              "      <script>\n",
              "        const buttonEl =\n",
              "          document.querySelector('#df-f80757d0-681f-4fb4-b322-0380f9806909 button.colab-df-convert');\n",
              "        buttonEl.style.display =\n",
              "          google.colab.kernel.accessAllowed ? 'block' : 'none';\n",
              "\n",
              "        async function convertToInteractive(key) {\n",
              "          const element = document.querySelector('#df-f80757d0-681f-4fb4-b322-0380f9806909');\n",
              "          const dataTable =\n",
              "            await google.colab.kernel.invokeFunction('convertToInteractive',\n",
              "                                                     [key], {});\n",
              "          if (!dataTable) return;\n",
              "\n",
              "          const docLinkHtml = 'Like what you see? Visit the ' +\n",
              "            '<a target=\"_blank\" href=https://colab.research.google.com/notebooks/data_table.ipynb>data table notebook</a>'\n",
              "            + ' to learn more about interactive tables.';\n",
              "          element.innerHTML = '';\n",
              "          dataTable['output_type'] = 'display_data';\n",
              "          await google.colab.output.renderOutput(dataTable, element);\n",
              "          const docLink = document.createElement('div');\n",
              "          docLink.innerHTML = docLinkHtml;\n",
              "          element.appendChild(docLink);\n",
              "        }\n",
              "      </script>\n",
              "    </div>\n",
              "  </div>\n",
              "  "
            ],
            "text/plain": [
              "      Classe  Idade  Sobreviveu  Sexo_F  Sexo_M\n",
              "0        1.0  29.00           1       1       0\n",
              "1        1.0   2.00           0       1       0\n",
              "2        1.0  30.00           0       0       1\n",
              "3        1.0  25.00           0       1       0\n",
              "4        1.0   0.92           1       0       1\n",
              "...      ...    ...         ...     ...     ...\n",
              "1308     3.0  27.00           0       0       1\n",
              "1309     3.0  26.00           0       0       1\n",
              "1310     3.0  22.00           0       0       1\n",
              "1311     3.0  24.00           0       0       1\n",
              "1312     3.0  29.00           0       0       1\n",
              "\n",
              "[756 rows x 5 columns]"
            ]
          },
          "metadata": {},
          "execution_count": 8
        }
      ]
    },
    {
      "cell_type": "code",
      "source": [
        "iris = pd.read_csv('https://archive.ics.uci.edu/ml/machine-learning-databases/iris/iris.data', \n",
        "                      names=[\"sepal_length\",\"sepal_width\", \"petal_length\", \"petal_width\", \"class\"])\n",
        "\n",
        "iris.head()"
      ],
      "metadata": {
        "colab": {
          "base_uri": "https://localhost:8080/",
          "height": 206
        },
        "id": "jE69HXBzZ11l",
        "outputId": "1a49f0eb-c331-4e30-c265-6047a9ff33a2"
      },
      "execution_count": null,
      "outputs": [
        {
          "output_type": "execute_result",
          "data": {
            "text/html": [
              "\n",
              "  <div id=\"df-b619f8d8-cd71-4c50-96a7-9ab155f10f9d\">\n",
              "    <div class=\"colab-df-container\">\n",
              "      <div>\n",
              "<style scoped>\n",
              "    .dataframe tbody tr th:only-of-type {\n",
              "        vertical-align: middle;\n",
              "    }\n",
              "\n",
              "    .dataframe tbody tr th {\n",
              "        vertical-align: top;\n",
              "    }\n",
              "\n",
              "    .dataframe thead th {\n",
              "        text-align: right;\n",
              "    }\n",
              "</style>\n",
              "<table border=\"1\" class=\"dataframe\">\n",
              "  <thead>\n",
              "    <tr style=\"text-align: right;\">\n",
              "      <th></th>\n",
              "      <th>sepal_length</th>\n",
              "      <th>sepal_width</th>\n",
              "      <th>petal_length</th>\n",
              "      <th>petal_width</th>\n",
              "      <th>class</th>\n",
              "    </tr>\n",
              "  </thead>\n",
              "  <tbody>\n",
              "    <tr>\n",
              "      <th>0</th>\n",
              "      <td>5.1</td>\n",
              "      <td>3.5</td>\n",
              "      <td>1.4</td>\n",
              "      <td>0.2</td>\n",
              "      <td>Iris-setosa</td>\n",
              "    </tr>\n",
              "    <tr>\n",
              "      <th>1</th>\n",
              "      <td>4.9</td>\n",
              "      <td>3.0</td>\n",
              "      <td>1.4</td>\n",
              "      <td>0.2</td>\n",
              "      <td>Iris-setosa</td>\n",
              "    </tr>\n",
              "    <tr>\n",
              "      <th>2</th>\n",
              "      <td>4.7</td>\n",
              "      <td>3.2</td>\n",
              "      <td>1.3</td>\n",
              "      <td>0.2</td>\n",
              "      <td>Iris-setosa</td>\n",
              "    </tr>\n",
              "    <tr>\n",
              "      <th>3</th>\n",
              "      <td>4.6</td>\n",
              "      <td>3.1</td>\n",
              "      <td>1.5</td>\n",
              "      <td>0.2</td>\n",
              "      <td>Iris-setosa</td>\n",
              "    </tr>\n",
              "    <tr>\n",
              "      <th>4</th>\n",
              "      <td>5.0</td>\n",
              "      <td>3.6</td>\n",
              "      <td>1.4</td>\n",
              "      <td>0.2</td>\n",
              "      <td>Iris-setosa</td>\n",
              "    </tr>\n",
              "  </tbody>\n",
              "</table>\n",
              "</div>\n",
              "      <button class=\"colab-df-convert\" onclick=\"convertToInteractive('df-b619f8d8-cd71-4c50-96a7-9ab155f10f9d')\"\n",
              "              title=\"Convert this dataframe to an interactive table.\"\n",
              "              style=\"display:none;\">\n",
              "        \n",
              "  <svg xmlns=\"http://www.w3.org/2000/svg\" height=\"24px\"viewBox=\"0 0 24 24\"\n",
              "       width=\"24px\">\n",
              "    <path d=\"M0 0h24v24H0V0z\" fill=\"none\"/>\n",
              "    <path d=\"M18.56 5.44l.94 2.06.94-2.06 2.06-.94-2.06-.94-.94-2.06-.94 2.06-2.06.94zm-11 1L8.5 8.5l.94-2.06 2.06-.94-2.06-.94L8.5 2.5l-.94 2.06-2.06.94zm10 10l.94 2.06.94-2.06 2.06-.94-2.06-.94-.94-2.06-.94 2.06-2.06.94z\"/><path d=\"M17.41 7.96l-1.37-1.37c-.4-.4-.92-.59-1.43-.59-.52 0-1.04.2-1.43.59L10.3 9.45l-7.72 7.72c-.78.78-.78 2.05 0 2.83L4 21.41c.39.39.9.59 1.41.59.51 0 1.02-.2 1.41-.59l7.78-7.78 2.81-2.81c.8-.78.8-2.07 0-2.86zM5.41 20L4 18.59l7.72-7.72 1.47 1.35L5.41 20z\"/>\n",
              "  </svg>\n",
              "      </button>\n",
              "      \n",
              "  <style>\n",
              "    .colab-df-container {\n",
              "      display:flex;\n",
              "      flex-wrap:wrap;\n",
              "      gap: 12px;\n",
              "    }\n",
              "\n",
              "    .colab-df-convert {\n",
              "      background-color: #E8F0FE;\n",
              "      border: none;\n",
              "      border-radius: 50%;\n",
              "      cursor: pointer;\n",
              "      display: none;\n",
              "      fill: #1967D2;\n",
              "      height: 32px;\n",
              "      padding: 0 0 0 0;\n",
              "      width: 32px;\n",
              "    }\n",
              "\n",
              "    .colab-df-convert:hover {\n",
              "      background-color: #E2EBFA;\n",
              "      box-shadow: 0px 1px 2px rgba(60, 64, 67, 0.3), 0px 1px 3px 1px rgba(60, 64, 67, 0.15);\n",
              "      fill: #174EA6;\n",
              "    }\n",
              "\n",
              "    [theme=dark] .colab-df-convert {\n",
              "      background-color: #3B4455;\n",
              "      fill: #D2E3FC;\n",
              "    }\n",
              "\n",
              "    [theme=dark] .colab-df-convert:hover {\n",
              "      background-color: #434B5C;\n",
              "      box-shadow: 0px 1px 3px 1px rgba(0, 0, 0, 0.15);\n",
              "      filter: drop-shadow(0px 1px 2px rgba(0, 0, 0, 0.3));\n",
              "      fill: #FFFFFF;\n",
              "    }\n",
              "  </style>\n",
              "\n",
              "      <script>\n",
              "        const buttonEl =\n",
              "          document.querySelector('#df-b619f8d8-cd71-4c50-96a7-9ab155f10f9d button.colab-df-convert');\n",
              "        buttonEl.style.display =\n",
              "          google.colab.kernel.accessAllowed ? 'block' : 'none';\n",
              "\n",
              "        async function convertToInteractive(key) {\n",
              "          const element = document.querySelector('#df-b619f8d8-cd71-4c50-96a7-9ab155f10f9d');\n",
              "          const dataTable =\n",
              "            await google.colab.kernel.invokeFunction('convertToInteractive',\n",
              "                                                     [key], {});\n",
              "          if (!dataTable) return;\n",
              "\n",
              "          const docLinkHtml = 'Like what you see? Visit the ' +\n",
              "            '<a target=\"_blank\" href=https://colab.research.google.com/notebooks/data_table.ipynb>data table notebook</a>'\n",
              "            + ' to learn more about interactive tables.';\n",
              "          element.innerHTML = '';\n",
              "          dataTable['output_type'] = 'display_data';\n",
              "          await google.colab.output.renderOutput(dataTable, element);\n",
              "          const docLink = document.createElement('div');\n",
              "          docLink.innerHTML = docLinkHtml;\n",
              "          element.appendChild(docLink);\n",
              "        }\n",
              "      </script>\n",
              "    </div>\n",
              "  </div>\n",
              "  "
            ],
            "text/plain": [
              "   sepal_length  sepal_width  petal_length  petal_width        class\n",
              "0           5.1          3.5           1.4          0.2  Iris-setosa\n",
              "1           4.9          3.0           1.4          0.2  Iris-setosa\n",
              "2           4.7          3.2           1.3          0.2  Iris-setosa\n",
              "3           4.6          3.1           1.5          0.2  Iris-setosa\n",
              "4           5.0          3.6           1.4          0.2  Iris-setosa"
            ]
          },
          "metadata": {},
          "execution_count": 9
        }
      ]
    },
    {
      "cell_type": "code",
      "source": [
        "iris['class'].unique()"
      ],
      "metadata": {
        "colab": {
          "base_uri": "https://localhost:8080/"
        },
        "id": "nf5TiOOk5J7r",
        "outputId": "0bc567a1-0d15-4c22-ba47-6a55625e3c45"
      },
      "execution_count": null,
      "outputs": [
        {
          "output_type": "execute_result",
          "data": {
            "text/plain": [
              "array(['Iris-setosa', 'Iris-versicolor', 'Iris-virginica'], dtype=object)"
            ]
          },
          "metadata": {},
          "execution_count": 10
        }
      ]
    },
    {
      "cell_type": "code",
      "source": [
        "def get_class(val):\n",
        "  if val == 'Iris-setosa':\n",
        "    return 1\n",
        "  elif val == 'Iris-versicolor':\n",
        "    return 2\n",
        "  else:\n",
        "    return 3\n",
        "\n",
        "# converte a coluna class para numeros\n",
        "iris['class'] = iris['class'].apply(get_class)"
      ],
      "metadata": {
        "id": "_nuNf7Sb5Blv"
      },
      "execution_count": null,
      "outputs": []
    },
    {
      "cell_type": "code",
      "source": [
        "from sklearn.datasets import load_digits\n",
        "import matplotlib.pyplot as plt\n",
        "\n",
        "digits = load_digits()\n",
        "\n",
        "_, ax = plt.subplots(5, 2, figsize=(10,5))\n",
        "\n",
        "plt.gray() \n",
        "for i in range(0,5):\n",
        "  for j in range(0,2):\n",
        "    ax[i][j].matshow(digits.images[j  + i*2 ]) \n",
        "plt.tight_layout()"
      ],
      "metadata": {
        "colab": {
          "base_uri": "https://localhost:8080/",
          "height": 369
        },
        "id": "00YlMrfJasjv",
        "outputId": "b3bdea71-73e0-42a2-b381-ecd91a903ea9"
      },
      "execution_count": null,
      "outputs": [
        {
          "output_type": "display_data",
          "data": {
            "image/png": "[encoded data removed]",
            "text/plain": [
              "<Figure size 720x360 with 10 Axes>"
            ]
          },
          "metadata": {
            "needs_background": "light"
          }
        }
      ]
    },
    {
      "cell_type": "markdown",
      "source": [
        "## Modelos"
      ],
      "metadata": {
        "id": "BiXapG-1bhU_"
      }
    },
    {
      "cell_type": "markdown",
      "source": [
        "## 2 KNN\n",
        "**n_neighbors:** Número de vizinhos a serem usados por padrão é usado 5.\n",
        "\n",
        "**weights:** Função de peso usada na previsão. Valores possíveis:\n",
        "* 'uniform':  pesos uniformes. Todos os pontos em cada vizinhança são ponderados igualmente.\n",
        "* 'distance': pontos de peso pelo inverso de sua distância. neste caso, os vizinhos mais próximos de um ponto de consulta terão uma influência maior do que os vizinhos mais distantes.\n",
        "* 'callable': uma função definida pelo usuário que aceita uma matriz de distâncias e retorna uma matriz da mesma forma contendo os pesos.\n",
        "\n",
        "**algorithm:** {'auto', 'ball_tree', 'kd_tree', 'brute'}, default='auto'\n",
        "Algoritmo usado para calcular os vizinhos mais próximos:\n",
        "\n",
        "* 'ball_tree' usaráBallTree\n",
        "\n",
        "* 'kd_tree' usaráKDTree\n",
        "\n",
        "* 'brute' usará uma pesquisa de força bruta.\n",
        "\n",
        "* 'auto' tentará decidir o algoritmo mais apropriado com base nos valores passados ​​para o fitmétodo.\n",
        "\n",
        "Nota: o ajuste na entrada esparsa substituirá a configuração deste parâmetro, usando força bruta.\n",
        "\n",
        "**leaf_size:** int, padrão=30\n",
        "Tamanho da folha passado para BallTree ou KDTree. Isso pode afetar a velocidade da construção e da consulta, bem como a memória necessária para armazenar a árvore. O valor ótimo depende da natureza do problema.\n",
        "\n",
        "**p:** int, padrão=2\n",
        "Parâmetro de potência para a métrica Minkowski. Quando p = 1, isso é equivalente a usar distância_manhattan (l1) e distância_euclidiana (l2) para p = 2. Para p arbitrário, é usado distância_minkowski (l_p).\n",
        "\n",
        "**str métrica:** ou callable, default='minkowski'\n",
        "A métrica de distância a ser usada para a árvore. A métrica padrão é minkowski, e com p=2 é equivalente à métrica euclidiana padrão. Para obter uma lista de métricas disponíveis, consulte a documentação do DistanceMetric. Se a métrica for “pré-calculada”, assume-se que X é uma matriz de distância e deve ser quadrada durante o ajuste. X pode ser um grafo esparso , caso em que apenas elementos “diferentes de zero” podem ser considerados vizinhos.\n",
        "\n",
        "**metric_params:** dict, default=Nenhum\n",
        "Argumentos de palavra-chave adicionais para a função de métrica.\n",
        "\n",
        "**n_jobs:** int, default=Nenhum\n",
        "O número de trabalhos paralelos a serem executados para pesquisa de vizinhos. Nonesignifica 1 a menos que em um joblib.parallel_backendcontexto. -1significa usar todos os processadores. Consulte o Glossário para obter mais detalhes. Não afeta o fitmétodo.\n"
      ],
      "metadata": {
        "id": "ZAg5YDzKbm7e"
      }
    },
    {
      "cell_type": "code",
      "source": [
        "from sklearn.model_selection import train_test_split \n",
        "def get_xy_titanic():\n",
        "  y = titanic['Sobreviveu']\n",
        "  X = titanic.drop(columns=['Sobreviveu'])\n",
        "  return train_test_split(X,y,test_size=0.20,random_state=22,stratify=y)\n",
        "\n",
        "def get_xy_iris():\n",
        "  y = iris['class']\n",
        "  X = iris.drop(columns=['class'])\n",
        "  return train_test_split(X,y,test_size=0.20,random_state=22,stratify=y)\n",
        "\n",
        "def get_xy_digits(): \n",
        "  y = digits.target\n",
        "  X = digits.data\n",
        "  return train_test_split(X,y,test_size=0.20,random_state=22,stratify=y)"
      ],
      "metadata": {
        "id": "XYYVyojHryF4"
      },
      "execution_count": null,
      "outputs": []
    },
    {
      "cell_type": "markdown",
      "source": [
        "### 2.1 KNN titanic"
      ],
      "metadata": {
        "id": "_AykyYfYrJsx"
      }
    },
    {
      "cell_type": "code",
      "source": [
        "from sklearn.neighbors import KNeighborsClassifier\n",
        "from sklearn.metrics import accuracy_score"
      ],
      "metadata": {
        "id": "lDxC-ifnbAc4"
      },
      "execution_count": null,
      "outputs": []
    },
    {
      "cell_type": "code",
      "source": [
        "# validação cruzada\n",
        "from sklearn.model_selection import cross_val_score\n",
        "knn = KNeighborsClassifier(n_neighbors=3)\n",
        "scores = cross_val_score(knn, titanic.drop(columns=['Sobreviveu']), titanic['Sobreviveu'], cv=5, scoring='accuracy')\n",
        "scores"
      ],
      "metadata": {
        "colab": {
          "base_uri": "https://localhost:8080/"
        },
        "id": "ilxeEw0YteDp",
        "outputId": "271c54b9-5b74-4384-c8e5-33052a1d5a3f"
      },
      "execution_count": null,
      "outputs": [
        {
          "output_type": "execute_result",
          "data": {
            "text/plain": [
              "array([0.625     , 0.77483444, 0.81456954, 0.73509934, 0.62913907])"
            ]
          },
          "metadata": {},
          "execution_count": 13
        }
      ]
    },
    {
      "cell_type": "code",
      "source": [
        "X_train, X_test, y_train, y_test = get_xy_titanic()"
      ],
      "metadata": {
        "id": "25H350S6p7VK"
      },
      "execution_count": null,
      "outputs": []
    },
    {
      "cell_type": "code",
      "source": [
        "knn.fit(X_train,y_train)"
      ],
      "metadata": {
        "colab": {
          "base_uri": "https://localhost:8080/"
        },
        "id": "g1MS0K3ysR54",
        "outputId": "626b8ee7-62dc-4631-a5db-109ce1beb25a"
      },
      "execution_count": null,
      "outputs": [
        {
          "output_type": "execute_result",
          "data": {
            "text/plain": [
              "KNeighborsClassifier(n_neighbors=3)"
            ]
          },
          "metadata": {},
          "execution_count": 15
        }
      ]
    },
    {
      "cell_type": "code",
      "source": [
        "resultado = knn.predict(X_test)\n",
        "resultado"
      ],
      "metadata": {
        "colab": {
          "base_uri": "https://localhost:8080/"
        },
        "id": "L8HwKAP2skS6",
        "outputId": "c0f82c65-8c20-4611-9332-146d98067d26"
      },
      "execution_count": null,
      "outputs": [
        {
          "output_type": "execute_result",
          "data": {
            "text/plain": [
              "array([1, 1, 1, 1, 1, 0, 1, 0, 0, 0, 1, 0, 0, 0, 0, 0, 1, 1, 0, 1, 0, 1,\n",
              "       1, 0, 1, 1, 0, 0, 1, 1, 0, 0, 1, 0, 0, 0, 0, 0, 0, 0, 0, 0, 0, 1,\n",
              "       0, 0, 0, 0, 0, 0, 1, 1, 1, 1, 0, 0, 0, 1, 1, 1, 0, 1, 0, 0, 0, 0,\n",
              "       0, 1, 0, 0, 1, 0, 0, 0, 0, 0, 0, 0, 0, 0, 1, 1, 0, 0, 0, 1, 1, 1,\n",
              "       0, 0, 0, 0, 1, 0, 1, 1, 0, 1, 0, 0, 1, 0, 0, 0, 0, 0, 1, 0, 0, 0,\n",
              "       0, 1, 0, 1, 1, 1, 1, 0, 0, 0, 0, 0, 0, 1, 0, 0, 0, 0, 1, 0, 1, 0,\n",
              "       1, 1, 1, 1, 1, 0, 1, 0, 0, 0, 0, 0, 0, 1, 0, 0, 0, 0, 0, 1])"
            ]
          },
          "metadata": {},
          "execution_count": 16
        }
      ]
    },
    {
      "cell_type": "code",
      "source": [
        "#matriz de confusão\n",
        "print (pd.crosstab(y_test,resultado, rownames=['Real'], colnames=['Predito'], margins=True))"
      ],
      "metadata": {
        "colab": {
          "base_uri": "https://localhost:8080/"
        },
        "id": "DNjF1VmNs3AV",
        "outputId": "d32f95e7-9e3d-40af-f7fa-0ee796c240ac"
      },
      "execution_count": null,
      "outputs": [
        {
          "output_type": "stream",
          "name": "stdout",
          "text": [
            "Predito   0   1  All\n",
            "Real                \n",
            "0        81   8   89\n",
            "1        16  47   63\n",
            "All      97  55  152\n"
          ]
        }
      ]
    },
    {
      "cell_type": "code",
      "source": [
        "# outras metricas\n",
        "from sklearn import metrics\n",
        "print(metrics.classification_report(y_test,resultado))"
      ],
      "metadata": {
        "colab": {
          "base_uri": "https://localhost:8080/"
        },
        "id": "jSl3fCuCtHGe",
        "outputId": "1e21d0b8-dd9b-4a30-9bb3-758f62619503"
      },
      "execution_count": null,
      "outputs": [
        {
          "output_type": "stream",
          "name": "stdout",
          "text": [
            "              precision    recall  f1-score   support\n",
            "\n",
            "           0       0.84      0.91      0.87        89\n",
            "           1       0.85      0.75      0.80        63\n",
            "\n",
            "    accuracy                           0.84       152\n",
            "   macro avg       0.84      0.83      0.83       152\n",
            "weighted avg       0.84      0.84      0.84       152\n",
            "\n"
          ]
        }
      ]
    },
    {
      "cell_type": "markdown",
      "source": [
        "### 2.2 KNN Iris"
      ],
      "metadata": {
        "id": "v8ZXNHO74tfK"
      }
    },
    {
      "cell_type": "code",
      "source": [
        "iris"
      ],
      "metadata": {
        "colab": {
          "base_uri": "https://localhost:8080/",
          "height": 424
        },
        "id": "Ir1j6blR4y2D",
        "outputId": "c163857c-89fd-4ac5-bd54-8b604be5db50"
      },
      "execution_count": null,
      "outputs": [
        {
          "output_type": "execute_result",
          "data": {
            "text/html": [
              "\n",
              "  <div id=\"df-fe98757c-fe2d-44d5-b3f4-a36d98012edd\">\n",
              "    <div class=\"colab-df-container\">\n",
              "      <div>\n",
              "<style scoped>\n",
              "    .dataframe tbody tr th:only-of-type {\n",
              "        vertical-align: middle;\n",
              "    }\n",
              "\n",
              "    .dataframe tbody tr th {\n",
              "        vertical-align: top;\n",
              "    }\n",
              "\n",
              "    .dataframe thead th {\n",
              "        text-align: right;\n",
              "    }\n",
              "</style>\n",
              "<table border=\"1\" class=\"dataframe\">\n",
              "  <thead>\n",
              "    <tr style=\"text-align: right;\">\n",
              "      <th></th>\n",
              "      <th>sepal_length</th>\n",
              "      <th>sepal_width</th>\n",
              "      <th>petal_length</th>\n",
              "      <th>petal_width</th>\n",
              "      <th>class</th>\n",
              "    </tr>\n",
              "  </thead>\n",
              "  <tbody>\n",
              "    <tr>\n",
              "      <th>0</th>\n",
              "      <td>5.1</td>\n",
              "      <td>3.5</td>\n",
              "      <td>1.4</td>\n",
              "      <td>0.2</td>\n",
              "      <td>1</td>\n",
              "    </tr>\n",
              "    <tr>\n",
              "      <th>1</th>\n",
              "      <td>4.9</td>\n",
              "      <td>3.0</td>\n",
              "      <td>1.4</td>\n",
              "      <td>0.2</td>\n",
              "      <td>1</td>\n",
              "    </tr>\n",
              "    <tr>\n",
              "      <th>2</th>\n",
              "      <td>4.7</td>\n",
              "      <td>3.2</td>\n",
              "      <td>1.3</td>\n",
              "      <td>0.2</td>\n",
              "      <td>1</td>\n",
              "    </tr>\n",
              "    <tr>\n",
              "      <th>3</th>\n",
              "      <td>4.6</td>\n",
              "      <td>3.1</td>\n",
              "      <td>1.5</td>\n",
              "      <td>0.2</td>\n",
              "      <td>1</td>\n",
              "    </tr>\n",
              "    <tr>\n",
              "      <th>4</th>\n",
              "      <td>5.0</td>\n",
              "      <td>3.6</td>\n",
              "      <td>1.4</td>\n",
              "      <td>0.2</td>\n",
              "      <td>1</td>\n",
              "    </tr>\n",
              "    <tr>\n",
              "      <th>...</th>\n",
              "      <td>...</td>\n",
              "      <td>...</td>\n",
              "      <td>...</td>\n",
              "      <td>...</td>\n",
              "      <td>...</td>\n",
              "    </tr>\n",
              "    <tr>\n",
              "      <th>145</th>\n",
              "      <td>6.7</td>\n",
              "      <td>3.0</td>\n",
              "      <td>5.2</td>\n",
              "      <td>2.3</td>\n",
              "      <td>3</td>\n",
              "    </tr>\n",
              "    <tr>\n",
              "      <th>146</th>\n",
              "      <td>6.3</td>\n",
              "      <td>2.5</td>\n",
              "      <td>5.0</td>\n",
              "      <td>1.9</td>\n",
              "      <td>3</td>\n",
              "    </tr>\n",
              "    <tr>\n",
              "      <th>147</th>\n",
              "      <td>6.5</td>\n",
              "      <td>3.0</td>\n",
              "      <td>5.2</td>\n",
              "      <td>2.0</td>\n",
              "      <td>3</td>\n",
              "    </tr>\n",
              "    <tr>\n",
              "      <th>148</th>\n",
              "      <td>6.2</td>\n",
              "      <td>3.4</td>\n",
              "      <td>5.4</td>\n",
              "      <td>2.3</td>\n",
              "      <td>3</td>\n",
              "    </tr>\n",
              "    <tr>\n",
              "      <th>149</th>\n",
              "      <td>5.9</td>\n",
              "      <td>3.0</td>\n",
              "      <td>5.1</td>\n",
              "      <td>1.8</td>\n",
              "      <td>3</td>\n",
              "    </tr>\n",
              "  </tbody>\n",
              "</table>\n",
              "<p>150 rows × 5 columns</p>\n",
              "</div>\n",
              "      <button class=\"colab-df-convert\" onclick=\"convertToInteractive('df-fe98757c-fe2d-44d5-b3f4-a36d98012edd')\"\n",
              "              title=\"Convert this dataframe to an interactive table.\"\n",
              "              style=\"display:none;\">\n",
              "        \n",
              "  <svg xmlns=\"http://www.w3.org/2000/svg\" height=\"24px\"viewBox=\"0 0 24 24\"\n",
              "       width=\"24px\">\n",
              "    <path d=\"M0 0h24v24H0V0z\" fill=\"none\"/>\n",
              "    <path d=\"M18.56 5.44l.94 2.06.94-2.06 2.06-.94-2.06-.94-.94-2.06-.94 2.06-2.06.94zm-11 1L8.5 8.5l.94-2.06 2.06-.94-2.06-.94L8.5 2.5l-.94 2.06-2.06.94zm10 10l.94 2.06.94-2.06 2.06-.94-2.06-.94-.94-2.06-.94 2.06-2.06.94z\"/><path d=\"M17.41 7.96l-1.37-1.37c-.4-.4-.92-.59-1.43-.59-.52 0-1.04.2-1.43.59L10.3 9.45l-7.72 7.72c-.78.78-.78 2.05 0 2.83L4 21.41c.39.39.9.59 1.41.59.51 0 1.02-.2 1.41-.59l7.78-7.78 2.81-2.81c.8-.78.8-2.07 0-2.86zM5.41 20L4 18.59l7.72-7.72 1.47 1.35L5.41 20z\"/>\n",
              "  </svg>\n",
              "      </button>\n",
              "      \n",
              "  <style>\n",
              "    .colab-df-container {\n",
              "      display:flex;\n",
              "      flex-wrap:wrap;\n",
              "      gap: 12px;\n",
              "    }\n",
              "\n",
              "    .colab-df-convert {\n",
              "      background-color: #E8F0FE;\n",
              "      border: none;\n",
              "      border-radius: 50%;\n",
              "      cursor: pointer;\n",
              "      display: none;\n",
              "      fill: #1967D2;\n",
              "      height: 32px;\n",
              "      padding: 0 0 0 0;\n",
              "      width: 32px;\n",
              "    }\n",
              "\n",
              "    .colab-df-convert:hover {\n",
              "      background-color: #E2EBFA;\n",
              "      box-shadow: 0px 1px 2px rgba(60, 64, 67, 0.3), 0px 1px 3px 1px rgba(60, 64, 67, 0.15);\n",
              "      fill: #174EA6;\n",
              "    }\n",
              "\n",
              "    [theme=dark] .colab-df-convert {\n",
              "      background-color: #3B4455;\n",
              "      fill: #D2E3FC;\n",
              "    }\n",
              "\n",
              "    [theme=dark] .colab-df-convert:hover {\n",
              "      background-color: #434B5C;\n",
              "      box-shadow: 0px 1px 3px 1px rgba(0, 0, 0, 0.15);\n",
              "      filter: drop-shadow(0px 1px 2px rgba(0, 0, 0, 0.3));\n",
              "      fill: #FFFFFF;\n",
              "    }\n",
              "  </style>\n",
              "\n",
              "      <script>\n",
              "        const buttonEl =\n",
              "          document.querySelector('#df-fe98757c-fe2d-44d5-b3f4-a36d98012edd button.colab-df-convert');\n",
              "        buttonEl.style.display =\n",
              "          google.colab.kernel.accessAllowed ? 'block' : 'none';\n",
              "\n",
              "        async function convertToInteractive(key) {\n",
              "          const element = document.querySelector('#df-fe98757c-fe2d-44d5-b3f4-a36d98012edd');\n",
              "          const dataTable =\n",
              "            await google.colab.kernel.invokeFunction('convertToInteractive',\n",
              "                                                     [key], {});\n",
              "          if (!dataTable) return;\n",
              "\n",
              "          const docLinkHtml = 'Like what you see? Visit the ' +\n",
              "            '<a target=\"_blank\" href=https://colab.research.google.com/notebooks/data_table.ipynb>data table notebook</a>'\n",
              "            + ' to learn more about interactive tables.';\n",
              "          element.innerHTML = '';\n",
              "          dataTable['output_type'] = 'display_data';\n",
              "          await google.colab.output.renderOutput(dataTable, element);\n",
              "          const docLink = document.createElement('div');\n",
              "          docLink.innerHTML = docLinkHtml;\n",
              "          element.appendChild(docLink);\n",
              "        }\n",
              "      </script>\n",
              "    </div>\n",
              "  </div>\n",
              "  "
            ],
            "text/plain": [
              "     sepal_length  sepal_width  petal_length  petal_width  class\n",
              "0             5.1          3.5           1.4          0.2      1\n",
              "1             4.9          3.0           1.4          0.2      1\n",
              "2             4.7          3.2           1.3          0.2      1\n",
              "3             4.6          3.1           1.5          0.2      1\n",
              "4             5.0          3.6           1.4          0.2      1\n",
              "..            ...          ...           ...          ...    ...\n",
              "145           6.7          3.0           5.2          2.3      3\n",
              "146           6.3          2.5           5.0          1.9      3\n",
              "147           6.5          3.0           5.2          2.0      3\n",
              "148           6.2          3.4           5.4          2.3      3\n",
              "149           5.9          3.0           5.1          1.8      3\n",
              "\n",
              "[150 rows x 5 columns]"
            ]
          },
          "metadata": {},
          "execution_count": 29
        }
      ]
    },
    {
      "cell_type": "code",
      "source": [
        "# validação cruzada\n",
        "from sklearn.model_selection import cross_val_score\n",
        "knn = KNeighborsClassifier(n_neighbors=3)\n",
        "scores = cross_val_score(knn, iris.drop(columns=['class']), iris['class'], cv=5, scoring='accuracy')\n",
        "scores"
      ],
      "metadata": {
        "colab": {
          "base_uri": "https://localhost:8080/"
        },
        "id": "-h4-pcIK431z",
        "outputId": "d32926a6-4efb-420c-d8fc-31e638ae19b3"
      },
      "execution_count": null,
      "outputs": [
        {
          "output_type": "execute_result",
          "data": {
            "text/plain": [
              "array([0.96666667, 0.96666667, 0.93333333, 0.96666667, 1.        ])"
            ]
          },
          "metadata": {},
          "execution_count": 31
        }
      ]
    },
    {
      "cell_type": "code",
      "source": [
        "X_train, X_test, y_train, y_test = get_xy_iris()\n",
        "knn.fit(X_train,y_train)\n",
        "resultado = knn.predict(X_test)\n",
        "resultado"
      ],
      "metadata": {
        "colab": {
          "base_uri": "https://localhost:8080/"
        },
        "id": "IALkgQsq59h_",
        "outputId": "11c32f68-e903-4480-9a9b-bb7ca8ce8b79"
      },
      "execution_count": null,
      "outputs": [
        {
          "output_type": "execute_result",
          "data": {
            "text/plain": [
              "array([2, 3, 1, 1, 1, 1, 1, 3, 2, 1, 2, 3, 2, 2, 3, 3, 1, 3, 1, 2, 2, 2,\n",
              "       2, 1, 3, 3, 3, 1, 2, 3])"
            ]
          },
          "metadata": {},
          "execution_count": 34
        }
      ]
    },
    {
      "cell_type": "code",
      "source": [
        "#matriz de confusão\n",
        "print (pd.crosstab(y_test,resultado, rownames=['Real'], colnames=['Predito'], margins=True))"
      ],
      "metadata": {
        "colab": {
          "base_uri": "https://localhost:8080/"
        },
        "id": "2iOR9Vgr6bia",
        "outputId": "b4e1913d-c21c-4666-bb36-a96ef06fd3b6"
      },
      "execution_count": null,
      "outputs": [
        {
          "output_type": "stream",
          "name": "stdout",
          "text": [
            "Predito   1   2   3  All\n",
            "Real                    \n",
            "1        10   0   0   10\n",
            "2         0   9   1   10\n",
            "3         0   1   9   10\n",
            "All      10  10  10   30\n"
          ]
        }
      ]
    },
    {
      "cell_type": "code",
      "source": [
        "# outras metricas\n",
        "from sklearn import metrics\n",
        "print(metrics.classification_report(y_test,resultado))"
      ],
      "metadata": {
        "colab": {
          "base_uri": "https://localhost:8080/"
        },
        "id": "KrEvCWEQ6m1s",
        "outputId": "096a15ab-76ff-49b9-b486-e820bece9b74"
      },
      "execution_count": null,
      "outputs": [
        {
          "output_type": "stream",
          "name": "stdout",
          "text": [
            "              precision    recall  f1-score   support\n",
            "\n",
            "           1       1.00      1.00      1.00        10\n",
            "           2       0.90      0.90      0.90        10\n",
            "           3       0.90      0.90      0.90        10\n",
            "\n",
            "    accuracy                           0.93        30\n",
            "   macro avg       0.93      0.93      0.93        30\n",
            "weighted avg       0.93      0.93      0.93        30\n",
            "\n"
          ]
        }
      ]
    },
    {
      "cell_type": "markdown",
      "source": [
        "### 2.3 KNN Digits"
      ],
      "metadata": {
        "id": "qcNdpQNv7WwD"
      }
    },
    {
      "cell_type": "code",
      "source": [
        "digits.data.shape, digits.target.shape"
      ],
      "metadata": {
        "colab": {
          "base_uri": "https://localhost:8080/"
        },
        "id": "rrkvNXIx7WDp",
        "outputId": "b11f8e74-0390-4fab-e1d2-4c1333747104"
      },
      "execution_count": null,
      "outputs": [
        {
          "output_type": "execute_result",
          "data": {
            "text/plain": [
              "((1797, 64), (1797,))"
            ]
          },
          "metadata": {},
          "execution_count": 41
        }
      ]
    },
    {
      "cell_type": "code",
      "source": [
        "# validação cruzada\n",
        "from sklearn.model_selection import cross_val_score\n",
        "knn = KNeighborsClassifier(n_neighbors=3)\n",
        "scores = cross_val_score(knn, digits.data, digits.target, cv=5, scoring='accuracy')\n",
        "scores"
      ],
      "metadata": {
        "colab": {
          "base_uri": "https://localhost:8080/"
        },
        "id": "0xzTOmSP7-Xs",
        "outputId": "9423f46a-2645-463d-e28e-5a483cfb1b9c"
      },
      "execution_count": null,
      "outputs": [
        {
          "output_type": "execute_result",
          "data": {
            "text/plain": [
              "array([0.95555556, 0.95833333, 0.96657382, 0.98607242, 0.96657382])"
            ]
          },
          "metadata": {},
          "execution_count": 43
        }
      ]
    },
    {
      "cell_type": "code",
      "source": [
        "X_train, X_test, y_train, y_test = get_xy_digits()\n",
        "knn.fit(X_train,y_train)\n",
        "resultado = knn.predict(X_test)\n",
        "resultado"
      ],
      "metadata": {
        "colab": {
          "base_uri": "https://localhost:8080/"
        },
        "id": "CLEpvOR38Jaa",
        "outputId": "797579b4-7f63-430c-bdb6-094b800ae328"
      },
      "execution_count": null,
      "outputs": [
        {
          "output_type": "execute_result",
          "data": {
            "text/plain": [
              "array([5, 3, 6, 1, 1, 8, 0, 0, 8, 6, 7, 2, 4, 9, 2, 0, 9, 1, 1, 5, 2, 7,\n",
              "       9, 8, 4, 3, 5, 0, 6, 4, 7, 9, 6, 3, 2, 2, 4, 3, 1, 3, 9, 6, 0, 4,\n",
              "       1, 7, 4, 6, 7, 7, 1, 6, 9, 7, 4, 1, 9, 2, 3, 7, 9, 9, 6, 4, 7, 7,\n",
              "       3, 3, 4, 1, 9, 6, 6, 3, 0, 8, 6, 2, 5, 5, 5, 3, 9, 6, 7, 2, 0, 2,\n",
              "       8, 1, 8, 6, 2, 0, 6, 6, 2, 0, 5, 2, 4, 2, 7, 0, 1, 8, 2, 7, 3, 2,\n",
              "       3, 5, 1, 1, 9, 3, 3, 7, 6, 8, 4, 3, 2, 0, 1, 7, 7, 1, 0, 9, 5, 5,\n",
              "       2, 8, 7, 8, 9, 9, 0, 8, 1, 1, 5, 7, 7, 9, 5, 5, 8, 7, 5, 9, 8, 7,\n",
              "       6, 0, 7, 8, 9, 4, 2, 6, 0, 3, 4, 2, 1, 1, 0, 4, 7, 0, 3, 7, 3, 9,\n",
              "       4, 4, 4, 5, 5, 4, 5, 9, 9, 7, 4, 8, 4, 9, 0, 4, 9, 1, 0, 3, 3, 3,\n",
              "       9, 9, 4, 2, 5, 6, 1, 4, 1, 7, 8, 3, 2, 4, 7, 1, 7, 1, 3, 3, 6, 3,\n",
              "       5, 7, 6, 8, 1, 3, 7, 1, 3, 4, 1, 5, 5, 0, 1, 9, 9, 2, 5, 1, 7, 0,\n",
              "       2, 4, 8, 8, 0, 8, 7, 5, 6, 5, 5, 5, 5, 0, 2, 8, 1, 2, 7, 0, 6, 3,\n",
              "       1, 4, 6, 2, 9, 5, 1, 2, 0, 9, 7, 0, 9, 1, 0, 0, 3, 1, 1, 6, 4, 4,\n",
              "       4, 2, 5, 6, 8, 6, 0, 8, 4, 4, 7, 3, 2, 9, 5, 2, 7, 6, 8, 5, 9, 3,\n",
              "       5, 8, 8, 8, 9, 0, 2, 2, 6, 9, 5, 4, 1, 0, 6, 0, 0, 3, 6, 7, 4, 9,\n",
              "       3, 0, 6, 2, 9, 8, 8, 0, 1, 0, 6, 8, 8, 3, 8, 3, 3, 6, 5, 6, 1, 2,\n",
              "       5, 2, 8, 1, 8, 6, 4, 4])"
            ]
          },
          "metadata": {},
          "execution_count": 45
        }
      ]
    },
    {
      "cell_type": "code",
      "source": [
        "#matriz de confusão\n",
        "print (pd.crosstab(y_test,resultado, rownames=['Real'], colnames=['Predito'], margins=True))"
      ],
      "metadata": {
        "colab": {
          "base_uri": "https://localhost:8080/"
        },
        "id": "qL45Ipz68N1q",
        "outputId": "21a0650a-e9a0-4902-e563-3af67b5f2109"
      },
      "execution_count": null,
      "outputs": [
        {
          "output_type": "stream",
          "name": "stdout",
          "text": [
            "Predito   0   1   2   3   4   5   6   7   8   9  All\n",
            "Real                                                \n",
            "0        36   0   0   0   0   0   0   0   0   0   36\n",
            "1         0  37   0   0   0   0   0   0   0   0   37\n",
            "2         0   0  35   0   0   0   0   0   0   0   35\n",
            "3         0   0   0  36   0   0   0   1   0   0   37\n",
            "4         0   0   0   0  36   0   0   0   0   0   36\n",
            "5         0   0   0   0   0  35   0   0   0   1   36\n",
            "6         0   0   0   0   0   0  36   0   0   0   36\n",
            "7         0   0   0   0   0   0   0  36   0   0   36\n",
            "8         0   2   0   0   0   0   0   0  33   0   35\n",
            "9         0   0   0   0   0   0   0   0   1  35   36\n",
            "All      36  39  35  36  36  35  36  37  34  36  360\n"
          ]
        }
      ]
    },
    {
      "cell_type": "code",
      "source": [
        "# outras metricas\n",
        "from sklearn import metrics\n",
        "print(metrics.classification_report(y_test,resultado))"
      ],
      "metadata": {
        "colab": {
          "base_uri": "https://localhost:8080/"
        },
        "id": "IR7UzcJr-yKb",
        "outputId": "89d096a3-89e0-4d7a-c2f0-be16133cc818"
      },
      "execution_count": null,
      "outputs": [
        {
          "output_type": "stream",
          "name": "stdout",
          "text": [
            "              precision    recall  f1-score   support\n",
            "\n",
            "           0       1.00      1.00      1.00        36\n",
            "           1       0.95      1.00      0.97        37\n",
            "           2       1.00      1.00      1.00        35\n",
            "           3       1.00      0.97      0.99        37\n",
            "           4       1.00      1.00      1.00        36\n",
            "           5       1.00      0.97      0.99        36\n",
            "           6       1.00      1.00      1.00        36\n",
            "           7       0.97      1.00      0.99        36\n",
            "           8       0.97      0.94      0.96        35\n",
            "           9       0.97      0.97      0.97        36\n",
            "\n",
            "    accuracy                           0.99       360\n",
            "   macro avg       0.99      0.99      0.99       360\n",
            "weighted avg       0.99      0.99      0.99       360\n",
            "\n"
          ]
        }
      ]
    },
    {
      "cell_type": "markdown",
      "source": [
        "## 3 Naïve Bayes\n",
        "Os métodos Naive Bayes são um conjunto de algoritmos de aprendizado supervisionado baseados na aplicação do teorema de Bayes com a suposição “ingênua” de independência condicional entre cada par de características dado o valor da variável de classe.\n",
        "### Parâmetros\n",
        "**alfa:** flutuante, padrão = 1,0\n",
        "Parâmetro de suavização aditiva (Laplace/Lidstone) (0 para sem suavização).\n",
        "\n",
        "**fit_prior:** bool, default=True\n",
        "Quer aprender probabilidades anteriores de classe ou não. Se falso, será usado um anterior uniforme.\n",
        "\n",
        "**class_prior:** tipo array de forma (n_classes,), default=Nenhum\n",
        "Probabilidades prévias das classes. Se especificado, os antecedentes não são ajustados de acordo com os dados."
      ],
      "metadata": {
        "id": "n2Q7r_gTAWYc"
      }
    },
    {
      "cell_type": "markdown",
      "source": [
        "### 3.1 Naive Bayes com titanic"
      ],
      "metadata": {
        "id": "d-gyuLB-Bfaj"
      }
    },
    {
      "cell_type": "code",
      "source": [
        "from sklearn.naive_bayes import GaussianNB"
      ],
      "metadata": {
        "id": "ChQmlonhB0Br"
      },
      "execution_count": null,
      "outputs": []
    },
    {
      "cell_type": "code",
      "source": [
        "# validação cruzada\n",
        "from sklearn.model_selection import cross_val_score\n",
        "gnb = GaussianNB()\n",
        "scores = cross_val_score(gnb, titanic.drop(columns=['Sobreviveu']), titanic['Sobreviveu'], cv=5, scoring='accuracy')\n",
        "scores"
      ],
      "metadata": {
        "colab": {
          "base_uri": "https://localhost:8080/"
        },
        "id": "8uZl96hk-4xc",
        "outputId": "9ae68ce1-c89b-495d-f287-605b5a445f57"
      },
      "execution_count": null,
      "outputs": [
        {
          "output_type": "execute_result",
          "data": {
            "text/plain": [
              "array([0.42763158, 0.81456954, 0.79470199, 0.79470199, 0.65562914])"
            ]
          },
          "metadata": {},
          "execution_count": 53
        }
      ]
    },
    {
      "cell_type": "code",
      "source": [
        "X_train, X_test, y_train, y_test = get_xy_titanic()\n",
        "gnb.fit(X_train,y_train)\n",
        "resultado = gnb.predict(X_test)\n",
        "resultado"
      ],
      "metadata": {
        "colab": {
          "base_uri": "https://localhost:8080/"
        },
        "id": "d7IspZWpB_d2",
        "outputId": "b872b61a-6ec5-4236-eb4f-0b85fb90f21e"
      },
      "execution_count": null,
      "outputs": [
        {
          "output_type": "execute_result",
          "data": {
            "text/plain": [
              "array([1, 1, 1, 1, 1, 0, 1, 0, 0, 1, 0, 0, 0, 0, 0, 0, 1, 1, 1, 1, 0, 0,\n",
              "       1, 0, 0, 1, 0, 1, 1, 1, 0, 0, 1, 0, 0, 0, 0, 0, 1, 0, 0, 0, 0, 1,\n",
              "       0, 0, 0, 0, 0, 1, 1, 1, 1, 1, 0, 0, 1, 0, 1, 1, 0, 0, 0, 0, 0, 0,\n",
              "       0, 1, 0, 0, 1, 0, 0, 0, 1, 0, 1, 1, 0, 0, 1, 1, 0, 0, 0, 1, 0, 1,\n",
              "       1, 0, 0, 0, 1, 0, 1, 1, 0, 1, 0, 0, 0, 1, 1, 0, 0, 0, 1, 0, 0, 0,\n",
              "       0, 1, 1, 1, 1, 1, 0, 0, 0, 0, 0, 0, 0, 1, 0, 0, 0, 0, 1, 0, 1, 0,\n",
              "       1, 1, 1, 1, 1, 0, 1, 0, 1, 0, 0, 0, 0, 1, 0, 0, 0, 0, 0, 1])"
            ]
          },
          "metadata": {},
          "execution_count": 50
        }
      ]
    },
    {
      "cell_type": "code",
      "source": [
        "#matriz de confusão\n",
        "print (pd.crosstab(y_test,resultado, rownames=['Real'], colnames=['Predito'], margins=True))"
      ],
      "metadata": {
        "colab": {
          "base_uri": "https://localhost:8080/"
        },
        "id": "Tbd6W73SCJBn",
        "outputId": "dcc63f6e-1278-4ef6-9348-6a9f692d0ad8"
      },
      "execution_count": null,
      "outputs": [
        {
          "output_type": "stream",
          "name": "stdout",
          "text": [
            "Predito   0   1  All\n",
            "Real                \n",
            "0        78  11   89\n",
            "1        13  50   63\n",
            "All      91  61  152\n"
          ]
        }
      ]
    },
    {
      "cell_type": "code",
      "source": [
        "# outras metricas\n",
        "from sklearn import metrics\n",
        "print(metrics.classification_report(y_test,resultado))"
      ],
      "metadata": {
        "colab": {
          "base_uri": "https://localhost:8080/"
        },
        "id": "p-nYkphXCLPf",
        "outputId": "d486dfaf-8dc6-4e53-9b47-748772c96e17"
      },
      "execution_count": null,
      "outputs": [
        {
          "output_type": "stream",
          "name": "stdout",
          "text": [
            "              precision    recall  f1-score   support\n",
            "\n",
            "           0       0.86      0.88      0.87        89\n",
            "           1       0.82      0.79      0.81        63\n",
            "\n",
            "    accuracy                           0.84       152\n",
            "   macro avg       0.84      0.84      0.84       152\n",
            "weighted avg       0.84      0.84      0.84       152\n",
            "\n"
          ]
        }
      ]
    },
    {
      "cell_type": "markdown",
      "source": [
        "### 3.2 Naive Bayes com Iris"
      ],
      "metadata": {
        "id": "dHFo3asLCV6R"
      }
    },
    {
      "cell_type": "code",
      "source": [
        "# validação cruzada\n",
        "from sklearn.model_selection import cross_val_score\n",
        "gnb = GaussianNB()\n",
        "scores = cross_val_score(gnb, iris.drop(columns=['class']), iris['class'], cv=5, scoring='accuracy')\n",
        "scores"
      ],
      "metadata": {
        "colab": {
          "base_uri": "https://localhost:8080/"
        },
        "id": "-Op0XGekCdB5",
        "outputId": "20516e2c-1975-455d-91c3-5fbc09785195"
      },
      "execution_count": null,
      "outputs": [
        {
          "output_type": "execute_result",
          "data": {
            "text/plain": [
              "array([0.93333333, 0.96666667, 0.93333333, 0.93333333, 1.        ])"
            ]
          },
          "metadata": {},
          "execution_count": 54
        }
      ]
    },
    {
      "cell_type": "code",
      "source": [
        "X_train, X_test, y_train, y_test = get_xy_iris()\n",
        "gnb.fit(X_train,y_train)\n",
        "resultado = gnb.predict(X_test)\n",
        "resultado"
      ],
      "metadata": {
        "colab": {
          "base_uri": "https://localhost:8080/"
        },
        "id": "HsLK2c2qC4-h",
        "outputId": "f990187d-a8ef-4e29-d44d-09c93dc79f51"
      },
      "execution_count": null,
      "outputs": [
        {
          "output_type": "execute_result",
          "data": {
            "text/plain": [
              "array([2, 3, 1, 1, 1, 1, 1, 3, 2, 1, 2, 3, 2, 2, 3, 3, 1, 3, 1, 2, 2, 2,\n",
              "       2, 1, 3, 3, 3, 1, 2, 3])"
            ]
          },
          "metadata": {},
          "execution_count": 55
        }
      ]
    },
    {
      "cell_type": "code",
      "source": [
        "#matriz de confusão\n",
        "print (pd.crosstab(y_test,resultado, rownames=['Real'], colnames=['Predito'], margins=True))"
      ],
      "metadata": {
        "colab": {
          "base_uri": "https://localhost:8080/"
        },
        "id": "DKx_yi7aC-NI",
        "outputId": "0e56d331-05d1-4b0d-8451-c843b4578c78"
      },
      "execution_count": null,
      "outputs": [
        {
          "output_type": "stream",
          "name": "stdout",
          "text": [
            "Predito   1   2   3  All\n",
            "Real                    \n",
            "1        10   0   0   10\n",
            "2         0   9   1   10\n",
            "3         0   1   9   10\n",
            "All      10  10  10   30\n"
          ]
        }
      ]
    },
    {
      "cell_type": "code",
      "source": [
        "# outras metricas\n",
        "from sklearn import metrics\n",
        "print(metrics.classification_report(y_test,resultado))"
      ],
      "metadata": {
        "colab": {
          "base_uri": "https://localhost:8080/"
        },
        "id": "rdIKuxbDDCjv",
        "outputId": "21af5596-ce1d-410b-d3a9-207686e3e149"
      },
      "execution_count": null,
      "outputs": [
        {
          "output_type": "stream",
          "name": "stdout",
          "text": [
            "              precision    recall  f1-score   support\n",
            "\n",
            "           1       1.00      1.00      1.00        10\n",
            "           2       0.90      0.90      0.90        10\n",
            "           3       0.90      0.90      0.90        10\n",
            "\n",
            "    accuracy                           0.93        30\n",
            "   macro avg       0.93      0.93      0.93        30\n",
            "weighted avg       0.93      0.93      0.93        30\n",
            "\n"
          ]
        }
      ]
    },
    {
      "cell_type": "markdown",
      "source": [
        "### 3.3 Naive bayes com digits"
      ],
      "metadata": {
        "id": "3V_EckmKDK4u"
      }
    },
    {
      "cell_type": "code",
      "source": [
        "# validação cruzada\n",
        "from sklearn.model_selection import cross_val_score\n",
        "gnb = GaussianNB()\n",
        "scores = cross_val_score(gnb, digits.data, digits.target, cv=5, scoring='accuracy')\n",
        "scores"
      ],
      "metadata": {
        "colab": {
          "base_uri": "https://localhost:8080/"
        },
        "id": "tQem2U_RDJAo",
        "outputId": "3839fe56-e47e-4eef-8cac-5e4289542e6b"
      },
      "execution_count": null,
      "outputs": [
        {
          "output_type": "execute_result",
          "data": {
            "text/plain": [
              "array([0.78055556, 0.78333333, 0.79387187, 0.8718663 , 0.80501393])"
            ]
          },
          "metadata": {},
          "execution_count": 58
        }
      ]
    },
    {
      "cell_type": "code",
      "source": [
        "X_train, X_test, y_train, y_test = get_xy_digits()\n",
        "gnb.fit(X_train,y_train)\n",
        "resultado = gnb.predict(X_test)\n",
        "resultado"
      ],
      "metadata": {
        "colab": {
          "base_uri": "https://localhost:8080/"
        },
        "id": "ErgckZPrDXoz",
        "outputId": "46116fc9-95ff-45a4-a668-581bfd600735"
      },
      "execution_count": null,
      "outputs": [
        {
          "output_type": "execute_result",
          "data": {
            "text/plain": [
              "array([5, 3, 6, 1, 1, 8, 0, 0, 1, 6, 7, 2, 4, 9, 8, 0, 3, 1, 8, 5, 8, 7,\n",
              "       7, 8, 7, 8, 5, 0, 6, 4, 7, 9, 6, 8, 8, 2, 4, 3, 1, 3, 1, 6, 0, 4,\n",
              "       1, 7, 4, 6, 7, 7, 8, 6, 8, 7, 4, 1, 9, 2, 3, 7, 3, 9, 6, 8, 7, 7,\n",
              "       6, 3, 4, 1, 9, 6, 6, 3, 0, 8, 6, 2, 5, 5, 5, 3, 9, 6, 7, 2, 0, 2,\n",
              "       8, 1, 3, 6, 2, 0, 6, 6, 2, 0, 5, 2, 4, 2, 7, 0, 7, 8, 2, 7, 3, 2,\n",
              "       3, 5, 1, 1, 9, 3, 5, 7, 6, 8, 4, 3, 2, 0, 1, 7, 7, 1, 0, 9, 5, 5,\n",
              "       2, 8, 7, 8, 9, 9, 0, 8, 1, 1, 5, 7, 7, 8, 5, 5, 8, 7, 5, 9, 8, 7,\n",
              "       6, 0, 7, 8, 9, 4, 2, 6, 0, 3, 4, 2, 1, 1, 0, 7, 7, 0, 3, 7, 8, 9,\n",
              "       4, 4, 4, 7, 5, 4, 5, 9, 9, 7, 4, 1, 4, 9, 0, 7, 9, 1, 0, 3, 3, 3,\n",
              "       9, 9, 4, 8, 5, 6, 2, 4, 8, 7, 8, 3, 2, 4, 7, 1, 7, 1, 1, 3, 6, 8,\n",
              "       5, 5, 5, 8, 8, 3, 7, 1, 3, 4, 1, 5, 5, 0, 7, 9, 9, 8, 5, 1, 7, 0,\n",
              "       8, 4, 8, 8, 0, 8, 7, 5, 6, 5, 5, 5, 5, 0, 8, 8, 8, 2, 7, 0, 6, 3,\n",
              "       7, 4, 6, 2, 9, 5, 1, 2, 0, 9, 7, 0, 3, 1, 0, 0, 3, 8, 1, 6, 4, 4,\n",
              "       7, 8, 5, 6, 8, 6, 0, 8, 4, 4, 8, 3, 2, 9, 5, 8, 7, 6, 7, 5, 9, 3,\n",
              "       5, 8, 8, 8, 1, 0, 1, 2, 6, 9, 5, 4, 1, 0, 6, 0, 0, 3, 6, 7, 4, 9,\n",
              "       3, 0, 6, 8, 9, 8, 8, 0, 1, 0, 6, 8, 8, 3, 8, 3, 3, 6, 5, 6, 1, 8,\n",
              "       5, 2, 8, 1, 8, 6, 4, 4])"
            ]
          },
          "metadata": {},
          "execution_count": 59
        }
      ]
    },
    {
      "cell_type": "code",
      "source": [
        "# matriz de confusão\n",
        "print (pd.crosstab(y_test,resultado, rownames=['Real'], colnames=['Predito'], margins=True))"
      ],
      "metadata": {
        "colab": {
          "base_uri": "https://localhost:8080/"
        },
        "id": "yBmuHoNEDiO9",
        "outputId": "851bd87a-9aca-4485-dbb9-7e55ffb4e75c"
      },
      "execution_count": null,
      "outputs": [
        {
          "output_type": "stream",
          "name": "stdout",
          "text": [
            "Predito   0   1   2   3   4   5   6   7   8   9  All\n",
            "Real                                                \n",
            "0        36   0   0   0   0   0   0   0   0   0   36\n",
            "1         0  28   1   0   0   0   0   3   5   0   37\n",
            "2         0   1  23   0   0   0   0   0  11   0   35\n",
            "3         0   1   0  29   0   1   1   1   4   0   37\n",
            "4         0   0   0   0  31   0   0   4   1   0   36\n",
            "5         0   0   0   1   0  34   0   1   0   0   36\n",
            "6         0   0   0   0   0   1  35   0   0   0   36\n",
            "7         0   0   0   0   0   1   0  34   1   0   36\n",
            "8         0   3   0   1   0   0   0   1  30   0   35\n",
            "9         0   2   0   2   0   0   0   1   3  28   36\n",
            "All      36  35  24  33  31  37  36  45  55  28  360\n"
          ]
        }
      ]
    },
    {
      "cell_type": "code",
      "source": [
        "# outras metricas\n",
        "from sklearn import metrics\n",
        "print(metrics.classification_report(y_test,resultado))"
      ],
      "metadata": {
        "colab": {
          "base_uri": "https://localhost:8080/"
        },
        "id": "J9ZJII6SDinL",
        "outputId": "a42075b8-b165-4fc5-c7e6-43b05ff13e30"
      },
      "execution_count": null,
      "outputs": [
        {
          "output_type": "stream",
          "name": "stdout",
          "text": [
            "              precision    recall  f1-score   support\n",
            "\n",
            "           0       1.00      1.00      1.00        36\n",
            "           1       0.80      0.76      0.78        37\n",
            "           2       0.96      0.66      0.78        35\n",
            "           3       0.88      0.78      0.83        37\n",
            "           4       1.00      0.86      0.93        36\n",
            "           5       0.92      0.94      0.93        36\n",
            "           6       0.97      0.97      0.97        36\n",
            "           7       0.76      0.94      0.84        36\n",
            "           8       0.55      0.86      0.67        35\n",
            "           9       1.00      0.78      0.88        36\n",
            "\n",
            "    accuracy                           0.86       360\n",
            "   macro avg       0.88      0.86      0.86       360\n",
            "weighted avg       0.88      0.86      0.86       360\n",
            "\n"
          ]
        }
      ]
    },
    {
      "cell_type": "markdown",
      "source": [
        " ## 4 Regressão Logística\n",
        "\n",
        " Classificador de regressão logística (também conhecido como logit, MaxEnt).\n",
        "\n",
        " ### Parâmetros \n",
        " **penalidade:** {'l1', 'l2', 'elasticnet', 'none'}, default='l2'\n",
        "Especifique a norma da pena:\n",
        "\n",
        "* 'none': nenhuma penalidade é adicionada;\n",
        "\n",
        "* 'l2': adiciona um termo de penalidade L2 e é a escolha padrão;\n",
        "\n",
        "* 'l1': adicionar um termo de penalidade L1;\n",
        "\n",
        "* 'elasticnet': ambos os termos de penalidade L1 e L2 são adicionados.\n",
        "\n",
        "**dual:** bool, default=False\n",
        "Formulação dupla ou primal. A formulação dupla é implementada apenas para a penalidade l2 com o solucionador liblinear. Prefira dual=False quando n_samples > n_features.\n",
        "\n",
        "**tol:** float, default=1e-4\n",
        "Tolerância para critérios de parada.\n",
        "\n",
        "**C:** flutuante, padrão = 1,0\n",
        "Inverso da força de regularização; deve ser um float positivo. Como nas máquinas de vetor de suporte, valores menores especificam uma regularização mais forte.\n",
        "\n",
        "**fit_intercept:** bool, default=True\n",
        "Especifica se uma constante (também conhecida como polarização ou interceptação) deve ser adicionada à função de decisão.\n",
        " \n",
        "**random_state:** int, instância RandomState, default=None\n",
        "Usado quando solver== 'sag', 'saga' ou 'liblinear' para embaralhar os dados. Consulte o Glossário para obter detalhes."
      ],
      "metadata": {
        "id": "fEdbl-YSDr_T"
      }
    },
    {
      "cell_type": "markdown",
      "source": [
        "### 4.1 Regressão Logística com titanic"
      ],
      "metadata": {
        "id": "KP9MM3rhLkno"
      }
    },
    {
      "cell_type": "code",
      "source": [
        "from sklearn.linear_model import LogisticRegression"
      ],
      "metadata": {
        "id": "nRfsyoswDnLk"
      },
      "execution_count": null,
      "outputs": []
    },
    {
      "cell_type": "code",
      "source": [
        "# validação cruzada\n",
        "from sklearn.model_selection import cross_val_score\n",
        "clf = LogisticRegression(random_state=0)\n",
        "scores = cross_val_score(clf, titanic.drop(columns=['Sobreviveu']), titanic['Sobreviveu'], cv=5, scoring='accuracy')\n",
        "scores"
      ],
      "metadata": {
        "colab": {
          "base_uri": "https://localhost:8080/"
        },
        "id": "axkIcmzZLwb-",
        "outputId": "a9b719cb-1db2-4208-e105-530169e56c1e"
      },
      "execution_count": null,
      "outputs": [
        {
          "output_type": "execute_result",
          "data": {
            "text/plain": [
              "array([0.49342105, 0.84768212, 0.83443709, 0.79470199, 0.62251656])"
            ]
          },
          "metadata": {},
          "execution_count": 15
        }
      ]
    },
    {
      "cell_type": "code",
      "source": [
        "X_train, X_test, y_train, y_test = get_xy_titanic()\n",
        "clf.fit(X_train,y_train)\n",
        "resultado = clf.predict(X_test)\n",
        "resultado"
      ],
      "metadata": {
        "colab": {
          "base_uri": "https://localhost:8080/"
        },
        "id": "QWInZ4WBL9lf",
        "outputId": "687da066-b00f-40e1-df17-ec8e502b964c"
      },
      "execution_count": null,
      "outputs": [
        {
          "output_type": "execute_result",
          "data": {
            "text/plain": [
              "array([1, 0, 1, 1, 1, 0, 1, 0, 0, 0, 0, 0, 0, 0, 0, 0, 1, 1, 1, 1, 0, 0,\n",
              "       1, 0, 0, 1, 0, 1, 1, 1, 0, 0, 1, 0, 0, 0, 0, 0, 0, 0, 0, 1, 0, 1,\n",
              "       0, 0, 0, 0, 0, 1, 1, 1, 1, 1, 0, 0, 1, 0, 1, 1, 0, 0, 0, 0, 0, 0,\n",
              "       0, 1, 0, 0, 1, 0, 0, 0, 1, 0, 1, 1, 0, 0, 1, 1, 0, 0, 0, 1, 1, 1,\n",
              "       1, 0, 0, 0, 1, 0, 1, 1, 0, 1, 0, 0, 0, 1, 1, 0, 0, 0, 1, 0, 0, 0,\n",
              "       1, 1, 1, 1, 1, 1, 1, 0, 0, 0, 0, 0, 0, 1, 0, 0, 0, 0, 1, 0, 1, 0,\n",
              "       1, 1, 1, 1, 0, 0, 1, 0, 1, 0, 0, 0, 0, 1, 0, 0, 0, 0, 0, 1])"
            ]
          },
          "metadata": {},
          "execution_count": 19
        }
      ]
    },
    {
      "cell_type": "code",
      "source": [
        "#matriz de confusão\n",
        "print (pd.crosstab(y_test,resultado, rownames=['Real'], colnames=['Predito'], margins=True))"
      ],
      "metadata": {
        "colab": {
          "base_uri": "https://localhost:8080/"
        },
        "id": "UPHNRysnMXAL",
        "outputId": "563df3eb-2dfb-4de4-8f56-b5bcfe691d64"
      },
      "execution_count": null,
      "outputs": [
        {
          "output_type": "stream",
          "name": "stdout",
          "text": [
            "Predito   0   1  All\n",
            "Real                \n",
            "0        77  12   89\n",
            "1        14  49   63\n",
            "All      91  61  152\n"
          ]
        }
      ]
    },
    {
      "cell_type": "code",
      "source": [
        "# outras metricas\n",
        "from sklearn import metrics\n",
        "print(metrics.classification_report(y_test,resultado))"
      ],
      "metadata": {
        "colab": {
          "base_uri": "https://localhost:8080/"
        },
        "id": "CiY_WJc6MjpP",
        "outputId": "e0c87716-6878-4061-a785-d9d95108881e"
      },
      "execution_count": null,
      "outputs": [
        {
          "output_type": "stream",
          "name": "stdout",
          "text": [
            "              precision    recall  f1-score   support\n",
            "\n",
            "           0       0.85      0.87      0.86        89\n",
            "           1       0.80      0.78      0.79        63\n",
            "\n",
            "    accuracy                           0.83       152\n",
            "   macro avg       0.82      0.82      0.82       152\n",
            "weighted avg       0.83      0.83      0.83       152\n",
            "\n"
          ]
        }
      ]
    },
    {
      "cell_type": "markdown",
      "source": [
        "### 4.2 Regressão Logística com Iris"
      ],
      "metadata": {
        "id": "L0NB91GHM5ia"
      }
    },
    {
      "cell_type": "code",
      "source": [
        "# validação cruzada\n",
        "from sklearn.model_selection import cross_val_score\n",
        "clf = LogisticRegression(random_state=0, max_iter=3000)\n",
        "scores = cross_val_score(clf, iris.drop(columns=['class']), iris['class'], cv=5, scoring='accuracy')\n",
        "scores"
      ],
      "metadata": {
        "colab": {
          "base_uri": "https://localhost:8080/"
        },
        "id": "WDdmCh4QMoT-",
        "outputId": "2a17580b-794f-42b8-fe6a-ee768c4e45e5"
      },
      "execution_count": null,
      "outputs": [
        {
          "output_type": "execute_result",
          "data": {
            "text/plain": [
              "array([0.96666667, 1.        , 0.93333333, 0.96666667, 1.        ])"
            ]
          },
          "metadata": {},
          "execution_count": 46
        }
      ]
    },
    {
      "cell_type": "code",
      "source": [
        "X_train, X_test, y_train, y_test = get_xy_iris()\n",
        "clf.fit(X_train,y_train)\n",
        "resultado = clf.predict(X_test)\n",
        "resultado"
      ],
      "metadata": {
        "colab": {
          "base_uri": "https://localhost:8080/"
        },
        "id": "i152l9HPNIEK",
        "outputId": "e7d20543-aba7-4dca-a213-19be2ccd5f6f"
      },
      "execution_count": null,
      "outputs": [
        {
          "output_type": "execute_result",
          "data": {
            "text/plain": [
              "array([2, 3, 1, 1, 1, 1, 1, 3, 2, 1, 2, 3, 2, 2, 3, 3, 1, 3, 1, 2, 2, 2,\n",
              "       2, 1, 3, 3, 3, 1, 3, 3])"
            ]
          },
          "metadata": {},
          "execution_count": 47
        }
      ]
    },
    {
      "cell_type": "code",
      "source": [
        "#matriz de confusão\n",
        "print (pd.crosstab(y_test,resultado, rownames=['Real'], colnames=['Predito'], margins=True))"
      ],
      "metadata": {
        "colab": {
          "base_uri": "https://localhost:8080/"
        },
        "id": "ZXbAe41iNkoz",
        "outputId": "57c83768-c263-41cf-cad6-3aef58b04c9c"
      },
      "execution_count": null,
      "outputs": [
        {
          "output_type": "stream",
          "name": "stdout",
          "text": [
            "Predito   1  2   3  All\n",
            "Real                   \n",
            "1        10  0   0   10\n",
            "2         0  9   1   10\n",
            "3         0  0  10   10\n",
            "All      10  9  11   30\n"
          ]
        }
      ]
    },
    {
      "cell_type": "code",
      "source": [
        "# outras metricas\n",
        "from sklearn import metrics\n",
        "print(metrics.classification_report(y_test,resultado))"
      ],
      "metadata": {
        "colab": {
          "base_uri": "https://localhost:8080/"
        },
        "id": "lt1ndbC0NlxW",
        "outputId": "9fbda34b-f999-42e0-f3ac-9d00038e6518"
      },
      "execution_count": null,
      "outputs": [
        {
          "output_type": "stream",
          "name": "stdout",
          "text": [
            "              precision    recall  f1-score   support\n",
            "\n",
            "           1       1.00      1.00      1.00        10\n",
            "           2       1.00      0.90      0.95        10\n",
            "           3       0.91      1.00      0.95        10\n",
            "\n",
            "    accuracy                           0.97        30\n",
            "   macro avg       0.97      0.97      0.97        30\n",
            "weighted avg       0.97      0.97      0.97        30\n",
            "\n"
          ]
        }
      ]
    },
    {
      "cell_type": "markdown",
      "source": [
        "### 4.3 Regressão Logística com Digits"
      ],
      "metadata": {
        "id": "GEJ3s9vsNteR"
      }
    },
    {
      "cell_type": "code",
      "source": [
        "# validação cruzada\n",
        "from sklearn.model_selection import cross_val_score\n",
        "clf = LogisticRegression(random_state=0, max_iter=5000)\n",
        "scores = cross_val_score(clf, digits.data, digits.target, cv=5, scoring='accuracy')\n",
        "scores"
      ],
      "metadata": {
        "colab": {
          "base_uri": "https://localhost:8080/"
        },
        "id": "ZBM9X7cqNowX",
        "outputId": "09f5421e-9bb4-40f3-bffe-d814a5d11783"
      },
      "execution_count": null,
      "outputs": [
        {
          "output_type": "execute_result",
          "data": {
            "text/plain": [
              "array([0.925     , 0.87777778, 0.93871866, 0.93314763, 0.89693593])"
            ]
          },
          "metadata": {},
          "execution_count": 44
        }
      ]
    },
    {
      "cell_type": "code",
      "source": [
        "X_train, X_test, y_train, y_test = get_xy_digits()\n",
        "clf.fit(X_train,y_train)\n",
        "resultado = clf.predict(X_test)\n",
        "resultado"
      ],
      "metadata": {
        "colab": {
          "base_uri": "https://localhost:8080/"
        },
        "id": "HgtiNw6DN_By",
        "outputId": "e6aae78d-d938-43e3-b893-bf5579abdd14"
      },
      "execution_count": null,
      "outputs": [
        {
          "output_type": "execute_result",
          "data": {
            "text/plain": [
              "array([5, 3, 6, 1, 1, 8, 0, 0, 8, 6, 7, 2, 4, 9, 2, 0, 9, 1, 1, 5, 2, 7,\n",
              "       9, 8, 4, 3, 5, 0, 6, 4, 7, 9, 6, 3, 2, 2, 4, 3, 1, 3, 9, 6, 0, 4,\n",
              "       1, 7, 4, 6, 7, 7, 1, 6, 9, 7, 4, 1, 9, 2, 3, 7, 9, 9, 6, 4, 7, 7,\n",
              "       5, 3, 4, 1, 9, 6, 6, 3, 0, 8, 6, 2, 5, 5, 5, 3, 9, 6, 7, 2, 0, 2,\n",
              "       8, 1, 8, 6, 2, 0, 6, 6, 2, 0, 5, 2, 4, 2, 7, 0, 1, 8, 2, 7, 3, 2,\n",
              "       3, 5, 3, 1, 9, 3, 8, 7, 6, 8, 4, 3, 2, 0, 1, 7, 7, 1, 0, 9, 5, 5,\n",
              "       2, 8, 7, 9, 9, 9, 0, 8, 1, 1, 5, 7, 7, 9, 5, 5, 8, 7, 5, 9, 8, 7,\n",
              "       6, 0, 7, 8, 9, 4, 2, 6, 0, 3, 4, 2, 1, 1, 0, 4, 7, 0, 3, 7, 3, 9,\n",
              "       4, 4, 4, 5, 5, 4, 5, 9, 9, 7, 4, 1, 4, 9, 0, 4, 9, 1, 0, 5, 3, 9,\n",
              "       9, 9, 4, 2, 5, 6, 2, 4, 8, 3, 8, 3, 2, 4, 7, 1, 7, 1, 3, 3, 6, 3,\n",
              "       5, 7, 6, 8, 1, 3, 7, 1, 3, 4, 1, 5, 5, 0, 1, 9, 9, 2, 5, 1, 7, 0,\n",
              "       2, 4, 8, 8, 0, 8, 7, 5, 6, 5, 5, 5, 5, 0, 2, 8, 8, 2, 7, 0, 6, 3,\n",
              "       1, 4, 6, 2, 9, 5, 1, 2, 0, 9, 7, 0, 9, 1, 0, 0, 3, 1, 1, 6, 4, 4,\n",
              "       4, 2, 5, 6, 8, 6, 0, 8, 4, 4, 7, 3, 2, 9, 5, 2, 7, 6, 8, 5, 9, 3,\n",
              "       5, 8, 8, 8, 9, 0, 2, 2, 6, 9, 5, 4, 1, 0, 6, 0, 0, 3, 6, 7, 4, 9,\n",
              "       3, 0, 6, 2, 9, 8, 8, 0, 1, 0, 6, 8, 8, 3, 8, 3, 3, 6, 5, 6, 1, 2,\n",
              "       5, 2, 8, 1, 8, 6, 4, 4])"
            ]
          },
          "metadata": {},
          "execution_count": 45
        }
      ]
    },
    {
      "cell_type": "code",
      "source": [
        "#matriz de confusão\n",
        "print (pd.crosstab(y_test,resultado, rownames=['Real'], colnames=['Predito'], margins=True))"
      ],
      "metadata": {
        "colab": {
          "base_uri": "https://localhost:8080/"
        },
        "id": "7L8cLTEnOHvj",
        "outputId": "6818c332-a18b-42dd-d53f-1d8c5c006c5a"
      },
      "execution_count": null,
      "outputs": [
        {
          "output_type": "stream",
          "name": "stdout",
          "text": [
            "Predito   0   1   2   3   4   5   6   7   8   9  All\n",
            "Real                                                \n",
            "0        36   0   0   0   0   0   0   0   0   0   36\n",
            "1         0  35   1   0   0   0   0   0   1   0   37\n",
            "2         0   0  35   0   0   0   0   0   0   0   35\n",
            "3         0   0   0  33   0   2   0   0   1   1   37\n",
            "4         0   0   0   0  36   0   0   0   0   0   36\n",
            "5         0   0   0   0   0  35   0   0   0   1   36\n",
            "6         0   0   0   0   0   0  36   0   0   0   36\n",
            "7         0   0   0   1   0   0   0  35   0   0   36\n",
            "8         0   2   0   0   0   0   0   0  33   0   35\n",
            "9         0   0   0   0   0   0   0   0   0  36   36\n",
            "All      36  37  36  34  36  37  36  35  35  38  360\n"
          ]
        }
      ]
    },
    {
      "cell_type": "code",
      "source": [
        "# outras metricas\n",
        "from sklearn import metrics\n",
        "print(metrics.classification_report(y_test,resultado))"
      ],
      "metadata": {
        "colab": {
          "base_uri": "https://localhost:8080/"
        },
        "id": "AmyK0b9BOLE8",
        "outputId": "fc51884a-197a-43c1-83d8-d9079dd01a32"
      },
      "execution_count": null,
      "outputs": [
        {
          "output_type": "stream",
          "name": "stdout",
          "text": [
            "              precision    recall  f1-score   support\n",
            "\n",
            "           0       1.00      1.00      1.00        36\n",
            "           1       0.95      0.95      0.95        37\n",
            "           2       0.97      1.00      0.99        35\n",
            "           3       0.97      0.89      0.93        37\n",
            "           4       1.00      1.00      1.00        36\n",
            "           5       0.95      0.97      0.96        36\n",
            "           6       1.00      1.00      1.00        36\n",
            "           7       1.00      0.97      0.99        36\n",
            "           8       0.94      0.94      0.94        35\n",
            "           9       0.95      1.00      0.97        36\n",
            "\n",
            "    accuracy                           0.97       360\n",
            "   macro avg       0.97      0.97      0.97       360\n",
            "weighted avg       0.97      0.97      0.97       360\n",
            "\n"
          ]
        }
      ]
    },
    {
      "cell_type": "markdown",
      "source": [
        "## 5 Redes Neurais (MLP)\n"
      ],
      "metadata": {
        "id": "4J2qFrptP19m"
      }
    },
    {
      "cell_type": "markdown",
      "source": [
        "### Parâmetros "
      ],
      "metadata": {
        "id": "qN7jzFUlQTih"
      }
    },
    {
      "cell_type": "markdown",
      "source": [
        "\n",
        "**Tupla escondida_camada_tamanhos:** , comprimento = n_camadas - 2, padrão=(100,)\n",
        "O i-ésimo elemento representa o número de neurônios na i-ésima camada oculta.\n",
        "\n",
        "**ativação:** {'identidade', 'logística', 'tanh', 'relu'}, default='relu'\n",
        "Função de ativação para a camada oculta.\n",
        "\n",
        "* 'identity', ativação sem operação, útil para implementar gargalo linear, retorna f(x) = x\n",
        "\n",
        "* 'logística', a função sigmóide logística, retorna f(x) = 1 / (1 + exp(-x)).\n",
        "\n",
        "* 'tanh', a função tan hiperbólica, retorna f(x) = tanh(x).\n",
        "\n",
        "* 'relu', a função de unidade linear retificada, retorna f(x) = max(0, x)\n",
        "\n",
        "**solucionador:** {'lbfgs', 'sgd', 'adam'}, default='adam'\n",
        "O solucionador para otimização de peso.\n",
        "\n",
        "* 'lbfgs' é um otimizador na família de métodos quase-Newton.\n",
        "\n",
        "* 'sgd' refere-se à descida de gradiente estocástica.\n",
        "\n",
        "* 'adam' refere-se a um otimizador estocástico baseado em gradiente proposto por Kingma, Diederik e Jimmy Ba\n",
        "\n",
        "Observação: o solucionador padrão 'adam' funciona muito bem em conjuntos de dados relativamente grandes (com milhares de amostras de treinamento ou mais) em termos de tempo de treinamento e pontuação de validação. Para conjuntos de dados pequenos, no entanto, 'lbfgs' pode convergir mais rapidamente e ter melhor desempenho.\n",
        "\n",
        "**alfa:** flutuante, padrão = 0,0001\n",
        "Parâmetro de penalidade L2 (prazo de regularização).\n",
        "\n",
        "**batch_size:** int, default='auto'\n",
        "Tamanho de minilotes para otimizadores estocásticos. Se o solver for 'lbfgs', o classificador não usará o minilote. Quando definido como “automático”, .batch_size=min(200, n_samples)\n",
        "\n",
        "**learning_rate:** {'constant', 'invscaling', 'adaptive'}, default='constant'\n",
        "Cronograma de taxa de aprendizado para atualizações de peso.\n",
        "\n",
        "* 'constant' é uma taxa de aprendizado constante dada por 'learning_rate_init'.\n",
        "\n",
        "* 'invscaling' diminui gradualmente a taxa de aprendizado a cada passo de tempo 't' usando um expoente de escala inversa de 'power_t'. Effective_learning_rate = learning_rate_init / pow(t, power_t)\n",
        "\n",
        "* 'adaptativo' mantém a taxa de aprendizado constante para 'learning_rate_init' enquanto a perda de treinamento continua diminuindo. Cada vez que duas épocas consecutivas falham em diminuir a perda de treinamento em pelo menos tol, ou falham em aumentar a pontuação de validação em pelo menos tol se 'early_stopping' estiver ativado, a taxa de aprendizado atual é dividida por 5.\n",
        "\n",
        "Usado apenas quando solver='sgd'.\n",
        "\n",
        "**learning_rate_init:** float, padrão=0,001\n",
        "A taxa de aprendizado inicial usada. Ele controla o tamanho do passo na atualização dos pesos. Usado apenas quando solver='sgd' ou 'adam'.\n",
        "\n",
        "power_t flutuante, padrão = 0,5\n",
        "O expoente para a taxa de aprendizado de escala inversa. Ele é usado na atualização da taxa de aprendizado efetiva quando o learning_rate é definido como 'invscaling'. Usado apenas quando solver='sgd'.\n",
        "\n",
        "**max_iter:** int, padrão=200\n",
        "Número máximo de iterações. O solver itera até a convergência (determinada por 'tol') ou este número de iterações. Para solucionadores estocásticos ('sgd', 'adam'), observe que isso determina o número de épocas (quantas vezes cada ponto de dados será usado), não o número de etapas de gradiente.\n",
        "\n",
        "**shuffle:** bool, default=True\n",
        "Se as amostras devem ser embaralhadas em cada iteração. Usado apenas quando solver='sgd' ou 'adam'.\n",
        "\n",
        "**random_state:** int, instância RandomState, default=None\n",
        "Determina a geração de números aleatórios para inicialização de pesos e viés, divisão de teste de treinamento se for usada a parada antecipada e amostragem de lote quando solver='sgd' ou 'adam'. Passe um int para resultados reproduzíveis em várias chamadas de função. Consulte Glossário .\n",
        "\n",
        "**tol:** float, default=1e-4\n",
        "Tolerância para a otimização. Quando a perda ou pontuação não está melhorando pelo menos tolpor n_iter_no_changeiterações consecutivas, a menos que learning_rateseja definido como 'adaptativo', a convergência é considerada alcançada e o treinamento é interrompido.\n",
        "\n",
        "**verbose:** bool, default=False\n",
        "Se as mensagens de progresso devem ser impressas em stdout.\n",
        "\n",
        "**warm_start:** bool, default=False\n",
        "Quando definido como True, reutilize a solução da chamada anterior para caber como inicialização, caso contrário, apenas apague a solução anterior. Consulte o Glossário .\n"
      ],
      "metadata": {
        "id": "aVRQbI1TQKha"
      }
    },
    {
      "cell_type": "markdown",
      "source": [
        "### 5.1 Redes Neurais (MLP) com Titanic"
      ],
      "metadata": {
        "id": "nWmOyiJcRNdW"
      }
    },
    {
      "cell_type": "code",
      "source": [
        "from sklearn.neural_network import MLPClassifier\n",
        "# validação cruzada \n",
        "\n",
        "from sklearn.model_selection import cross_val_score\n",
        "clf = MLPClassifier(solver='lbfgs', alpha=1e-5, hidden_layer_sizes=(5, 2), random_state=1)\n",
        "scores = cross_val_score(clf, titanic.drop(columns=['Sobreviveu']), titanic['Sobreviveu'], cv=5, scoring='accuracy')\n",
        "scores"
      ],
      "metadata": {
        "colab": {
          "base_uri": "https://localhost:8080/"
        },
        "id": "mrL_PYidRVSU",
        "outputId": "a75b17a4-95a0-46aa-c724-1105cbd24ba0"
      },
      "execution_count": null,
      "outputs": [
        {
          "output_type": "execute_result",
          "data": {
            "text/plain": [
              "array([0.58552632, 0.81456954, 0.59602649, 0.86754967, 0.61589404])"
            ]
          },
          "metadata": {},
          "execution_count": 16
        }
      ]
    },
    {
      "cell_type": "code",
      "source": [
        "X_train, X_test, y_train, y_test = get_xy_titanic()\n",
        "clf.fit(X_train,y_train)\n",
        "resultado = clf.predict(X_test)\n",
        "resultado"
      ],
      "metadata": {
        "colab": {
          "base_uri": "https://localhost:8080/"
        },
        "id": "O4CRkBJ7RvgH",
        "outputId": "970be6cf-0068-4f17-ef35-2bdc8fbb3ad5"
      },
      "execution_count": null,
      "outputs": [
        {
          "output_type": "execute_result",
          "data": {
            "text/plain": [
              "array([1, 0, 1, 1, 1, 0, 1, 0, 0, 0, 0, 0, 0, 0, 0, 0, 1, 1, 1, 1, 0, 0,\n",
              "       1, 0, 0, 1, 0, 1, 1, 1, 0, 0, 1, 0, 0, 0, 0, 0, 0, 0, 0, 1, 0, 1,\n",
              "       0, 0, 0, 0, 0, 1, 1, 1, 1, 1, 0, 0, 1, 0, 1, 1, 0, 0, 0, 0, 0, 0,\n",
              "       0, 1, 0, 0, 1, 0, 0, 0, 1, 0, 1, 1, 0, 0, 1, 1, 0, 0, 0, 1, 1, 1,\n",
              "       1, 0, 0, 0, 1, 0, 1, 1, 0, 1, 0, 0, 0, 1, 1, 0, 0, 0, 1, 0, 0, 0,\n",
              "       1, 1, 1, 1, 1, 1, 1, 0, 0, 0, 0, 0, 0, 1, 0, 0, 0, 0, 1, 0, 1, 0,\n",
              "       1, 1, 1, 1, 0, 0, 1, 0, 1, 0, 0, 0, 0, 1, 0, 0, 0, 0, 0, 1])"
            ]
          },
          "metadata": {},
          "execution_count": 50
        }
      ]
    },
    {
      "cell_type": "code",
      "source": [
        "#matriz de confusão\n",
        "print (pd.crosstab(y_test,resultado, rownames=['Real'], colnames=['Predito'], margins=True))"
      ],
      "metadata": {
        "colab": {
          "base_uri": "https://localhost:8080/"
        },
        "id": "PjvJCfXrR2uI",
        "outputId": "3c5038fe-0a4e-4247-c0ab-fd2ab3e4ed6d"
      },
      "execution_count": null,
      "outputs": [
        {
          "output_type": "stream",
          "name": "stdout",
          "text": [
            "Predito    0   1  All\n",
            "Real                 \n",
            "0         81   8   89\n",
            "1         23  40   63\n",
            "All      104  48  152\n"
          ]
        }
      ]
    },
    {
      "cell_type": "code",
      "source": [
        "# outras metricas\n",
        "from sklearn import metrics\n",
        "print(metrics.classification_report(y_test,resultado))"
      ],
      "metadata": {
        "colab": {
          "base_uri": "https://localhost:8080/"
        },
        "id": "FuZkGuiqR6r4",
        "outputId": "547a4554-2c47-42ef-e6e9-5d8129badd01"
      },
      "execution_count": null,
      "outputs": [
        {
          "output_type": "stream",
          "name": "stdout",
          "text": [
            "              precision    recall  f1-score   support\n",
            "\n",
            "           0       0.78      0.91      0.84        89\n",
            "           1       0.83      0.63      0.72        63\n",
            "\n",
            "    accuracy                           0.80       152\n",
            "   macro avg       0.81      0.77      0.78       152\n",
            "weighted avg       0.80      0.80      0.79       152\n",
            "\n"
          ]
        }
      ]
    },
    {
      "cell_type": "markdown",
      "source": [
        "### 5.2 Redes Neurais (MLP) com Iris"
      ],
      "metadata": {
        "id": "Zi2BDHUkgXIZ"
      }
    },
    {
      "cell_type": "code",
      "source": [
        "# validação cruzada \n",
        "\n",
        "from sklearn.model_selection import cross_val_score\n",
        "clf = MLPClassifier(solver='lbfgs', alpha=1e-5, hidden_layer_sizes=(5, 3), random_state=1, max_iter=3000)\n",
        "scores = cross_val_score(clf, iris.drop(columns=['class']), iris['class'], cv=5, scoring='accuracy')\n",
        "scores"
      ],
      "metadata": {
        "colab": {
          "base_uri": "https://localhost:8080/"
        },
        "id": "j1wYXBV1R91A",
        "outputId": "d7689f6f-1508-4596-fe7d-4f69d5c4deee"
      },
      "execution_count": null,
      "outputs": [
        {
          "output_type": "execute_result",
          "data": {
            "text/plain": [
              "array([1.        , 1.        , 0.93333333, 0.93333333, 1.        ])"
            ]
          },
          "metadata": {},
          "execution_count": 51
        }
      ]
    },
    {
      "cell_type": "code",
      "source": [
        "X_train, X_test, y_train, y_test = get_xy_iris()\n",
        "clf.fit(X_train,y_train)\n",
        "resultado = clf.predict(X_test)\n",
        "resultado"
      ],
      "metadata": {
        "colab": {
          "base_uri": "https://localhost:8080/"
        },
        "id": "JP_W18cTg0P6",
        "outputId": "59bb5d8f-de58-4d83-9453-d4197c85c1c6"
      },
      "execution_count": null,
      "outputs": [
        {
          "output_type": "execute_result",
          "data": {
            "text/plain": [
              "array([2, 3, 1, 1, 1, 1, 1, 3, 2, 1, 2, 3, 2, 2, 3, 2, 1, 3, 1, 2, 2, 2,\n",
              "       2, 1, 3, 3, 3, 1, 2, 3])"
            ]
          },
          "metadata": {},
          "execution_count": 52
        }
      ]
    },
    {
      "cell_type": "code",
      "source": [
        "#matriz de confusão\n",
        "print (pd.crosstab(y_test,resultado, rownames=['Real'], colnames=['Predito'], margins=True))"
      ],
      "metadata": {
        "colab": {
          "base_uri": "https://localhost:8080/"
        },
        "id": "Hk5fX585g6RZ",
        "outputId": "88a48a77-727b-49b8-f722-3cde3fbfdc8c"
      },
      "execution_count": null,
      "outputs": [
        {
          "output_type": "stream",
          "name": "stdout",
          "text": [
            "Predito   1   2  3  All\n",
            "Real                   \n",
            "1        10   0  0   10\n",
            "2         0  10  0   10\n",
            "3         0   1  9   10\n",
            "All      10  11  9   30\n"
          ]
        }
      ]
    },
    {
      "cell_type": "code",
      "source": [
        "# outras metricas\n",
        "from sklearn import metrics\n",
        "print(metrics.classification_report(y_test,resultado))"
      ],
      "metadata": {
        "colab": {
          "base_uri": "https://localhost:8080/"
        },
        "id": "NeZZnl3Ng-0X",
        "outputId": "3fe509ae-7dfe-4be8-9dbb-21c9416eebb4"
      },
      "execution_count": null,
      "outputs": [
        {
          "output_type": "stream",
          "name": "stdout",
          "text": [
            "              precision    recall  f1-score   support\n",
            "\n",
            "           1       1.00      1.00      1.00        10\n",
            "           2       0.91      1.00      0.95        10\n",
            "           3       1.00      0.90      0.95        10\n",
            "\n",
            "    accuracy                           0.97        30\n",
            "   macro avg       0.97      0.97      0.97        30\n",
            "weighted avg       0.97      0.97      0.97        30\n",
            "\n"
          ]
        }
      ]
    },
    {
      "cell_type": "markdown",
      "source": [
        "### 5.3 Redes Neurais (MLP) com Digits"
      ],
      "metadata": {
        "id": "VMabfkB5gZRe"
      }
    },
    {
      "cell_type": "code",
      "source": [
        "from sklearn.model_selection import cross_val_score\n",
        "clf = MLPClassifier(solver='lbfgs', alpha=1e-5, hidden_layer_sizes=(5, 10), random_state=1, max_iter=10000)\n",
        "scores = cross_val_score(clf, digits.data, digits.target, cv=5, scoring='accuracy')\n",
        "scores"
      ],
      "metadata": {
        "colab": {
          "base_uri": "https://localhost:8080/"
        },
        "id": "V3AaeSihgcSI",
        "outputId": "161ed46b-4e1b-423f-e9ee-00ec223c3327"
      },
      "execution_count": null,
      "outputs": [
        {
          "output_type": "execute_result",
          "data": {
            "text/plain": [
              "array([0.775     , 0.69444444, 0.79108635, 0.84401114, 0.77437326])"
            ]
          },
          "metadata": {},
          "execution_count": 40
        }
      ]
    },
    {
      "cell_type": "code",
      "source": [
        "X_train, X_test, y_train, y_test = get_xy_digits()\n",
        "clf.fit(X_train,y_train)\n",
        "resultado = clf.predict(X_test)\n",
        "resultado"
      ],
      "metadata": {
        "colab": {
          "base_uri": "https://localhost:8080/"
        },
        "id": "P8xc95GWhMN-",
        "outputId": "ece4ab2f-87da-4099-8bfa-62e6481589da"
      },
      "execution_count": null,
      "outputs": [
        {
          "output_type": "execute_result",
          "data": {
            "text/plain": [
              "array([5, 3, 6, 1, 1, 8, 0, 0, 1, 6, 7, 2, 4, 9, 2, 0, 9, 7, 1, 5, 2, 7,\n",
              "       9, 8, 4, 3, 5, 5, 6, 4, 7, 9, 6, 3, 2, 2, 4, 3, 1, 3, 9, 6, 0, 4,\n",
              "       1, 7, 4, 6, 3, 7, 1, 6, 5, 7, 4, 1, 9, 2, 3, 7, 3, 9, 6, 1, 7, 7,\n",
              "       8, 3, 4, 4, 9, 6, 6, 3, 0, 1, 6, 2, 5, 5, 5, 3, 9, 6, 7, 2, 0, 2,\n",
              "       8, 1, 8, 6, 2, 4, 6, 5, 2, 0, 5, 2, 4, 2, 7, 0, 4, 8, 2, 7, 3, 1,\n",
              "       3, 5, 7, 1, 9, 3, 8, 7, 6, 8, 4, 9, 2, 5, 1, 7, 7, 1, 0, 9, 5, 5,\n",
              "       2, 8, 7, 9, 9, 9, 0, 8, 1, 6, 5, 7, 7, 9, 6, 5, 8, 7, 5, 9, 8, 7,\n",
              "       6, 0, 7, 8, 5, 4, 2, 6, 0, 3, 4, 2, 1, 7, 0, 4, 7, 5, 3, 7, 3, 9,\n",
              "       4, 4, 4, 2, 5, 4, 3, 9, 9, 7, 4, 2, 4, 9, 0, 4, 9, 1, 0, 5, 3, 8,\n",
              "       9, 9, 4, 2, 5, 6, 1, 4, 2, 1, 8, 3, 2, 4, 7, 1, 7, 1, 3, 2, 6, 8,\n",
              "       5, 7, 4, 8, 1, 3, 7, 1, 3, 4, 7, 5, 5, 0, 1, 9, 9, 2, 8, 1, 3, 5,\n",
              "       2, 4, 8, 8, 0, 8, 7, 5, 6, 5, 5, 3, 5, 0, 2, 8, 1, 2, 7, 0, 6, 3,\n",
              "       1, 4, 6, 2, 9, 5, 1, 2, 0, 9, 7, 0, 9, 1, 0, 0, 3, 1, 1, 6, 4, 4,\n",
              "       4, 2, 5, 6, 5, 6, 0, 1, 4, 4, 7, 3, 2, 9, 5, 8, 8, 6, 8, 5, 9, 3,\n",
              "       5, 8, 1, 8, 8, 0, 3, 2, 6, 0, 5, 4, 1, 0, 6, 5, 0, 2, 6, 7, 7, 9,\n",
              "       3, 0, 6, 2, 9, 8, 8, 4, 1, 0, 6, 2, 8, 3, 8, 3, 3, 5, 5, 6, 1, 2,\n",
              "       5, 2, 8, 1, 8, 6, 4, 4])"
            ]
          },
          "metadata": {},
          "execution_count": 41
        }
      ]
    },
    {
      "cell_type": "code",
      "source": [
        "#matriz de confusão\n",
        "print (pd.crosstab(y_test,resultado, rownames=['Real'], colnames=['Predito'], margins=True))"
      ],
      "metadata": {
        "colab": {
          "base_uri": "https://localhost:8080/"
        },
        "id": "dMnLB-gViAD7",
        "outputId": "1f3bdb2e-d03b-463b-8937-759e9b700a4e"
      },
      "execution_count": null,
      "outputs": [
        {
          "output_type": "stream",
          "name": "stdout",
          "text": [
            "Predito   0   1   2   3   4   5   6   7   8   9  All\n",
            "Real                                                \n",
            "0        29   0   0   0   1   4   0   0   1   1   36\n",
            "1         0  27   1   0   0   0   2   6   1   0   37\n",
            "2         0   1  32   2   0   0   0   0   0   0   35\n",
            "3         1   0   1  29   0   1   0   2   2   1   37\n",
            "4         0   1   0   0  35   0   0   0   0   0   36\n",
            "5         0   0   0   3   0  32   0   0   1   0   36\n",
            "6         0   0   0   0   1   1  34   0   0   0   36\n",
            "7         0   0   0   2   0   0   0  34   0   0   36\n",
            "8         2   4   2   0   0   0   0   2  25   0   35\n",
            "9         3   0   0   0   0   0   0   0   1  32   36\n",
            "All      35  33  36  36  37  38  36  44  31  34  360\n"
          ]
        }
      ]
    },
    {
      "cell_type": "code",
      "source": [
        "# outras metricas\n",
        "from sklearn import metrics\n",
        "print(metrics.classification_report(y_test,resultado))"
      ],
      "metadata": {
        "colab": {
          "base_uri": "https://localhost:8080/"
        },
        "id": "4u7kjoodiAuv",
        "outputId": "051c101c-df48-4291-b5c9-cc0a847435fd"
      },
      "execution_count": null,
      "outputs": [
        {
          "output_type": "stream",
          "name": "stdout",
          "text": [
            "              precision    recall  f1-score   support\n",
            "\n",
            "           0       0.83      0.81      0.82        36\n",
            "           1       0.82      0.73      0.77        37\n",
            "           2       0.89      0.91      0.90        35\n",
            "           3       0.81      0.78      0.79        37\n",
            "           4       0.95      0.97      0.96        36\n",
            "           5       0.84      0.89      0.86        36\n",
            "           6       0.94      0.94      0.94        36\n",
            "           7       0.77      0.94      0.85        36\n",
            "           8       0.81      0.71      0.76        35\n",
            "           9       0.94      0.89      0.91        36\n",
            "\n",
            "    accuracy                           0.86       360\n",
            "   macro avg       0.86      0.86      0.86       360\n",
            "weighted avg       0.86      0.86      0.86       360\n",
            "\n"
          ]
        }
      ]
    },
    {
      "cell_type": "markdown",
      "source": [
        "## 6 SVM"
      ],
      "metadata": {
        "id": "t8469TFZjsYc"
      }
    },
    {
      "cell_type": "markdown",
      "source": [
        "### Parametros"
      ],
      "metadata": {
        "id": "vCosA2y-j1Md"
      }
    },
    {
      "cell_type": "markdown",
      "source": [
        "**C:** flutuante, padrão = 1,0\n",
        "Parâmetro de regularização. A força da regularização é inversamente proporcional a C. Deve ser estritamente positiva. A penalidade é uma penalidade de 12 ao quadrado.\n",
        "\n",
        "**kernel:** {'linear', 'poly', 'rbf', 'sigmoid', 'precomputed'} ou callable, default='rbf'\n",
        "Especifica o tipo de kernel a ser usado no algoritmo. Se nenhum for fornecido, 'rbf' será usado. Se um callable for fornecido, ele será usado para pré-computar a matriz do kernel a partir de matrizes de dados; essa matriz deve ser uma matriz de forma .(n_samples, n_samples)\n",
        "\n",
        "**grau:** int, padrão=3\n",
        "Grau da função kernel polinomial ('poli'). Ignorado por todos os outros kernels.\n",
        "\n",
        "**gama:** {'scale', 'auto'} ou float, default='scale'\n",
        "Coeficiente de kernel para 'rbf', 'poli' e 'sigmoid'.\n",
        "\n",
        "* se gamma='scale'(padrão) for passado, ele usará 1 / (n_features * X.var()) como valor de gama,\n",
        "\n",
        "* se 'auto', usa 1 / n_features.\n",
        "\n",
        "**max_iter:** int, padrão=-1\n",
        "Limite rígido em iterações dentro do solver ou -1 para sem limite."
      ],
      "metadata": {
        "id": "vVPiw1Y8j4Fm"
      }
    },
    {
      "cell_type": "markdown",
      "source": [
        "### 6.1 SVM com Titanic"
      ],
      "metadata": {
        "id": "EmO3gZc5lRQg"
      }
    },
    {
      "cell_type": "code",
      "source": [
        "from sklearn.pipeline import make_pipeline\n",
        "from sklearn.preprocessing import StandardScaler\n",
        "from sklearn.svm import SVC\n",
        "\n",
        "clf = make_pipeline(StandardScaler(), SVC(gamma='auto'))"
      ],
      "metadata": {
        "id": "gpevZCWylXdP"
      },
      "execution_count": null,
      "outputs": []
    },
    {
      "cell_type": "code",
      "source": [
        "from sklearn.model_selection import cross_val_score\n",
        "\n",
        "scores = cross_val_score(clf, titanic.drop(columns=['Sobreviveu']), titanic['Sobreviveu'], cv=5, scoring='accuracy')\n",
        "scores"
      ],
      "metadata": {
        "colab": {
          "base_uri": "https://localhost:8080/"
        },
        "id": "ndDJRJcMlmlJ",
        "outputId": "00956987-b102-4b61-d260-af7d3dc51623"
      },
      "execution_count": null,
      "outputs": [
        {
          "output_type": "execute_result",
          "data": {
            "text/plain": [
              "array([0.42763158, 0.82781457, 0.81456954, 0.86754967, 0.58940397])"
            ]
          },
          "metadata": {},
          "execution_count": 56
        }
      ]
    },
    {
      "cell_type": "code",
      "source": [
        "X_train, X_test, y_train, y_test = get_xy_titanic()\n",
        "clf.fit(X_train,y_train)\n",
        "resultado = clf.predict(X_test)\n",
        "resultado"
      ],
      "metadata": {
        "colab": {
          "base_uri": "https://localhost:8080/"
        },
        "id": "fsdOfLfgl1RS",
        "outputId": "e4156c0b-8634-4e55-b847-1c0b94beab63"
      },
      "execution_count": null,
      "outputs": [
        {
          "output_type": "execute_result",
          "data": {
            "text/plain": [
              "array([1, 0, 1, 1, 1, 0, 1, 0, 0, 0, 0, 0, 0, 0, 0, 0, 1, 0, 1, 1, 0, 0,\n",
              "       1, 0, 0, 1, 0, 0, 1, 1, 0, 0, 1, 0, 0, 0, 0, 0, 0, 0, 0, 0, 0, 1,\n",
              "       0, 0, 0, 0, 0, 0, 1, 1, 1, 1, 0, 0, 0, 0, 0, 1, 0, 1, 0, 0, 0, 0,\n",
              "       0, 1, 0, 0, 1, 0, 0, 0, 0, 0, 0, 0, 0, 0, 1, 1, 0, 0, 0, 1, 0, 1,\n",
              "       0, 0, 0, 0, 1, 0, 1, 1, 0, 1, 0, 0, 0, 0, 0, 0, 0, 0, 1, 0, 0, 0,\n",
              "       0, 1, 0, 1, 1, 1, 1, 0, 0, 0, 0, 0, 0, 1, 0, 0, 0, 0, 1, 0, 1, 0,\n",
              "       0, 1, 1, 1, 0, 0, 1, 0, 0, 0, 0, 0, 0, 1, 0, 0, 0, 0, 0, 1])"
            ]
          },
          "metadata": {},
          "execution_count": 57
        }
      ]
    },
    {
      "cell_type": "code",
      "source": [
        "#matriz de confusão\n",
        "print (pd.crosstab(y_test,resultado, rownames=['Real'], colnames=['Predito'], margins=True))"
      ],
      "metadata": {
        "colab": {
          "base_uri": "https://localhost:8080/"
        },
        "id": "IzuHWgsdmfiH",
        "outputId": "185755f0-86df-4f06-f655-5c58a292f318"
      },
      "execution_count": null,
      "outputs": [
        {
          "output_type": "stream",
          "name": "stdout",
          "text": [
            "Predito    0   1  All\n",
            "Real                 \n",
            "0         84   5   89\n",
            "1         23  40   63\n",
            "All      107  45  152\n"
          ]
        }
      ]
    },
    {
      "cell_type": "code",
      "source": [
        "# outras metricas\n",
        "from sklearn import metrics\n",
        "print(metrics.classification_report(y_test,resultado))"
      ],
      "metadata": {
        "colab": {
          "base_uri": "https://localhost:8080/"
        },
        "id": "CzUN1xkvmioP",
        "outputId": "251793b8-ad32-402d-cfd6-8494a44ca838"
      },
      "execution_count": null,
      "outputs": [
        {
          "output_type": "stream",
          "name": "stdout",
          "text": [
            "              precision    recall  f1-score   support\n",
            "\n",
            "           0       0.79      0.94      0.86        89\n",
            "           1       0.89      0.63      0.74        63\n",
            "\n",
            "    accuracy                           0.82       152\n",
            "   macro avg       0.84      0.79      0.80       152\n",
            "weighted avg       0.83      0.82      0.81       152\n",
            "\n"
          ]
        }
      ]
    },
    {
      "cell_type": "markdown",
      "source": [
        "### 6.2 SVM com Iris"
      ],
      "metadata": {
        "id": "zBG5dSSHmozq"
      }
    },
    {
      "cell_type": "code",
      "source": [
        "from sklearn.model_selection import cross_val_score\n",
        "\n",
        "scores = cross_val_score(clf, iris.drop(columns=['class']), iris['class'], cv=5, scoring='accuracy')\n",
        "scores"
      ],
      "metadata": {
        "colab": {
          "base_uri": "https://localhost:8080/"
        },
        "id": "wiYyHIdrml-a",
        "outputId": "8a13dfb0-2c97-42f1-f986-ce5f2ee1ec7e"
      },
      "execution_count": null,
      "outputs": [
        {
          "output_type": "execute_result",
          "data": {
            "text/plain": [
              "array([0.96666667, 0.96666667, 0.96666667, 0.93333333, 1.        ])"
            ]
          },
          "metadata": {},
          "execution_count": 61
        }
      ]
    },
    {
      "cell_type": "code",
      "source": [
        "X_train, X_test, y_train, y_test = get_xy_iris()\n",
        "clf.fit(X_train,y_train)\n",
        "resultado = clf.predict(X_test)\n",
        "resultado"
      ],
      "metadata": {
        "colab": {
          "base_uri": "https://localhost:8080/"
        },
        "id": "tlZ7zNiPmyDk",
        "outputId": "71752e85-d211-44f6-a19c-7fe86957b78d"
      },
      "execution_count": null,
      "outputs": [
        {
          "output_type": "execute_result",
          "data": {
            "text/plain": [
              "array([2, 3, 1, 1, 1, 1, 1, 3, 2, 1, 2, 3, 2, 2, 3, 2, 1, 3, 1, 2, 2, 2,\n",
              "       2, 1, 3, 3, 3, 1, 2, 3])"
            ]
          },
          "metadata": {},
          "execution_count": 62
        }
      ]
    },
    {
      "cell_type": "code",
      "source": [
        "#matriz de confusão\n",
        "print (pd.crosstab(y_test,resultado, rownames=['Real'], colnames=['Predito'], margins=True))"
      ],
      "metadata": {
        "colab": {
          "base_uri": "https://localhost:8080/"
        },
        "id": "s79HdpJBnAU-",
        "outputId": "3a643dd1-4383-43e7-c0f6-2008e49dba60"
      },
      "execution_count": null,
      "outputs": [
        {
          "output_type": "stream",
          "name": "stdout",
          "text": [
            "Predito   1   2  3  All\n",
            "Real                   \n",
            "1        10   0  0   10\n",
            "2         0  10  0   10\n",
            "3         0   1  9   10\n",
            "All      10  11  9   30\n"
          ]
        }
      ]
    },
    {
      "cell_type": "code",
      "source": [
        "# outras metricas\n",
        "from sklearn import metrics\n",
        "print(metrics.classification_report(y_test,resultado))"
      ],
      "metadata": {
        "colab": {
          "base_uri": "https://localhost:8080/"
        },
        "id": "WZ6G6eIpnDH-",
        "outputId": "1af27e7b-3e54-4849-ceb6-32d285be022b"
      },
      "execution_count": null,
      "outputs": [
        {
          "output_type": "stream",
          "name": "stdout",
          "text": [
            "              precision    recall  f1-score   support\n",
            "\n",
            "           1       1.00      1.00      1.00        10\n",
            "           2       0.91      1.00      0.95        10\n",
            "           3       1.00      0.90      0.95        10\n",
            "\n",
            "    accuracy                           0.97        30\n",
            "   macro avg       0.97      0.97      0.97        30\n",
            "weighted avg       0.97      0.97      0.97        30\n",
            "\n"
          ]
        }
      ]
    },
    {
      "cell_type": "markdown",
      "source": [
        "### 6.3 SVM com Digits"
      ],
      "metadata": {
        "id": "jTCZO86tnKBN"
      }
    },
    {
      "cell_type": "code",
      "source": [
        "from sklearn.model_selection import cross_val_score\n",
        "\n",
        "scores = cross_val_score(clf, digits.data, digits.target, cv=5, scoring='accuracy')\n",
        "scores"
      ],
      "metadata": {
        "colab": {
          "base_uri": "https://localhost:8080/"
        },
        "id": "z0gvFaSInGOv",
        "outputId": "5599649c-0cdc-41b5-9435-1f142874d30c"
      },
      "execution_count": null,
      "outputs": [
        {
          "output_type": "execute_result",
          "data": {
            "text/plain": [
              "array([0.96111111, 0.925     , 0.94428969, 0.94707521, 0.94428969])"
            ]
          },
          "metadata": {},
          "execution_count": 66
        }
      ]
    },
    {
      "cell_type": "code",
      "source": [
        "X_train, X_test, y_train, y_test = get_xy_digits()\n",
        "clf.fit(X_train,y_train)\n",
        "resultado = clf.predict(X_test)\n",
        "resultado"
      ],
      "metadata": {
        "colab": {
          "base_uri": "https://localhost:8080/"
        },
        "id": "BCbK2Bq3nXdb",
        "outputId": "20f05c87-7c20-4285-eb32-10bac96e93a6"
      },
      "execution_count": null,
      "outputs": [
        {
          "output_type": "execute_result",
          "data": {
            "text/plain": [
              "array([5, 3, 6, 1, 1, 8, 0, 0, 8, 6, 7, 2, 4, 9, 2, 0, 9, 1, 1, 5, 2, 7,\n",
              "       9, 8, 4, 3, 5, 0, 6, 4, 7, 9, 6, 3, 2, 2, 4, 3, 1, 3, 9, 6, 0, 4,\n",
              "       1, 7, 4, 6, 7, 7, 1, 6, 9, 7, 4, 1, 9, 2, 3, 7, 9, 9, 6, 4, 7, 7,\n",
              "       5, 3, 4, 1, 9, 6, 6, 3, 0, 8, 6, 2, 5, 5, 5, 3, 9, 6, 7, 2, 0, 2,\n",
              "       8, 1, 8, 6, 2, 0, 6, 6, 2, 0, 5, 2, 4, 2, 7, 0, 1, 8, 2, 7, 3, 2,\n",
              "       3, 5, 1, 1, 9, 3, 3, 7, 6, 8, 4, 3, 2, 0, 1, 7, 7, 1, 0, 9, 5, 5,\n",
              "       2, 8, 7, 8, 9, 9, 0, 8, 1, 1, 5, 7, 7, 9, 5, 5, 8, 7, 5, 9, 8, 7,\n",
              "       6, 0, 7, 8, 9, 4, 2, 6, 0, 3, 4, 2, 1, 1, 0, 4, 7, 0, 3, 7, 4, 9,\n",
              "       4, 4, 4, 5, 5, 4, 5, 9, 9, 7, 4, 8, 4, 9, 0, 4, 9, 1, 0, 3, 3, 3,\n",
              "       9, 9, 4, 2, 5, 6, 1, 4, 1, 3, 8, 3, 2, 4, 7, 1, 7, 1, 3, 3, 6, 3,\n",
              "       5, 5, 6, 8, 1, 3, 7, 1, 3, 4, 1, 5, 5, 0, 1, 9, 9, 2, 5, 1, 7, 0,\n",
              "       2, 4, 8, 8, 0, 8, 7, 5, 6, 5, 5, 5, 5, 0, 2, 8, 8, 2, 7, 0, 6, 3,\n",
              "       1, 4, 6, 2, 9, 5, 1, 2, 0, 9, 7, 0, 9, 1, 0, 0, 3, 1, 1, 6, 4, 4,\n",
              "       4, 2, 5, 6, 8, 6, 0, 8, 4, 4, 7, 3, 2, 9, 5, 2, 7, 6, 8, 5, 9, 3,\n",
              "       5, 8, 8, 8, 9, 0, 2, 2, 6, 9, 5, 4, 1, 0, 6, 0, 0, 3, 6, 7, 4, 9,\n",
              "       3, 0, 6, 2, 9, 8, 8, 0, 1, 0, 6, 8, 8, 3, 8, 3, 3, 6, 5, 6, 1, 2,\n",
              "       5, 2, 8, 1, 8, 6, 4, 4])"
            ]
          },
          "metadata": {},
          "execution_count": 68
        }
      ]
    },
    {
      "cell_type": "code",
      "source": [
        "#matriz de confusão\n",
        "print(pd.crosstab(y_test,resultado, rownames=['Real'], colnames=['Predito'], margins=True))"
      ],
      "metadata": {
        "colab": {
          "base_uri": "https://localhost:8080/"
        },
        "id": "N-jQH5qin6W3",
        "outputId": "c73eb193-15fe-40d2-f6ef-a2fb912fed72"
      },
      "execution_count": null,
      "outputs": [
        {
          "output_type": "stream",
          "name": "stdout",
          "text": [
            "Predito   0   1   2   3   4   5   6   7   8   9  All\n",
            "Real                                                \n",
            "0        36   0   0   0   0   0   0   0   0   0   36\n",
            "1         0  37   0   0   0   0   0   0   0   0   37\n",
            "2         0   0  35   0   0   0   0   0   0   0   35\n",
            "3         0   0   0  35   1   1   0   0   0   0   37\n",
            "4         0   0   0   0  36   0   0   0   0   0   36\n",
            "5         0   0   0   0   0  35   0   0   0   1   36\n",
            "6         0   0   0   0   0   0  36   0   0   0   36\n",
            "7         0   0   0   0   0   1   0  35   0   0   36\n",
            "8         0   1   0   0   0   0   0   0  34   0   35\n",
            "9         0   0   0   0   0   0   0   0   1  35   36\n",
            "All      36  38  35  35  37  37  36  35  35  36  360\n"
          ]
        }
      ]
    },
    {
      "cell_type": "code",
      "source": [
        "# outras metricas\n",
        "from sklearn import metrics\n",
        "print(metrics.classification_report(y_test,resultado))"
      ],
      "metadata": {
        "colab": {
          "base_uri": "https://localhost:8080/"
        },
        "id": "wa8Hvx8eoDoQ",
        "outputId": "93b3317a-681d-479d-f546-1edb0223871b"
      },
      "execution_count": null,
      "outputs": [
        {
          "output_type": "stream",
          "name": "stdout",
          "text": [
            "              precision    recall  f1-score   support\n",
            "\n",
            "           0       1.00      1.00      1.00        36\n",
            "           1       0.97      1.00      0.99        37\n",
            "           2       1.00      1.00      1.00        35\n",
            "           3       1.00      0.95      0.97        37\n",
            "           4       0.97      1.00      0.99        36\n",
            "           5       0.95      0.97      0.96        36\n",
            "           6       1.00      1.00      1.00        36\n",
            "           7       1.00      0.97      0.99        36\n",
            "           8       0.97      0.97      0.97        35\n",
            "           9       0.97      0.97      0.97        36\n",
            "\n",
            "    accuracy                           0.98       360\n",
            "   macro avg       0.98      0.98      0.98       360\n",
            "weighted avg       0.98      0.98      0.98       360\n",
            "\n"
          ]
        }
      ]
    },
    {
      "cell_type": "markdown",
      "source": [
        "## 7 Árvores de Decisão"
      ],
      "metadata": {
        "id": "KEw2_qIcoVHj"
      }
    },
    {
      "cell_type": "markdown",
      "source": [
        "### Parametros"
      ],
      "metadata": {
        "id": "nqn3LT5xoYKP"
      }
    },
    {
      "cell_type": "markdown",
      "source": [
        "**critério:** {“gini”, “entropia”}, default=”gini”\n",
        "A função para medir a qualidade de uma divisão. Os critérios suportados são “gini” para a impureza Gini e “entropia” para o ganho de informação.\n",
        "\n",
        "**divisor:** {“melhor”, “aleatório”}, padrão=”melhor”\n",
        "A estratégia utilizada para escolher a divisão em cada nó. As estratégias suportadas são “melhores” para escolher a melhor divisão e “aleatórias” para escolher a melhor divisão aleatória.\n",
        "\n",
        "**max_depth:** int, default=Nenhum\n",
        "A profundidade máxima da árvore. Se Nenhum, os nós são expandidos até que todas as folhas sejam puras ou até que todas as folhas contenham menos de min_samples_split amostras.\n",
        "\n",
        "**min_samples_split:** int ou float, default=2\n",
        "O número mínimo de amostras necessárias para dividir um nó interno:\n",
        "\n",
        "* Se int, então considere min_samples_splitcomo o número mínimo.\n",
        "\n",
        "* Se float, então min_samples_splité uma fração e é o número mínimo de amostras para cada divisão.ceil(min_samples_split * n_samples)"
      ],
      "metadata": {
        "id": "6WQpUY_yoafB"
      }
    },
    {
      "cell_type": "code",
      "source": [
        "from sklearn.tree import DecisionTreeClassifier\n",
        "clf = DecisionTreeClassifier(random_state=0)"
      ],
      "metadata": {
        "id": "kZwWHNLooHfB"
      },
      "execution_count": null,
      "outputs": []
    },
    {
      "cell_type": "markdown",
      "source": [
        "### 7.1 Árvore de Decisão com Titanic"
      ],
      "metadata": {
        "id": "e3LkBvQYpC2C"
      }
    },
    {
      "cell_type": "code",
      "source": [
        "from sklearn.model_selection import cross_val_score\n",
        "\n",
        "scores = cross_val_score(clf, titanic.drop(columns=['Sobreviveu']), titanic['Sobreviveu'], cv=5, scoring='accuracy')\n",
        "scores"
      ],
      "metadata": {
        "colab": {
          "base_uri": "https://localhost:8080/"
        },
        "id": "LMU1Fgfso-Jz",
        "outputId": "2608a2f5-1648-46ca-f372-d075b0930228"
      },
      "execution_count": null,
      "outputs": [
        {
          "output_type": "execute_result",
          "data": {
            "text/plain": [
              "array([0.42763158, 0.73509934, 0.80794702, 0.76821192, 0.63576159])"
            ]
          },
          "metadata": {},
          "execution_count": 72
        }
      ]
    },
    {
      "cell_type": "code",
      "source": [
        "X_train, X_test, y_train, y_test = get_xy_titanic()\n",
        "clf.fit(X_train,y_train)\n",
        "resultado = clf.predict(X_test)\n",
        "resultado"
      ],
      "metadata": {
        "colab": {
          "base_uri": "https://localhost:8080/"
        },
        "id": "o4UEGjQopV5c",
        "outputId": "0d667090-20de-4fba-a4bf-d3e810b35fd7"
      },
      "execution_count": null,
      "outputs": [
        {
          "output_type": "execute_result",
          "data": {
            "text/plain": [
              "array([1, 0, 1, 1, 1, 0, 1, 0, 0, 0, 1, 0, 0, 0, 0, 0, 1, 1, 1, 1, 1, 1,\n",
              "       1, 0, 1, 1, 0, 0, 1, 1, 0, 0, 1, 0, 1, 0, 0, 0, 0, 0, 0, 0, 0, 1,\n",
              "       0, 0, 0, 0, 0, 0, 1, 1, 1, 1, 0, 0, 0, 1, 0, 1, 0, 1, 0, 0, 0, 0,\n",
              "       0, 1, 0, 0, 1, 0, 0, 0, 0, 0, 0, 0, 0, 0, 1, 1, 0, 0, 0, 1, 1, 1,\n",
              "       0, 0, 0, 0, 1, 0, 1, 1, 0, 1, 0, 0, 1, 0, 0, 0, 0, 0, 1, 0, 0, 0,\n",
              "       0, 1, 0, 1, 1, 1, 1, 0, 0, 0, 0, 0, 0, 1, 0, 0, 0, 0, 1, 0, 1, 0,\n",
              "       0, 1, 1, 1, 0, 0, 1, 0, 0, 0, 0, 0, 0, 1, 0, 0, 0, 0, 0, 1])"
            ]
          },
          "metadata": {},
          "execution_count": 73
        }
      ]
    },
    {
      "cell_type": "code",
      "source": [
        "#matriz de confusão\n",
        "print(pd.crosstab(y_test,resultado, rownames=['Real'], colnames=['Predito'], margins=True))"
      ],
      "metadata": {
        "colab": {
          "base_uri": "https://localhost:8080/"
        },
        "id": "ITupYYf3pcC1",
        "outputId": "08f782bb-f4c1-471d-9aae-71f5c9550fe2"
      },
      "execution_count": null,
      "outputs": [
        {
          "output_type": "stream",
          "name": "stdout",
          "text": [
            "Predito   0   1  All\n",
            "Real                \n",
            "0        79  10   89\n",
            "1        19  44   63\n",
            "All      98  54  152\n"
          ]
        }
      ]
    },
    {
      "cell_type": "code",
      "source": [
        "# outras metricas\n",
        "from sklearn import metrics\n",
        "print(metrics.classification_report(y_test,resultado))"
      ],
      "metadata": {
        "colab": {
          "base_uri": "https://localhost:8080/"
        },
        "id": "0cHEKyh2pgot",
        "outputId": "ed3fe5e4-8c20-4c5a-b86c-9e4912583afe"
      },
      "execution_count": null,
      "outputs": [
        {
          "output_type": "stream",
          "name": "stdout",
          "text": [
            "              precision    recall  f1-score   support\n",
            "\n",
            "           0       0.81      0.89      0.84        89\n",
            "           1       0.81      0.70      0.75        63\n",
            "\n",
            "    accuracy                           0.81       152\n",
            "   macro avg       0.81      0.79      0.80       152\n",
            "weighted avg       0.81      0.81      0.81       152\n",
            "\n"
          ]
        }
      ]
    },
    {
      "cell_type": "markdown",
      "source": [
        "### 7.2 Árvore de decisão com Iris"
      ],
      "metadata": {
        "id": "-_47-WhVprN1"
      }
    },
    {
      "cell_type": "code",
      "source": [
        "from sklearn.model_selection import cross_val_score\n",
        "\n",
        "scores = cross_val_score(clf, iris.drop(columns=['class']), iris['class'], cv=5, scoring='accuracy')\n",
        "scores"
      ],
      "metadata": {
        "colab": {
          "base_uri": "https://localhost:8080/"
        },
        "id": "x1T1DK_PpiwO",
        "outputId": "a492c355-6959-4abc-bb39-cfeb85239d11"
      },
      "execution_count": null,
      "outputs": [
        {
          "output_type": "execute_result",
          "data": {
            "text/plain": [
              "array([0.96666667, 0.96666667, 0.9       , 0.96666667, 1.        ])"
            ]
          },
          "metadata": {},
          "execution_count": 76
        }
      ]
    },
    {
      "cell_type": "code",
      "source": [
        "X_train, X_test, y_train, y_test = get_xy_iris()\n",
        "clf.fit(X_train,y_train)\n",
        "resultado = clf.predict(X_test)\n",
        "resultado\n"
      ],
      "metadata": {
        "colab": {
          "base_uri": "https://localhost:8080/"
        },
        "id": "6QQX41diqES8",
        "outputId": "6a607dd3-ce94-49e5-fa67-ca6535746ad5"
      },
      "execution_count": null,
      "outputs": [
        {
          "output_type": "execute_result",
          "data": {
            "text/plain": [
              "array([2, 3, 1, 1, 1, 1, 1, 3, 2, 1, 2, 3, 2, 2, 3, 3, 1, 3, 1, 2, 2, 2,\n",
              "       2, 1, 3, 3, 3, 1, 3, 3])"
            ]
          },
          "metadata": {},
          "execution_count": 77
        }
      ]
    },
    {
      "cell_type": "code",
      "source": [
        "#matriz de confusão\n",
        "print(pd.crosstab(y_test,resultado, rownames=['Real'], colnames=['Predito'], margins=True))"
      ],
      "metadata": {
        "colab": {
          "base_uri": "https://localhost:8080/"
        },
        "id": "jsBvvJxPslNE",
        "outputId": "24bac624-e887-487e-b63c-4d9173a6516b"
      },
      "execution_count": null,
      "outputs": [
        {
          "output_type": "stream",
          "name": "stdout",
          "text": [
            "Predito   1  2   3  All\n",
            "Real                   \n",
            "1        10  0   0   10\n",
            "2         0  9   1   10\n",
            "3         0  0  10   10\n",
            "All      10  9  11   30\n"
          ]
        }
      ]
    },
    {
      "cell_type": "code",
      "source": [
        "# outras metricas\n",
        "from sklearn import metrics\n",
        "print(metrics.classification_report(y_test,resultado))"
      ],
      "metadata": {
        "colab": {
          "base_uri": "https://localhost:8080/"
        },
        "id": "RFW6dooAsoxG",
        "outputId": "19bd814d-ad2b-4555-d5f1-2bf2704a7937"
      },
      "execution_count": null,
      "outputs": [
        {
          "output_type": "stream",
          "name": "stdout",
          "text": [
            "              precision    recall  f1-score   support\n",
            "\n",
            "           1       1.00      1.00      1.00        10\n",
            "           2       1.00      0.90      0.95        10\n",
            "           3       0.91      1.00      0.95        10\n",
            "\n",
            "    accuracy                           0.97        30\n",
            "   macro avg       0.97      0.97      0.97        30\n",
            "weighted avg       0.97      0.97      0.97        30\n",
            "\n"
          ]
        }
      ]
    },
    {
      "cell_type": "markdown",
      "source": [
        "### 7.3 Árvore de decisão com Digits"
      ],
      "metadata": {
        "id": "KvSrY3xLstoc"
      }
    },
    {
      "cell_type": "code",
      "source": [
        "from sklearn.model_selection import cross_val_score\n",
        "\n",
        "scores = cross_val_score(clf, digits.data, digits.target, cv=5, scoring='accuracy')\n",
        "scores"
      ],
      "metadata": {
        "colab": {
          "base_uri": "https://localhost:8080/"
        },
        "id": "v-Pw0Nhqsrq9",
        "outputId": "98c9dd78-306e-49f9-fa5e-6d1f5ea1cea1"
      },
      "execution_count": null,
      "outputs": [
        {
          "output_type": "execute_result",
          "data": {
            "text/plain": [
              "array([0.77777778, 0.71666667, 0.7994429 , 0.84122563, 0.79387187])"
            ]
          },
          "metadata": {},
          "execution_count": 80
        }
      ]
    },
    {
      "cell_type": "code",
      "source": [
        "X_train, X_test, y_train, y_test = get_xy_digits()\n",
        "clf.fit(X_train,y_train)\n",
        "resultado = clf.predict(X_test)\n",
        "resultado"
      ],
      "metadata": {
        "colab": {
          "base_uri": "https://localhost:8080/"
        },
        "id": "thwuVyPgs71J",
        "outputId": "d83cd9c8-40c6-49b7-cd79-60bf55291153"
      },
      "execution_count": null,
      "outputs": [
        {
          "output_type": "execute_result",
          "data": {
            "text/plain": [
              "array([5, 3, 6, 1, 1, 8, 0, 0, 8, 6, 9, 2, 4, 9, 2, 0, 9, 1, 1, 5, 2, 7,\n",
              "       4, 8, 4, 3, 5, 0, 6, 4, 7, 9, 6, 2, 2, 3, 4, 3, 1, 3, 1, 6, 0, 4,\n",
              "       1, 7, 4, 6, 7, 7, 1, 6, 5, 7, 4, 1, 9, 2, 3, 7, 8, 9, 6, 1, 7, 7,\n",
              "       4, 3, 4, 8, 3, 6, 6, 2, 0, 3, 6, 2, 5, 5, 5, 3, 9, 6, 7, 2, 0, 2,\n",
              "       8, 1, 8, 6, 2, 0, 6, 4, 2, 0, 3, 2, 4, 2, 7, 0, 5, 8, 2, 7, 3, 2,\n",
              "       3, 5, 3, 1, 9, 3, 1, 7, 6, 8, 4, 3, 3, 0, 1, 7, 8, 1, 0, 9, 5, 5,\n",
              "       2, 8, 7, 3, 9, 3, 0, 8, 1, 1, 5, 7, 7, 9, 5, 5, 8, 7, 5, 9, 8, 7,\n",
              "       6, 0, 7, 8, 9, 4, 2, 6, 0, 9, 4, 2, 1, 9, 0, 0, 7, 0, 3, 7, 3, 9,\n",
              "       4, 4, 4, 5, 5, 4, 3, 9, 9, 7, 4, 6, 4, 9, 0, 4, 9, 1, 0, 3, 3, 3,\n",
              "       9, 9, 4, 2, 5, 6, 2, 4, 5, 2, 8, 3, 2, 4, 7, 1, 7, 1, 8, 9, 6, 9,\n",
              "       5, 7, 8, 8, 1, 3, 7, 1, 3, 4, 1, 5, 5, 0, 1, 9, 2, 2, 5, 1, 7, 0,\n",
              "       2, 4, 3, 3, 0, 2, 7, 5, 6, 5, 5, 5, 5, 0, 2, 8, 2, 2, 7, 0, 6, 3,\n",
              "       2, 4, 6, 2, 9, 5, 1, 8, 0, 9, 7, 0, 9, 1, 0, 0, 3, 1, 1, 6, 4, 4,\n",
              "       4, 2, 5, 6, 9, 6, 0, 8, 8, 4, 7, 3, 2, 9, 5, 8, 9, 6, 2, 5, 9, 3,\n",
              "       5, 8, 1, 8, 4, 0, 2, 2, 4, 8, 5, 4, 3, 0, 6, 0, 0, 3, 6, 7, 4, 9,\n",
              "       3, 0, 4, 2, 9, 8, 8, 0, 1, 0, 6, 1, 9, 7, 8, 9, 3, 6, 5, 6, 5, 1,\n",
              "       5, 2, 8, 1, 8, 6, 4, 4])"
            ]
          },
          "metadata": {},
          "execution_count": 81
        }
      ]
    },
    {
      "cell_type": "code",
      "source": [
        "#matriz de confusão\n",
        "print(pd.crosstab(y_test,resultado, rownames=['Real'], colnames=['Predito'], margins=True))"
      ],
      "metadata": {
        "colab": {
          "base_uri": "https://localhost:8080/"
        },
        "id": "wwc_th11tAMI",
        "outputId": "fa8ec910-c18b-4722-83f6-08706cbeec83"
      },
      "execution_count": null,
      "outputs": [
        {
          "output_type": "stream",
          "name": "stdout",
          "text": [
            "Predito   0   1   2   3   4   5   6   7   8   9  All\n",
            "Real                                                \n",
            "0        36   0   0   0   0   0   0   0   0   0   36\n",
            "1         0  29   2   2   0   3   0   0   0   1   37\n",
            "2         0   1  30   2   0   0   0   0   2   0   35\n",
            "3         0   1   3  26   1   0   0   1   1   4   37\n",
            "4         1   1   0   0  33   0   0   0   1   0   36\n",
            "5         0   0   0   2   0  33   0   0   1   0   36\n",
            "6         0   0   0   0   3   0  32   0   1   0   36\n",
            "7         0   0   0   0   0   0   0  33   1   2   36\n",
            "8         0   2   3   3   0   0   1   0  24   2   35\n",
            "9         0   1   1   3   2   1   0   0   1  27   36\n",
            "All      37  35  39  38  39  37  33  34  32  36  360\n"
          ]
        }
      ]
    },
    {
      "cell_type": "code",
      "source": [
        "# outras metricas\n",
        "from sklearn import metrics\n",
        "print(metrics.classification_report(y_test,resultado))"
      ],
      "metadata": {
        "colab": {
          "base_uri": "https://localhost:8080/"
        },
        "id": "huhFY84mtCFg",
        "outputId": "2b035c7f-fa2f-4749-cab9-1b216ad2b339"
      },
      "execution_count": null,
      "outputs": [
        {
          "output_type": "stream",
          "name": "stdout",
          "text": [
            "              precision    recall  f1-score   support\n",
            "\n",
            "           0       0.97      1.00      0.99        36\n",
            "           1       0.83      0.78      0.81        37\n",
            "           2       0.77      0.86      0.81        35\n",
            "           3       0.68      0.70      0.69        37\n",
            "           4       0.85      0.92      0.88        36\n",
            "           5       0.89      0.92      0.90        36\n",
            "           6       0.97      0.89      0.93        36\n",
            "           7       0.97      0.92      0.94        36\n",
            "           8       0.75      0.69      0.72        35\n",
            "           9       0.75      0.75      0.75        36\n",
            "\n",
            "    accuracy                           0.84       360\n",
            "   macro avg       0.84      0.84      0.84       360\n",
            "weighted avg       0.84      0.84      0.84       360\n",
            "\n"
          ]
        }
      ]
    },
    {
      "cell_type": "markdown",
      "source": [
        "## 8 Random Forests"
      ],
      "metadata": {
        "id": "dMpDHlYNtI24"
      }
    },
    {
      "cell_type": "markdown",
      "source": [
        "### Parametros:"
      ],
      "metadata": {
        "id": "fSNC7w-TtLli"
      }
    },
    {
      "cell_type": "markdown",
      "source": [
        "**n_estimators:** int, padrão=100\n",
        "O número de árvores na floresta.\n",
        "\n",
        "**critério:** {“gini”, “entropia”}, default=”gini”\n",
        "A função para medir a qualidade de uma divisão. Os critérios suportados são “gini” para a impureza Gini e “entropia” para o ganho de informação. Nota: este parâmetro é específico da árvore.\n",
        "\n",
        "**max_depth:** int, default=Nenhum\n",
        "A profundidade máxima da árvore. Se Nenhum, os nós são expandidos até que todas as folhas sejam puras ou até que todas as folhas contenham menos de min_samples_split amostras.\n",
        "\n",
        "**min_samples_split:** int ou float, default=2\n",
        "O número mínimo de amostras necessárias para dividir um nó interno:\n",
        "\n",
        "* Se int, então considere min_samples_splitcomo o número mínimo.\n",
        "\n",
        "* Se float, então min_samples_splité uma fração e é o número mínimo de amostras para cada divisão.ceil(min_samples_split * n_samples)\n",
        "\n",
        "**bootstrap:** bool, default=True\n",
        "Se as amostras de bootstrap são usadas ao construir árvores. Se False, todo o conjunto de dados é usado para construir cada árvore.\n",
        "\n",
        "**oob_score:** bool, default=False\n",
        "Se deve usar amostras fora da bolsa para estimar a pontuação de generalização. Disponível apenas se bootstrap=True.\n",
        "\n",
        "**n_jobs:** int, default=Nenhum\n",
        "O número de jobs a serem executados em paralelo. fit, predict, decision_pathe applysão todos paralelizados sobre as árvores. Nonesignifica 1 a menos que em um joblib.parallel_backendcontexto. -1significa usar todos os processadores. Consulte o Glossário para obter mais detalhes.\n",
        "\n",
        "**random_state:** int, instância RandomState ou None, default=None\n",
        "Controla tanto a aleatoriedade do bootstrap das amostras usadas ao construir árvores (if bootstrap=True) quanto a amostragem dos recursos a serem considerados ao procurar a melhor divisão em cada nó (if ). Consulte o Glossário para obter detalhes.max_features < n_features\n",
        "\n",
        "**inteiro:** detalhado , padrão = 0\n",
        "Controla a verbosidade ao ajustar e prever."
      ],
      "metadata": {
        "id": "lK9_NNuBtONc"
      }
    },
    {
      "cell_type": "code",
      "source": [
        "from sklearn.ensemble import RandomForestClassifier\n",
        "\n",
        "clf = RandomForestClassifier(max_depth=2, random_state=0)"
      ],
      "metadata": {
        "id": "ks8GzwidtEiQ"
      },
      "execution_count": null,
      "outputs": []
    },
    {
      "cell_type": "markdown",
      "source": [
        "### 8.1 Random Forest com titanic"
      ],
      "metadata": {
        "id": "B65qC7c6uInO"
      }
    },
    {
      "cell_type": "code",
      "source": [
        "from sklearn.model_selection import cross_val_score\n",
        "\n",
        "scores = cross_val_score(clf, titanic.drop(columns=['Sobreviveu']), titanic['Sobreviveu'], cv=5, scoring='accuracy')\n",
        "scores"
      ],
      "metadata": {
        "colab": {
          "base_uri": "https://localhost:8080/"
        },
        "id": "vg9a7EtCuILr",
        "outputId": "8e581d84-f560-49e4-f0a4-01304359602d"
      },
      "execution_count": null,
      "outputs": [
        {
          "output_type": "execute_result",
          "data": {
            "text/plain": [
              "array([0.42763158, 0.81456954, 0.79470199, 0.78807947, 0.58940397])"
            ]
          },
          "metadata": {},
          "execution_count": 85
        }
      ]
    },
    {
      "cell_type": "code",
      "source": [
        "X_train, X_test, y_train, y_test = get_xy_titanic()\n",
        "clf.fit(X_train,y_train)\n",
        "resultado = clf.predict(X_test)\n",
        "resultado"
      ],
      "metadata": {
        "colab": {
          "base_uri": "https://localhost:8080/"
        },
        "id": "h1I5SPbeuWmF",
        "outputId": "ccdfb588-df31-481b-e47a-1a808aec753e"
      },
      "execution_count": null,
      "outputs": [
        {
          "output_type": "execute_result",
          "data": {
            "text/plain": [
              "array([1, 1, 1, 1, 1, 0, 1, 0, 0, 1, 0, 0, 0, 0, 0, 0, 1, 0, 1, 1, 0, 0,\n",
              "       1, 0, 0, 1, 0, 0, 1, 1, 0, 0, 1, 0, 0, 0, 0, 0, 1, 0, 0, 0, 0, 1,\n",
              "       0, 0, 0, 0, 0, 1, 1, 1, 1, 1, 0, 0, 0, 0, 0, 1, 0, 0, 0, 0, 0, 0,\n",
              "       0, 1, 0, 0, 1, 0, 0, 0, 0, 0, 1, 0, 0, 0, 1, 1, 0, 0, 0, 1, 0, 1,\n",
              "       0, 0, 0, 0, 1, 0, 1, 1, 0, 1, 0, 0, 0, 0, 0, 0, 0, 0, 1, 0, 0, 0,\n",
              "       0, 1, 0, 1, 1, 1, 0, 0, 0, 0, 0, 0, 0, 1, 0, 0, 0, 0, 1, 0, 1, 0,\n",
              "       0, 1, 1, 1, 1, 0, 1, 0, 0, 0, 0, 0, 0, 1, 0, 0, 0, 0, 0, 1])"
            ]
          },
          "metadata": {},
          "execution_count": 86
        }
      ]
    },
    {
      "cell_type": "code",
      "source": [
        "#matriz de confusão\n",
        "print(pd.crosstab(y_test,resultado, rownames=['Real'], colnames=['Predito'], margins=True))"
      ],
      "metadata": {
        "colab": {
          "base_uri": "https://localhost:8080/"
        },
        "id": "e2TN65tNuc5G",
        "outputId": "344bd68a-c584-4a3e-f752-fe72cbb742a4"
      },
      "execution_count": null,
      "outputs": [
        {
          "output_type": "stream",
          "name": "stdout",
          "text": [
            "Predito    0   1  All\n",
            "Real                 \n",
            "0         82   7   89\n",
            "1         21  42   63\n",
            "All      103  49  152\n"
          ]
        }
      ]
    },
    {
      "cell_type": "code",
      "source": [
        "# outras metricas\n",
        "from sklearn import metrics\n",
        "print(metrics.classification_report(y_test,resultado))"
      ],
      "metadata": {
        "colab": {
          "base_uri": "https://localhost:8080/"
        },
        "id": "MOVs7bmTugm2",
        "outputId": "deaed5e6-8f41-4bd3-a89b-2cfc9bb01533"
      },
      "execution_count": null,
      "outputs": [
        {
          "output_type": "stream",
          "name": "stdout",
          "text": [
            "              precision    recall  f1-score   support\n",
            "\n",
            "           0       0.80      0.92      0.85        89\n",
            "           1       0.86      0.67      0.75        63\n",
            "\n",
            "    accuracy                           0.82       152\n",
            "   macro avg       0.83      0.79      0.80       152\n",
            "weighted avg       0.82      0.82      0.81       152\n",
            "\n"
          ]
        }
      ]
    },
    {
      "cell_type": "markdown",
      "source": [
        "### 8.2 Random Forest com Iris"
      ],
      "metadata": {
        "id": "Voc13c_cuj9j"
      }
    },
    {
      "cell_type": "code",
      "source": [
        "from sklearn.model_selection import cross_val_score\n",
        "\n",
        "scores = cross_val_score(clf, iris.drop(columns=['class']), iris['class'], cv=5, scoring='accuracy')\n",
        "scores"
      ],
      "metadata": {
        "colab": {
          "base_uri": "https://localhost:8080/"
        },
        "id": "XnzIKMzcuiaP",
        "outputId": "42202e5e-e7e2-42b5-f195-b38aa14c9743"
      },
      "execution_count": null,
      "outputs": [
        {
          "output_type": "execute_result",
          "data": {
            "text/plain": [
              "array([0.96666667, 0.96666667, 0.93333333, 0.9       , 1.        ])"
            ]
          },
          "metadata": {},
          "execution_count": 89
        }
      ]
    },
    {
      "cell_type": "code",
      "source": [
        "X_train, X_test, y_train, y_test = get_xy_iris()\n",
        "clf.fit(X_train,y_train)\n",
        "resultado = clf.predict(X_test)\n",
        "resultado"
      ],
      "metadata": {
        "colab": {
          "base_uri": "https://localhost:8080/"
        },
        "id": "MrqKWJYTuv_p",
        "outputId": "46f55076-7df0-4715-c511-863646977632"
      },
      "execution_count": null,
      "outputs": [
        {
          "output_type": "execute_result",
          "data": {
            "text/plain": [
              "array([2, 3, 1, 1, 1, 1, 1, 3, 2, 1, 2, 3, 2, 2, 3, 3, 1, 3, 1, 2, 2, 2,\n",
              "       2, 1, 3, 3, 3, 1, 2, 3])"
            ]
          },
          "metadata": {},
          "execution_count": 90
        }
      ]
    },
    {
      "cell_type": "code",
      "source": [
        "#matriz de confusão\n",
        "print(pd.crosstab(y_test,resultado, rownames=['Real'], colnames=['Predito'], margins=True))"
      ],
      "metadata": {
        "colab": {
          "base_uri": "https://localhost:8080/"
        },
        "id": "B051kc0ju093",
        "outputId": "8b2eabc5-1950-4206-b17a-758ed6912b80"
      },
      "execution_count": null,
      "outputs": [
        {
          "output_type": "stream",
          "name": "stdout",
          "text": [
            "Predito   1   2   3  All\n",
            "Real                    \n",
            "1        10   0   0   10\n",
            "2         0   9   1   10\n",
            "3         0   1   9   10\n",
            "All      10  10  10   30\n"
          ]
        }
      ]
    },
    {
      "cell_type": "code",
      "source": [
        "# outras metricas\n",
        "from sklearn import metrics\n",
        "print(metrics.classification_report(y_test,resultado))"
      ],
      "metadata": {
        "colab": {
          "base_uri": "https://localhost:8080/"
        },
        "id": "_AFwaSmau8xB",
        "outputId": "57e28a55-ccb7-4a6a-b557-990bf8e88918"
      },
      "execution_count": null,
      "outputs": [
        {
          "output_type": "stream",
          "name": "stdout",
          "text": [
            "              precision    recall  f1-score   support\n",
            "\n",
            "           1       1.00      1.00      1.00        10\n",
            "           2       0.90      0.90      0.90        10\n",
            "           3       0.90      0.90      0.90        10\n",
            "\n",
            "    accuracy                           0.93        30\n",
            "   macro avg       0.93      0.93      0.93        30\n",
            "weighted avg       0.93      0.93      0.93        30\n",
            "\n"
          ]
        }
      ]
    },
    {
      "cell_type": "markdown",
      "source": [
        "### 8.3 Random Forest com Digits"
      ],
      "metadata": {
        "id": "mpxC0SXzvBAg"
      }
    },
    {
      "cell_type": "code",
      "source": [
        "from sklearn.model_selection import cross_val_score\n",
        "\n",
        "scores = cross_val_score(clf, digits.data, digits.target, cv=5, scoring='accuracy')\n",
        "scores"
      ],
      "metadata": {
        "colab": {
          "base_uri": "https://localhost:8080/"
        },
        "id": "72RYdTJVvAIx",
        "outputId": "b95c7c87-5df7-4bdf-b150-51d6030236e7"
      },
      "execution_count": null,
      "outputs": [
        {
          "output_type": "execute_result",
          "data": {
            "text/plain": [
              "array([0.79444444, 0.78333333, 0.79108635, 0.81337047, 0.77994429])"
            ]
          },
          "metadata": {},
          "execution_count": 93
        }
      ]
    },
    {
      "cell_type": "code",
      "source": [
        "X_train, X_test, y_train, y_test = get_xy_digits()\n",
        "clf.fit(X_train,y_train)\n",
        "resultado = clf.predict(X_test)\n",
        "resultado"
      ],
      "metadata": {
        "colab": {
          "base_uri": "https://localhost:8080/"
        },
        "id": "OpTpu88yvJjM",
        "outputId": "49d18c75-cefb-4bd6-cf27-479da8116b85"
      },
      "execution_count": null,
      "outputs": [
        {
          "output_type": "execute_result",
          "data": {
            "text/plain": [
              "array([9, 3, 6, 1, 2, 8, 0, 0, 1, 6, 7, 2, 4, 9, 2, 0, 9, 9, 7, 9, 3, 7,\n",
              "       7, 7, 4, 2, 5, 0, 6, 4, 7, 9, 6, 2, 2, 2, 4, 3, 2, 3, 1, 6, 0, 4,\n",
              "       1, 7, 4, 6, 7, 7, 8, 6, 3, 7, 4, 1, 9, 2, 3, 7, 3, 9, 6, 4, 7, 7,\n",
              "       6, 3, 4, 1, 9, 6, 6, 3, 0, 1, 6, 2, 9, 5, 5, 3, 9, 6, 7, 2, 0, 2,\n",
              "       9, 5, 3, 6, 2, 0, 6, 6, 2, 0, 5, 2, 4, 2, 4, 0, 4, 6, 2, 7, 3, 2,\n",
              "       3, 5, 3, 1, 9, 3, 2, 7, 6, 7, 4, 3, 2, 0, 1, 7, 7, 1, 0, 9, 5, 5,\n",
              "       2, 9, 7, 3, 9, 3, 0, 2, 5, 2, 5, 7, 7, 9, 5, 5, 1, 7, 5, 9, 8, 7,\n",
              "       6, 0, 7, 7, 9, 4, 2, 6, 0, 3, 4, 2, 1, 9, 0, 4, 7, 0, 3, 7, 3, 9,\n",
              "       4, 4, 4, 5, 5, 4, 5, 9, 9, 7, 4, 1, 4, 9, 0, 4, 9, 1, 0, 3, 3, 6,\n",
              "       9, 9, 4, 2, 5, 6, 2, 4, 1, 7, 2, 3, 2, 4, 7, 6, 7, 1, 0, 7, 6, 3,\n",
              "       5, 7, 0, 8, 8, 3, 7, 6, 3, 0, 1, 5, 5, 0, 7, 9, 9, 2, 5, 2, 7, 0,\n",
              "       2, 4, 3, 1, 0, 1, 7, 5, 6, 5, 5, 5, 5, 0, 2, 2, 2, 2, 7, 0, 6, 3,\n",
              "       1, 4, 6, 7, 9, 5, 1, 2, 0, 9, 7, 0, 9, 6, 0, 0, 3, 1, 1, 6, 4, 4,\n",
              "       4, 2, 5, 6, 8, 6, 0, 8, 4, 4, 7, 3, 2, 9, 5, 2, 7, 6, 7, 5, 9, 3,\n",
              "       5, 8, 8, 1, 4, 0, 3, 2, 6, 9, 5, 4, 1, 0, 6, 0, 0, 3, 6, 7, 7, 9,\n",
              "       3, 0, 6, 2, 9, 7, 3, 0, 1, 0, 6, 2, 7, 3, 7, 3, 3, 6, 5, 6, 4, 2,\n",
              "       5, 2, 8, 1, 8, 6, 4, 4])"
            ]
          },
          "metadata": {},
          "execution_count": 94
        }
      ]
    },
    {
      "cell_type": "code",
      "source": [
        "#matriz de confusão\n",
        "print(pd.crosstab(y_test,resultado, rownames=['Real'], colnames=['Predito'], margins=True))"
      ],
      "metadata": {
        "colab": {
          "base_uri": "https://localhost:8080/"
        },
        "id": "W4I4LVfEvNU9",
        "outputId": "865269bb-3d26-48d4-fb47-ff4ec7a44c74"
      },
      "execution_count": null,
      "outputs": [
        {
          "output_type": "stream",
          "name": "stdout",
          "text": [
            "Predito   0   1   2   3   4   5   6   7   8   9  All\n",
            "Real                                                \n",
            "0        36   0   0   0   0   0   0   0   0   0   36\n",
            "1         0  18   5   1   2   2   3   2   2   2   37\n",
            "2         0   0  32   2   0   0   0   1   0   0   35\n",
            "3         1   0   3  29   0   0   2   2   0   0   37\n",
            "4         1   0   0   0  34   0   0   1   0   0   36\n",
            "5         0   0   0   1   0  32   0   0   0   3   36\n",
            "6         1   0   0   0   0   0  35   0   0   0   36\n",
            "7         0   0   0   0   1   0   0  35   0   0   36\n",
            "8         0   8   5   3   0   0   1   7   9   2   35\n",
            "9         0   1   0   3   1   0   0   1   0  30   36\n",
            "All      39  27  45  39  38  34  41  49  11  37  360\n"
          ]
        }
      ]
    },
    {
      "cell_type": "code",
      "source": [
        "from sklearn import metrics\n",
        "print(metrics.classification_report(y_test,resultado))"
      ],
      "metadata": {
        "colab": {
          "base_uri": "https://localhost:8080/"
        },
        "id": "zDl32DkpvRRO",
        "outputId": "9c7fe3a8-38ef-4613-cda3-07d27e43acd8"
      },
      "execution_count": null,
      "outputs": [
        {
          "output_type": "stream",
          "name": "stdout",
          "text": [
            "              precision    recall  f1-score   support\n",
            "\n",
            "           0       0.92      1.00      0.96        36\n",
            "           1       0.67      0.49      0.56        37\n",
            "           2       0.71      0.91      0.80        35\n",
            "           3       0.74      0.78      0.76        37\n",
            "           4       0.89      0.94      0.92        36\n",
            "           5       0.94      0.89      0.91        36\n",
            "           6       0.85      0.97      0.91        36\n",
            "           7       0.71      0.97      0.82        36\n",
            "           8       0.82      0.26      0.39        35\n",
            "           9       0.81      0.83      0.82        36\n",
            "\n",
            "    accuracy                           0.81       360\n",
            "   macro avg       0.81      0.81      0.79       360\n",
            "weighted avg       0.81      0.81      0.79       360\n",
            "\n"
          ]
        }
      ]
    },
    {
      "cell_type": "markdown",
      "source": [
        "# Parte 2 - Problemas de Regressão"
      ],
      "metadata": {
        "id": "oJ7ARv1lvv2z"
      }
    },
    {
      "cell_type": "markdown",
      "source": [
        "Dados os seguintes bancos de dados\n",
        "- Expectativa de Vida segundo a Organização Mundial de Saúde (https://www.kaggle.com/kumarajarshi/life-expectancy-who) ATENÇÃO: selecione apenas os registros referentes ao Brasil\n",
        "\n",
        "Dados os seguintes métodos de regressão: kNN,  GLM, Redes Neurais (MLP), SVM, Árvores de Regressão e Gradient Boosting\n",
        "\n",
        "Pede-se:\n",
        "a) Localize a documentação de cada método na biblioteca Scikit-Learn, e descreva os principais parâmetros de cada método;\n",
        "b) Treine modelos de cada algoritmo para cada banco de dados usando Validação Cruzada e mostre os melhores parâmetros encontrados de cada  modelo\n",
        "c) Mostre a Raiz do Erro Quadrático Médio (RMSE) e o Erro Percentual Absoluto Médio (MAPE) de cada modelo para cada banco de dados\n"
      ],
      "metadata": {
        "id": "Cb8sxuxBCzTJ"
      }
    },
    {
      "cell_type": "code",
      "source": [
        "import pandas as pd\n",
        "from google.colab import drive\n",
        "drive.mount('/content/drive')"
      ],
      "metadata": {
        "id": "R6z7GuYKvzb_",
        "colab": {
          "base_uri": "https://localhost:8080/"
        },
        "outputId": "cef60de7-7b7c-4112-dce7-8b7a497f82f5"
      },
      "execution_count": null,
      "outputs": [
        {
          "output_type": "stream",
          "name": "stdout",
          "text": [
            "Mounted at /content/drive\n"
          ]
        }
      ]
    },
    {
      "cell_type": "code",
      "source": [
        "df = pd.read_csv('/content/drive/MyDrive/datasets/Life Expectancy Data.csv')\n",
        "df = df[df['Country'] == \"Brazil\"]\n",
        "df.head()"
      ],
      "metadata": {
        "colab": {
          "base_uri": "https://localhost:8080/",
          "height": 322
        },
        "id": "jm8ng4vYEmLF",
        "outputId": "fe2b9e32-15d7-464d-ee2d-d562e8b78a21"
      },
      "execution_count": null,
      "outputs": [
        {
          "output_type": "execute_result",
          "data": {
            "text/html": [
              "\n",
              "  <div id=\"df-2af9d147-14a5-40d0-a45e-56c6af64f12f\">\n",
              "    <div class=\"colab-df-container\">\n",
              "      <div>\n",
              "<style scoped>\n",
              "    .dataframe tbody tr th:only-of-type {\n",
              "        vertical-align: middle;\n",
              "    }\n",
              "\n",
              "    .dataframe tbody tr th {\n",
              "        vertical-align: top;\n",
              "    }\n",
              "\n",
              "    .dataframe thead th {\n",
              "        text-align: right;\n",
              "    }\n",
              "</style>\n",
              "<table border=\"1\" class=\"dataframe\">\n",
              "  <thead>\n",
              "    <tr style=\"text-align: right;\">\n",
              "      <th></th>\n",
              "      <th>Country</th>\n",
              "      <th>Year</th>\n",
              "      <th>Status</th>\n",
              "      <th>Life expectancy</th>\n",
              "      <th>Adult Mortality</th>\n",
              "      <th>infant deaths</th>\n",
              "      <th>Alcohol</th>\n",
              "      <th>percentage expenditure</th>\n",
              "      <th>Hepatitis B</th>\n",
              "      <th>Measles</th>\n",
              "      <th>BMI</th>\n",
              "      <th>under-five deaths</th>\n",
              "      <th>Polio</th>\n",
              "      <th>Total expenditure</th>\n",
              "      <th>Diphtheria</th>\n",
              "      <th>HIV/AIDS</th>\n",
              "      <th>GDP</th>\n",
              "      <th>Population</th>\n",
              "      <th>thinness  1-19 years</th>\n",
              "      <th>thinness 5-9 years</th>\n",
              "      <th>Income composition of resources</th>\n",
              "      <th>Schooling</th>\n",
              "    </tr>\n",
              "  </thead>\n",
              "  <tbody>\n",
              "    <tr>\n",
              "      <th>352</th>\n",
              "      <td>Brazil</td>\n",
              "      <td>2015</td>\n",
              "      <td>Developing</td>\n",
              "      <td>75.0</td>\n",
              "      <td>142.0</td>\n",
              "      <td>42</td>\n",
              "      <td>NaN</td>\n",
              "      <td>0.000000</td>\n",
              "      <td>96.0</td>\n",
              "      <td>214</td>\n",
              "      <td>56.1</td>\n",
              "      <td>47</td>\n",
              "      <td>98.0</td>\n",
              "      <td>NaN</td>\n",
              "      <td>96.0</td>\n",
              "      <td>0.1</td>\n",
              "      <td>8757.26220</td>\n",
              "      <td>2596218.0</td>\n",
              "      <td>2.7</td>\n",
              "      <td>2.6</td>\n",
              "      <td>0.754</td>\n",
              "      <td>15.2</td>\n",
              "    </tr>\n",
              "    <tr>\n",
              "      <th>353</th>\n",
              "      <td>Brazil</td>\n",
              "      <td>2014</td>\n",
              "      <td>Developing</td>\n",
              "      <td>74.8</td>\n",
              "      <td>144.0</td>\n",
              "      <td>44</td>\n",
              "      <td>7.32</td>\n",
              "      <td>83.164654</td>\n",
              "      <td>96.0</td>\n",
              "      <td>876</td>\n",
              "      <td>55.3</td>\n",
              "      <td>49</td>\n",
              "      <td>96.0</td>\n",
              "      <td>8.32</td>\n",
              "      <td>93.0</td>\n",
              "      <td>0.1</td>\n",
              "      <td>1226.61731</td>\n",
              "      <td>24213133.0</td>\n",
              "      <td>2.7</td>\n",
              "      <td>2.7</td>\n",
              "      <td>0.747</td>\n",
              "      <td>15.2</td>\n",
              "    </tr>\n",
              "    <tr>\n",
              "      <th>354</th>\n",
              "      <td>Brazil</td>\n",
              "      <td>2013</td>\n",
              "      <td>Developing</td>\n",
              "      <td>74.7</td>\n",
              "      <td>146.0</td>\n",
              "      <td>46</td>\n",
              "      <td>7.24</td>\n",
              "      <td>916.270845</td>\n",
              "      <td>96.0</td>\n",
              "      <td>220</td>\n",
              "      <td>54.5</td>\n",
              "      <td>52</td>\n",
              "      <td>96.0</td>\n",
              "      <td>8.48</td>\n",
              "      <td>97.0</td>\n",
              "      <td>0.1</td>\n",
              "      <td>12216.94460</td>\n",
              "      <td>2248632.0</td>\n",
              "      <td>2.8</td>\n",
              "      <td>2.7</td>\n",
              "      <td>0.734</td>\n",
              "      <td>14.2</td>\n",
              "    </tr>\n",
              "    <tr>\n",
              "      <th>355</th>\n",
              "      <td>Brazil</td>\n",
              "      <td>2012</td>\n",
              "      <td>Developing</td>\n",
              "      <td>74.5</td>\n",
              "      <td>148.0</td>\n",
              "      <td>49</td>\n",
              "      <td>7.55</td>\n",
              "      <td>843.194626</td>\n",
              "      <td>96.0</td>\n",
              "      <td>2</td>\n",
              "      <td>53.6</td>\n",
              "      <td>54</td>\n",
              "      <td>96.0</td>\n",
              "      <td>8.26</td>\n",
              "      <td>95.0</td>\n",
              "      <td>0.1</td>\n",
              "      <td>12291.46685</td>\n",
              "      <td>256983.0</td>\n",
              "      <td>2.8</td>\n",
              "      <td>2.8</td>\n",
              "      <td>0.730</td>\n",
              "      <td>14.2</td>\n",
              "    </tr>\n",
              "    <tr>\n",
              "      <th>356</th>\n",
              "      <td>Brazil</td>\n",
              "      <td>2011</td>\n",
              "      <td>Developing</td>\n",
              "      <td>74.1</td>\n",
              "      <td>152.0</td>\n",
              "      <td>51</td>\n",
              "      <td>7.58</td>\n",
              "      <td>1084.999766</td>\n",
              "      <td>98.0</td>\n",
              "      <td>43</td>\n",
              "      <td>52.8</td>\n",
              "      <td>57</td>\n",
              "      <td>98.0</td>\n",
              "      <td>8.90</td>\n",
              "      <td>99.0</td>\n",
              "      <td>0.1</td>\n",
              "      <td>13167.47289</td>\n",
              "      <td>198686688.0</td>\n",
              "      <td>2.9</td>\n",
              "      <td>2.8</td>\n",
              "      <td>0.724</td>\n",
              "      <td>14.0</td>\n",
              "    </tr>\n",
              "  </tbody>\n",
              "</table>\n",
              "</div>\n",
              "      <button class=\"colab-df-convert\" onclick=\"convertToInteractive('df-2af9d147-14a5-40d0-a45e-56c6af64f12f')\"\n",
              "              title=\"Convert this dataframe to an interactive table.\"\n",
              "              style=\"display:none;\">\n",
              "        \n",
              "  <svg xmlns=\"http://www.w3.org/2000/svg\" height=\"24px\"viewBox=\"0 0 24 24\"\n",
              "       width=\"24px\">\n",
              "    <path d=\"M0 0h24v24H0V0z\" fill=\"none\"/>\n",
              "    <path d=\"M18.56 5.44l.94 2.06.94-2.06 2.06-.94-2.06-.94-.94-2.06-.94 2.06-2.06.94zm-11 1L8.5 8.5l.94-2.06 2.06-.94-2.06-.94L8.5 2.5l-.94 2.06-2.06.94zm10 10l.94 2.06.94-2.06 2.06-.94-2.06-.94-.94-2.06-.94 2.06-2.06.94z\"/><path d=\"M17.41 7.96l-1.37-1.37c-.4-.4-.92-.59-1.43-.59-.52 0-1.04.2-1.43.59L10.3 9.45l-7.72 7.72c-.78.78-.78 2.05 0 2.83L4 21.41c.39.39.9.59 1.41.59.51 0 1.02-.2 1.41-.59l7.78-7.78 2.81-2.81c.8-.78.8-2.07 0-2.86zM5.41 20L4 18.59l7.72-7.72 1.47 1.35L5.41 20z\"/>\n",
              "  </svg>\n",
              "      </button>\n",
              "      \n",
              "  <style>\n",
              "    .colab-df-container {\n",
              "      display:flex;\n",
              "      flex-wrap:wrap;\n",
              "      gap: 12px;\n",
              "    }\n",
              "\n",
              "    .colab-df-convert {\n",
              "      background-color: #E8F0FE;\n",
              "      border: none;\n",
              "      border-radius: 50%;\n",
              "      cursor: pointer;\n",
              "      display: none;\n",
              "      fill: #1967D2;\n",
              "      height: 32px;\n",
              "      padding: 0 0 0 0;\n",
              "      width: 32px;\n",
              "    }\n",
              "\n",
              "    .colab-df-convert:hover {\n",
              "      background-color: #E2EBFA;\n",
              "      box-shadow: 0px 1px 2px rgba(60, 64, 67, 0.3), 0px 1px 3px 1px rgba(60, 64, 67, 0.15);\n",
              "      fill: #174EA6;\n",
              "    }\n",
              "\n",
              "    [theme=dark] .colab-df-convert {\n",
              "      background-color: #3B4455;\n",
              "      fill: #D2E3FC;\n",
              "    }\n",
              "\n",
              "    [theme=dark] .colab-df-convert:hover {\n",
              "      background-color: #434B5C;\n",
              "      box-shadow: 0px 1px 3px 1px rgba(0, 0, 0, 0.15);\n",
              "      filter: drop-shadow(0px 1px 2px rgba(0, 0, 0, 0.3));\n",
              "      fill: #FFFFFF;\n",
              "    }\n",
              "  </style>\n",
              "\n",
              "      <script>\n",
              "        const buttonEl =\n",
              "          document.querySelector('#df-2af9d147-14a5-40d0-a45e-56c6af64f12f button.colab-df-convert');\n",
              "        buttonEl.style.display =\n",
              "          google.colab.kernel.accessAllowed ? 'block' : 'none';\n",
              "\n",
              "        async function convertToInteractive(key) {\n",
              "          const element = document.querySelector('#df-2af9d147-14a5-40d0-a45e-56c6af64f12f');\n",
              "          const dataTable =\n",
              "            await google.colab.kernel.invokeFunction('convertToInteractive',\n",
              "                                                     [key], {});\n",
              "          if (!dataTable) return;\n",
              "\n",
              "          const docLinkHtml = 'Like what you see? Visit the ' +\n",
              "            '<a target=\"_blank\" href=https://colab.research.google.com/notebooks/data_table.ipynb>data table notebook</a>'\n",
              "            + ' to learn more about interactive tables.';\n",
              "          element.innerHTML = '';\n",
              "          dataTable['output_type'] = 'display_data';\n",
              "          await google.colab.output.renderOutput(dataTable, element);\n",
              "          const docLink = document.createElement('div');\n",
              "          docLink.innerHTML = docLinkHtml;\n",
              "          element.appendChild(docLink);\n",
              "        }\n",
              "      </script>\n",
              "    </div>\n",
              "  </div>\n",
              "  "
            ],
            "text/plain": [
              "    Country  Year  ... Income composition of resources  Schooling\n",
              "352  Brazil  2015  ...                           0.754       15.2\n",
              "353  Brazil  2014  ...                           0.747       15.2\n",
              "354  Brazil  2013  ...                           0.734       14.2\n",
              "355  Brazil  2012  ...                           0.730       14.2\n",
              "356  Brazil  2011  ...                           0.724       14.0\n",
              "\n",
              "[5 rows x 22 columns]"
            ]
          },
          "metadata": {},
          "execution_count": 2
        }
      ]
    },
    {
      "cell_type": "code",
      "source": [
        "df = df.drop(columns=(['Country', 'Status']))"
      ],
      "metadata": {
        "id": "oZVCrYi7NYZi"
      },
      "execution_count": null,
      "outputs": []
    },
    {
      "cell_type": "code",
      "source": [
        "df.isnull().sum()"
      ],
      "metadata": {
        "colab": {
          "base_uri": "https://localhost:8080/"
        },
        "id": "z-0eTlnhOHsf",
        "outputId": "5451b5b8-8d8c-4484-9faf-d843577a8aac"
      },
      "execution_count": null,
      "outputs": [
        {
          "output_type": "execute_result",
          "data": {
            "text/plain": [
              "Year                               0\n",
              "Life expectancy                    0\n",
              "Adult Mortality                    0\n",
              "infant deaths                      0\n",
              "Alcohol                            1\n",
              "percentage expenditure             0\n",
              "Hepatitis B                        0\n",
              "Measles                            0\n",
              " BMI                               0\n",
              "under-five deaths                  0\n",
              "Polio                              0\n",
              "Total expenditure                  1\n",
              "Diphtheria                         0\n",
              " HIV/AIDS                          0\n",
              "GDP                                0\n",
              "Population                         0\n",
              " thinness  1-19 years              0\n",
              " thinness 5-9 years                0\n",
              "Income composition of resources    0\n",
              "Schooling                          0\n",
              "dtype: int64"
            ]
          },
          "metadata": {},
          "execution_count": 4
        }
      ]
    },
    {
      "cell_type": "code",
      "source": [
        "column_means = df.mean()\n",
        "df = df.fillna(column_means)"
      ],
      "metadata": {
        "id": "D4oEEMzHOOqz"
      },
      "execution_count": null,
      "outputs": []
    },
    {
      "cell_type": "code",
      "source": [
        "X = df.drop(columns=(['Life expectancy ']))\n",
        "y = df['Life expectancy ']"
      ],
      "metadata": {
        "id": "V_q9YYv3Lwa1"
      },
      "execution_count": null,
      "outputs": []
    },
    {
      "cell_type": "code",
      "source": [
        "from sklearn.model_selection import train_test_split \n",
        "\n",
        "X_train, X_test, y_train, y_test = train_test_split(X,y)\n"
      ],
      "metadata": {
        "id": "ki567YARfcOi"
      },
      "execution_count": null,
      "outputs": []
    },
    {
      "cell_type": "code",
      "source": [
        "X_train.shape, X_test.shape, y_train.shape, y_test.shape"
      ],
      "metadata": {
        "colab": {
          "base_uri": "https://localhost:8080/"
        },
        "id": "uxr18dC-hpHP",
        "outputId": "fd478fa1-f2bd-4053-df31-469a5c070fe5"
      },
      "execution_count": null,
      "outputs": [
        {
          "output_type": "execute_result",
          "data": {
            "text/plain": [
              "((12, 19), (4, 19), (12,), (4,))"
            ]
          },
          "metadata": {},
          "execution_count": 13
        }
      ]
    },
    {
      "cell_type": "markdown",
      "source": [
        "## 1 kNN"
      ],
      "metadata": {
        "id": "4vfVgdG5IP3z"
      }
    },
    {
      "cell_type": "markdown",
      "source": [
        "### Parâmetros"
      ],
      "metadata": {
        "id": "oS4KGMgEI5uy"
      }
    },
    {
      "cell_type": "markdown",
      "source": [
        "**n_vizinhos:** int, padrão=5\n",
        "Número de vizinhos a serem usados ​​por padrão para kneighborsconsultas.\n",
        "\n",
        "**pesos:** {'uniform', 'distance'} ou callable, default='uniform'\n",
        "Função de peso usada na previsão. Valores possíveis:\n",
        "\n",
        "* 'uniforme' : pesos uniformes. Todos os pontos em cada vizinhança são ponderados igualmente.\n",
        "\n",
        "* 'distance' : pontos de peso pelo inverso de sua distância. neste caso, os vizinhos mais próximos de um ponto de consulta terão uma influência maior do que os vizinhos mais distantes.\n",
        "\n",
        "* [callable] : uma função definida pelo usuário que aceita uma matriz de distâncias e retorna uma matriz da mesma forma contendo os pesos.\n",
        "\n",
        "Pesos uniformes são usados ​​por padrão.\n",
        "\n",
        "**algoritmo:** {'auto', 'ball_tree', 'kd_tree', 'brute'}, default='auto'\n",
        "Algoritmo usado para calcular os vizinhos mais próximos:\n",
        "\n",
        "* 'ball_tree' usaráBallTree\n",
        "\n",
        "* 'kd_tree' usaráKDTree\n",
        "\n",
        "* 'brute' usará uma pesquisa de força bruta.\n",
        "\n",
        "* 'auto' tentará decidir o algoritmo mais apropriado com base nos valores passados ​​para o fitmétodo.\n",
        "\n",
        "Nota: o ajuste na entrada esparsa substituirá a configuração deste parâmetro, usando força bruta.\n",
        "\n",
        "**leaf_size:** int, padrão=30\n",
        "Tamanho da folha passado para BallTree ou KDTree. Isso pode afetar a velocidade da construção e da consulta, bem como a memória necessária para armazenar a árvore. O valor ótimo depende da natureza do problema.\n",
        "\n",
        "**p:** int, padrão=2\n",
        "Parâmetro de potência para a métrica Minkowski. Quando p = 1, isso é equivalente a usar distância_manhattan (l1) e distância_euclidiana (l2) para p = 2. Para p arbitrário, é usado distância_minkowski (l_p).\n",
        "\n",
        "**str métrica:** ou callable, default='minkowski'\n",
        "A métrica de distância a ser usada para a árvore. A métrica padrão é minkowski, e com p=2 é equivalente à métrica euclidiana padrão. Consulte a documentação de DistanceMetricpara obter uma lista de métricas disponíveis. Se a métrica for “pré-calculada”, assume-se que X é uma matriz de distância e deve ser quadrada durante o ajuste. X pode ser um grafo esparso , caso em que apenas elementos “diferentes de zero” podem ser considerados vizinhos.\n",
        "\n",
        "**metric_params:** dict, default=Nenhum\n",
        "Argumentos de palavra-chave adicionais para a função de métrica.\n",
        "\n",
        "**n_jobs:** int, default=Nenhum\n",
        "O número de trabalhos paralelos a serem executados para pesquisa de vizinhos. Nonesignifica 1 a menos que em um joblib.parallel_backendcontexto. -1significa usar todos os processadores. Consulte o Glossário para obter mais detalhes. Não afeta o fitmétodo."
      ],
      "metadata": {
        "id": "Ic-GMXGTI8z8"
      }
    },
    {
      "cell_type": "markdown",
      "source": [
        "### Modelo"
      ],
      "metadata": {
        "id": "Y8CeZmVjJy7U"
      }
    },
    {
      "cell_type": "code",
      "source": [
        "from sklearn.neighbors import KNeighborsRegressor\n",
        "neigh = KNeighborsRegressor(n_neighbors=2)\n",
        "neigh.fit(X_train,y_train)"
      ],
      "metadata": {
        "id": "WoBGAwxXJ31r"
      },
      "execution_count": null,
      "outputs": []
    },
    {
      "cell_type": "code",
      "source": [
        "# RMSE\n",
        "from sklearn.metrics import mean_squared_error\n",
        "\n",
        "y_pred = neigh.predict(X_test)\n",
        "mean_squared_error(y_test, y_pred)"
      ],
      "metadata": {
        "id": "S9y0syEDWN8Y",
        "colab": {
          "base_uri": "https://localhost:8080/"
        },
        "outputId": "dc6eff2b-2e14-452d-b5fd-aca1681f6492"
      },
      "execution_count": null,
      "outputs": [
        {
          "output_type": "execute_result",
          "data": {
            "text/plain": [
              "1.593124999999977"
            ]
          },
          "metadata": {},
          "execution_count": 16
        }
      ]
    },
    {
      "cell_type": "code",
      "source": [
        "# MAPE\n",
        "from sklearn.metrics import mean_absolute_percentage_error\n",
        "mean_absolute_percentage_error(y_test, y_pred)"
      ],
      "metadata": {
        "id": "nUOez3VEWTWN",
        "outputId": "480eff57-3f96-4c34-f1d0-a5e6c51830c6",
        "colab": {
          "base_uri": "https://localhost:8080/"
        }
      },
      "execution_count": null,
      "outputs": [
        {
          "output_type": "execute_result",
          "data": {
            "text/plain": [
              "0.015677332024119466"
            ]
          },
          "metadata": {},
          "execution_count": 17
        }
      ]
    },
    {
      "cell_type": "markdown",
      "source": [
        "## 2 GLM"
      ],
      "metadata": {
        "id": "hF5URQDgimGk"
      }
    },
    {
      "cell_type": "markdown",
      "source": [
        "### Parâmetros"
      ],
      "metadata": {
        "id": "rs0AowTXisQR"
      }
    },
    {
      "cell_type": "markdown",
      "source": [
        "**fit_intercept:** bool, default=True\n",
        "        Whether to calculate the intercept for this model. If set\n",
        "        to False, no intercept will be used in calculations\n",
        "        (i.e. data is expected to be centered).\n",
        "\n",
        "**normalize:** bool, default=False\n",
        "        This parameter is ignored when ``fit_intercept`` is set to False.\n",
        "        If True, the regressors X will be normalized before regression by\n",
        "        subtracting the mean and dividing by the l2-norm.\n",
        "        If you wish to standardize, please use :class:`~sklearn.preprocessing.StandardScaler` before calling ``fit``  on an estimator with ``normalize=False``.\n",
        "\n",
        "\n",
        "**copy_X:** bool, default=True\n",
        "        If True, X will be copied; else, it may be overwritten.\n",
        "\n",
        "**n_jobs:** int, default=None\n",
        "        The number of jobs to use for the computation. This will only provide\n",
        "        speedup in case of sufficiently large problems, that is if firstly\n",
        "        `n_targets > 1` and secondly `X` is sparse or if `positive` is set\n",
        "        to `True`. ``None`` means 1 unless in a\n",
        "        :obj:`joblib.parallel_backend` context. ``-1`` means using all\n",
        "        processors. See :term:`Glossary <n_jobs>` for more details.\n",
        "\n",
        "**positive:** bool, default=False\n",
        "        When set to ``True``, forces the coefficients to be positive. This\n",
        "        option is only supported for dense arrays."
      ],
      "metadata": {
        "id": "LZBBj_4AivTw"
      }
    },
    {
      "cell_type": "markdown",
      "source": [
        "### Modelo"
      ],
      "metadata": {
        "id": "JYOc62q9jyxa"
      }
    },
    {
      "cell_type": "code",
      "source": [
        "from  sklearn  import  linear_model \n",
        "clf = linear_model.LinearRegression() \n",
        "clf.fit(X_train, y_train)\n",
        "y_pred = clf.predict(X_test)"
      ],
      "metadata": {
        "id": "ZN11kN2Diraw"
      },
      "execution_count": null,
      "outputs": []
    },
    {
      "cell_type": "code",
      "source": [
        "# RMSE\n",
        "from sklearn.metrics import mean_squared_error\n",
        "\n",
        "y_pred = clf.predict(X_test)\n",
        "mean_squared_error(y_test, y_pred)"
      ],
      "metadata": {
        "colab": {
          "base_uri": "https://localhost:8080/"
        },
        "id": "WFiscwEDkG-5",
        "outputId": "77f81476-554e-4f61-eaba-9486c66581ce"
      },
      "execution_count": null,
      "outputs": [
        {
          "output_type": "execute_result",
          "data": {
            "text/plain": [
              "16.166033351861117"
            ]
          },
          "metadata": {},
          "execution_count": 23
        }
      ]
    },
    {
      "cell_type": "code",
      "source": [
        "# MAPE\n",
        "from sklearn.metrics import mean_absolute_percentage_error\n",
        "mean_absolute_percentage_error(y_test, y_pred)"
      ],
      "metadata": {
        "colab": {
          "base_uri": "https://localhost:8080/"
        },
        "id": "A0_82p9pkJ12",
        "outputId": "d1c44f9f-c4cf-4e00-f38b-932f17b22f5e"
      },
      "execution_count": null,
      "outputs": [
        {
          "output_type": "execute_result",
          "data": {
            "text/plain": [
              "0.04851277910629965"
            ]
          },
          "metadata": {},
          "execution_count": 24
        }
      ]
    },
    {
      "cell_type": "markdown",
      "source": [
        "## 3 Redes Neurais (MLP)"
      ],
      "metadata": {
        "id": "bVIoWEv4k-E6"
      }
    },
    {
      "cell_type": "markdown",
      "source": [
        "### Parâmetros"
      ],
      "metadata": {
        "id": "A2ubRoIOoTNL"
      }
    },
    {
      "cell_type": "markdown",
      "source": [
        "**Tupla escondida_camada_tamanhos:** , comprimento = n_camadas - 2, padrão=(100,)\n",
        "O i-ésimo elemento representa o número de neurônios na i-ésima camada oculta.\n",
        "\n",
        "**ativação:** {'identidade', 'logística', 'tanh', 'relu'}, default='relu'\n",
        "Função de ativação para a camada oculta.\n",
        "\n",
        "* 'identity', ativação sem operação, útil para implementar gargalo linear, retorna f(x) = x\n",
        "\n",
        "* 'logística', a função sigmóide logística, retorna f(x) = 1 / (1 + exp(-x)).\n",
        "\n",
        "* 'tanh', a função tan hiperbólica, retorna f(x) = tanh(x).\n",
        "\n",
        "* 'relu', a função de unidade linear retificada, retorna f(x) = max(0, x)\n",
        "\n",
        "**solucionador:** {'lbfgs', 'sgd', 'adam'}, default='adam'\n",
        "O solucionador para otimização de peso.\n",
        "\n",
        "* 'lbfgs' é um otimizador na família de métodos quase-Newton.\n",
        "\n",
        "* 'sgd' refere-se à descida de gradiente estocástica.\n",
        "\n",
        "* 'adam' refere-se a um otimizador estocástico baseado em gradiente proposto por Kingma, Diederik e Jimmy Ba\n",
        "\n",
        "Observação: o solucionador padrão 'adam' funciona muito bem em conjuntos de dados relativamente grandes (com milhares de amostras de treinamento ou mais) em termos de tempo de treinamento e pontuação de validação. Para conjuntos de dados pequenos, no entanto, 'lbfgs' pode convergir mais rapidamente e ter melhor desempenho.\n",
        "\n",
        "**alfa:** flutuante, padrão = 0,0001\n",
        "Parâmetro de penalidade L2 (prazo de regularização).\n",
        "\n",
        "**batch_size:** int, default='auto'\n",
        "Tamanho de minilotes para otimizadores estocásticos. Se o solver for 'lbfgs', o classificador não usará o minilote. Quando definido como “automático”, .batch_size=min(200, n_samples)\n",
        "\n",
        "**learning_rate:** {'constant', 'invscaling', 'adaptive'}, default='constant'\n",
        "Cronograma de taxa de aprendizado para atualizações de peso.\n",
        "\n",
        "* 'constant' é uma taxa de aprendizado constante dada por 'learning_rate_init'.\n",
        "\n",
        "* 'invscaling' diminui gradualmente a taxa de aprendizado learning_rate_a cada passo de tempo 't' usando um expoente de escala inversa de 'power_t'. Effective_learning_rate = learning_rate_init / pow(t, power_t)\n",
        "\n",
        "* 'adaptativo' mantém a taxa de aprendizado constante para 'learning_rate_init' enquanto a perda de treinamento continua diminuindo. Cada vez que duas épocas consecutivas falham em diminuir a perda de treinamento em pelo menos tol, ou falham em aumentar a pontuação de validação em pelo menos tol se 'early_stopping' estiver ativado, a taxa de aprendizado atual é dividida por 5.\n",
        "\n",
        "Usado apenas quando solver='sgd'.\n",
        "\n",
        "**learning_rate_init:** float, padrão=0,001\n",
        "A taxa de aprendizado inicial usada. Ele controla o tamanho do passo na atualização dos pesos. Usado apenas quando solver='sgd' ou 'adam'.\n",
        "\n",
        "**power_t:** flutuante, padrão = 0,5\n",
        "O expoente para a taxa de aprendizado de escala inversa. Ele é usado na atualização da taxa de aprendizado efetiva quando o learning_rate é definido como 'invscaling'. Usado apenas quando solver='sgd'.\n",
        "\n",
        "**max_iter:** int, padrão=200\n",
        "Número máximo de iterações. O solver itera até a convergência (determinada por 'tol') ou este número de iterações. Para solucionadores estocásticos ('sgd', 'adam'), observe que isso determina o número de épocas (quantas vezes cada ponto de dados será usado), não o número de etapas de gradiente.\n",
        "\n",
        "**shuffle:** bool, default=True\n",
        "Se as amostras devem ser embaralhadas em cada iteração. Usado apenas quando solver='sgd' ou 'adam'.\n",
        "\n",
        "**random_state:** int, instância RandomState, default=None\n",
        "Determina a geração de números aleatórios para pesos e inicialização de viés, divisão de teste de treinamento se a parada antecipada for usada e amostragem de lote quando solver='sgd' ou 'adam'. Passe um int para resultados reproduzíveis em várias chamadas de função. Consulte Glossário ."
      ],
      "metadata": {
        "id": "zCrhRAvsoYGh"
      }
    },
    {
      "cell_type": "markdown",
      "source": [
        "### Modelo"
      ],
      "metadata": {
        "id": "lCljzakIpEh2"
      }
    },
    {
      "cell_type": "code",
      "source": [
        "from sklearn.neural_network import MLPRegressor\n",
        "regr = MLPRegressor().fit(X_train, y_train)\n",
        "y_pred = regr.predict(X_test)"
      ],
      "metadata": {
        "id": "-I0bUv0_pF1E"
      },
      "execution_count": null,
      "outputs": []
    },
    {
      "cell_type": "code",
      "source": [
        "# RMSE\n",
        "from sklearn.metrics import mean_squared_error\n",
        "\n",
        "y_pred = regr.predict(X_test)\n",
        "mean_squared_error(y_test, y_pred)"
      ],
      "metadata": {
        "colab": {
          "base_uri": "https://localhost:8080/"
        },
        "id": "hpnum9H6pZ-V",
        "outputId": "c8844997-0ff3-41b8-b8d8-43b7f14d0778"
      },
      "execution_count": null,
      "outputs": [
        {
          "output_type": "execute_result",
          "data": {
            "text/plain": [
              "7847788399075.029"
            ]
          },
          "metadata": {},
          "execution_count": 28
        }
      ]
    },
    {
      "cell_type": "code",
      "source": [
        "# MAPE\n",
        "from sklearn.metrics import mean_absolute_percentage_error\n",
        "mean_absolute_percentage_error(y_test, y_pred)"
      ],
      "metadata": {
        "colab": {
          "base_uri": "https://localhost:8080/"
        },
        "id": "-Ux0mDDupnz_",
        "outputId": "ec22ea1e-8957-4f3f-d972-5e1ea75f51e6"
      },
      "execution_count": null,
      "outputs": [
        {
          "output_type": "execute_result",
          "data": {
            "text/plain": [
              "33155.877681857986"
            ]
          },
          "metadata": {},
          "execution_count": 29
        }
      ]
    },
    {
      "cell_type": "markdown",
      "source": [
        "## 4 SVR"
      ],
      "metadata": {
        "id": "TX7nql-ep62D"
      }
    },
    {
      "cell_type": "markdown",
      "source": [
        "### Parâmetros"
      ],
      "metadata": {
        "id": "me8Y1gyGp_MX"
      }
    },
    {
      "cell_type": "markdown",
      "source": [
        "**kernel:** {'linear', 'poly', 'rbf', 'sigmoid', 'precomputed'} ou callable, default='rbf'\n",
        "Especifica o tipo de kernel a ser usado no algoritmo. Se nenhum for fornecido, 'rbf' será usado. Se um callable for fornecido, ele será usado para pré-computar a matriz do kernel.\n",
        "\n",
        "**grau:** int, padrão=3\n",
        "Grau da função kernel polinomial ('poli'). Ignorado por todos os outros kernels.\n",
        "\n",
        "**gama:** {'scale', 'auto'} ou float, default='scale'\n",
        "Coeficiente de kernel para 'rbf', 'poli' e 'sigmoid'.\n",
        "\n",
        "* se gamma='scale'(padrão) for passado, ele usará 1 / (n_features * X.var()) como valor de gama,\n",
        "\n",
        "* se 'auto', usa 1 / n_features.\n",
        "\n",
        "Alterado na versão 0.22: O valor padrão de gammamudou de 'auto' para 'scale'.\n",
        "\n",
        "**coef0:** flutuante, padrão = 0,0\n",
        "Termo independente na função kernel. Só é significativo em 'poli' e 'sigmóide'.\n",
        "\n",
        "**tol:** float, default=1e-3\n",
        "Tolerância para critério de parada.\n",
        "\n",
        "**C:** flutuante, padrão = 1,0\n",
        "Parâmetro de regularização. A força da regularização é inversamente proporcional a C. Deve ser estritamente positiva. A penalidade é uma penalidade de 12 ao quadrado.\n",
        "\n",
        "**épsilon:** float, padrão = 0,1\n",
        "Epsilon no modelo epsilon-SVR. Ele especifica o tubo epsilon dentro do qual nenhuma penalidade é associada na função de perda de treinamento com pontos previstos dentro de uma distância epsilon do valor real.\n",
        "\n",
        "**encolhendo:** bool, default=True\n",
        "Se deve ser usada a heurística de redução. Consulte o Guia do usuário .\n",
        "\n",
        "**cache_size:** float, default=200\n",
        "Especifique o tamanho do cache do kernel (em MB).\n",
        "\n",
        "**verbose:** bool, default=False\n",
        "Ative a saída detalhada. Observe que essa configuração tira proveito de uma configuração de tempo de execução por processo em libsvm que, se habilitada, pode não funcionar corretamente em um contexto multithread.\n",
        "\n",
        "**max_iter:** int, padrão=-1\n",
        "Limite rígido em iterações dentro do solver ou -1 para sem limite."
      ],
      "metadata": {
        "id": "IdALTrQRqBm-"
      }
    },
    {
      "cell_type": "markdown",
      "source": [
        "### Modelo"
      ],
      "metadata": {
        "id": "X1A-VrXjqY60"
      }
    },
    {
      "cell_type": "code",
      "source": [
        "from sklearn.svm import SVR\n",
        "regr = SVR().fit(X_train, y_train)\n",
        "y_pred = regr.predict(X_test)"
      ],
      "metadata": {
        "id": "q2heExu9ptaX"
      },
      "execution_count": null,
      "outputs": []
    },
    {
      "cell_type": "code",
      "source": [
        "# RMSE\n",
        "from sklearn.metrics import mean_squared_error\n",
        "\n",
        "y_pred = regr.predict(X_test)\n",
        "mean_squared_error(y_test, y_pred)"
      ],
      "metadata": {
        "colab": {
          "base_uri": "https://localhost:8080/"
        },
        "id": "VjKEXgZGq6AE",
        "outputId": "7a3c428c-a47b-4430-8b29-f50c1327960e"
      },
      "execution_count": null,
      "outputs": [
        {
          "output_type": "execute_result",
          "data": {
            "text/plain": [
              "0.9457878298047957"
            ]
          },
          "metadata": {},
          "execution_count": 32
        }
      ]
    },
    {
      "cell_type": "code",
      "source": [
        "# MAPE\n",
        "from sklearn.metrics import mean_absolute_percentage_error\n",
        "mean_absolute_percentage_error(y_test, y_pred)"
      ],
      "metadata": {
        "colab": {
          "base_uri": "https://localhost:8080/"
        },
        "id": "wL3_t_Jlq-39",
        "outputId": "e06008dc-8203-403a-a90d-3ecd539274d2"
      },
      "execution_count": null,
      "outputs": [
        {
          "output_type": "execute_result",
          "data": {
            "text/plain": [
              "0.011084440841298285"
            ]
          },
          "metadata": {},
          "execution_count": 33
        }
      ]
    },
    {
      "cell_type": "markdown",
      "source": [
        "## 5 Árvores de Regressão "
      ],
      "metadata": {
        "id": "qDR7geCCrTlD"
      }
    },
    {
      "cell_type": "markdown",
      "source": [
        "### Parâmetros"
      ],
      "metadata": {
        "id": "UrgfS0zOrWt8"
      }
    },
    {
      "cell_type": "markdown",
      "source": [
        "\n",
        "**critério:** {“squared_error”, “friedman_mse”, “absolute_error”, “poisson”}, default=”squared_error”\n",
        "A função para medir a qualidade de uma divisão. Os critérios suportados são “squared_error” para o erro quadrático médio, que é igual à redução de variância como critério de seleção de recursos e minimiza a perda L2 usando a média de cada nó terminal, “friedman_mse”, que usa erro quadrático médio com a pontuação de melhoria de Friedman para potencial splits, “absolute_error” para o erro médio absoluto, que minimiza a perda de L1 usando a mediana de cada nó terminal, e “poisson” que usa redução no desvio de Poisson para encontrar splits\n",
        "\n",
        "**divisor:** {“melhor”, “aleatório”}, padrão=”melhor”\n",
        "A estratégia utilizada para escolher a divisão em cada nó. As estratégias suportadas são “melhores” para escolher a melhor divisão e “aleatórias” para escolher a melhor divisão aleatória.\n",
        "\n",
        "**max_depth:** int, default=Nenhum\n",
        "A profundidade máxima da árvore. Se Nenhum, os nós são expandidos até que todas as folhas sejam puras ou até que todas as folhas contenham menos de min_samples_split amostras.\n",
        "\n",
        "**min_samples_split:** int ou float, default=2\n",
        "O número mínimo de amostras necessárias para dividir um nó interno:\n",
        "\n",
        "* Se int, então considere min_samples_splitcomo o número mínimo.\n",
        "\n",
        "* Se float, então min_samples_splité uma fração e é o número mínimo de amostras para cada divisão.ceil(min_samples_split * n_samples)"
      ],
      "metadata": {
        "id": "e_58aKW-rdFL"
      }
    },
    {
      "cell_type": "markdown",
      "source": [
        "### Modelo"
      ],
      "metadata": {
        "id": "aGL82Nk-rzRU"
      }
    },
    {
      "cell_type": "code",
      "source": [
        "from sklearn.tree import DecisionTreeRegressor\n",
        "regr = DecisionTreeRegressor().fit(X_train, y_train)\n",
        "y_pred = regr.predict(X_test)"
      ],
      "metadata": {
        "id": "_ragnofqrBc9"
      },
      "execution_count": null,
      "outputs": []
    },
    {
      "cell_type": "code",
      "source": [
        "# RMSE\n",
        "from sklearn.metrics import mean_squared_error\n",
        "\n",
        "y_pred = regr.predict(X_test)\n",
        "mean_squared_error(y_test, y_pred)"
      ],
      "metadata": {
        "colab": {
          "base_uri": "https://localhost:8080/"
        },
        "id": "HpHloUSXso_c",
        "outputId": "4a055395-958e-4480-e734-b4cd071c3645"
      },
      "execution_count": null,
      "outputs": [
        {
          "output_type": "execute_result",
          "data": {
            "text/plain": [
              "0.18250000000000272"
            ]
          },
          "metadata": {},
          "execution_count": 35
        }
      ]
    },
    {
      "cell_type": "code",
      "source": [
        "# MAPE\n",
        "from sklearn.metrics import mean_absolute_percentage_error\n",
        "mean_absolute_percentage_error(y_test, y_pred)"
      ],
      "metadata": {
        "colab": {
          "base_uri": "https://localhost:8080/"
        },
        "id": "qAPuHxu-sqmk",
        "outputId": "5be1dfed-7e6b-4694-f124-1402db6d3b23"
      },
      "execution_count": null,
      "outputs": [
        {
          "output_type": "execute_result",
          "data": {
            "text/plain": [
              "0.005102694840326657"
            ]
          },
          "metadata": {},
          "execution_count": 36
        }
      ]
    },
    {
      "cell_type": "markdown",
      "source": [
        "## 6 Gradient Boosting"
      ],
      "metadata": {
        "id": "wtQkDyD-tMNJ"
      }
    },
    {
      "cell_type": "markdown",
      "source": [
        "### Parâmetos"
      ],
      "metadata": {
        "id": "kYDKRQGztS7y"
      }
    },
    {
      "cell_type": "markdown",
      "source": [
        "**perda:** {'squared_error', 'absolute_error', 'huber', 'quantile'}, default='squared_error'\n",
        "Função de perda a ser otimizada. 'squared_error' refere-se ao erro quadrado para regressão. 'absolute_error' refere-se ao erro absoluto de regressão e é uma função de perda robusta. 'huber' é uma combinação dos dois. 'quantil' permite regressão quantílica (use alphapara especificar o quantil).\n",
        "\n",
        "**taxa de aprendizado:** flutuante, padrão = 0,1\n",
        "A taxa de aprendizado reduz a contribuição de cada árvore em learning_rate. Há um trade-off entre learning_rate e n_estimators.\n",
        "\n",
        "**n_estimators:** int, padrão=100\n",
        "O número de estágios de reforço a serem executados. O aumento de gradiente é bastante robusto ao ajuste excessivo, portanto, um número grande geralmente resulta em melhor desempenho.\n",
        "\n",
        "**subamostra:** flutuante, padrão = 1,0\n",
        "A fração de amostras a ser usada para ajustar os alunos de base individuais. Se menor que 1,0, isso resulta em aumento de gradiente estocástico. subsampleinterage com o parâmetro n_estimators. A escolha leva a uma redução da variância e a um aumento no viés.subsample < 1.0\n",
        "\n",
        "**critério:** {'friedman_mse', 'squared_error', 'mse', 'mae'}, default='friedman_mse'\n",
        "A função para medir a qualidade de uma divisão. Os critérios suportados são “friedman_mse” para o erro quadrático médio com pontuação de melhoria por Friedman, “erro quadrado” para erro quadrático médio e “mae” para o erro absoluto médio. O valor padrão de “friedman_mse” geralmente é o melhor, pois pode fornecer uma melhor aproximação em alguns casos."
      ],
      "metadata": {
        "id": "aYqVzDXYteSW"
      }
    },
    {
      "cell_type": "markdown",
      "source": [
        "### Modelo"
      ],
      "metadata": {
        "id": "GrhclAF6ttp8"
      }
    },
    {
      "cell_type": "code",
      "source": [
        "from sklearn.ensemble import GradientBoostingRegressor\n",
        "regr = GradientBoostingRegressor().fit(X_train, y_train)\n",
        "y_pred = regr.predict(X_test)"
      ],
      "metadata": {
        "id": "V2vwVwaktvFG"
      },
      "execution_count": null,
      "outputs": []
    },
    {
      "cell_type": "code",
      "source": [
        "# RMSE\n",
        "from sklearn.metrics import mean_squared_error\n",
        "\n",
        "y_pred = regr.predict(X_test)\n",
        "mean_squared_error(y_test, y_pred)"
      ],
      "metadata": {
        "colab": {
          "base_uri": "https://localhost:8080/"
        },
        "id": "_qEsmrE0uGnC",
        "outputId": "4cd56d68-651e-4079-ca50-ddfb7083d4ce"
      },
      "execution_count": null,
      "outputs": [
        {
          "output_type": "execute_result",
          "data": {
            "text/plain": [
              "0.033339542699137394"
            ]
          },
          "metadata": {},
          "execution_count": 41
        }
      ]
    },
    {
      "cell_type": "code",
      "source": [
        "# MAPE\n",
        "from sklearn.metrics import mean_absolute_percentage_error\n",
        "mean_absolute_percentage_error(y_test, y_pred)"
      ],
      "metadata": {
        "colab": {
          "base_uri": "https://localhost:8080/"
        },
        "id": "1os-bM9PuMXD",
        "outputId": "448174d3-e688-4a72-b3a3-808ed673c9a9"
      },
      "execution_count": null,
      "outputs": [
        {
          "output_type": "execute_result",
          "data": {
            "text/plain": [
              "0.0019200517343904656"
            ]
          },
          "metadata": {},
          "execution_count": 42
        }
      ]
    }
  ]
}